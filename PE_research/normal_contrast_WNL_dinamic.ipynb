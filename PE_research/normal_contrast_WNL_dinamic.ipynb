{
 "cells": [
  {
   "cell_type": "code",
   "execution_count": 1,
   "id": "acoustic-presentation",
   "metadata": {},
   "outputs": [
    {
     "name": "stderr",
     "output_type": "stream",
     "text": [
      "Matplotlib created a temporary config/cache directory at /tmp/matplotlib-vcoz6g_h because the default path (/home/ubuntu/.config/matplotlib) is not a writable directory; it is highly recommended to set the MPLCONFIGDIR environment variable to a writable directory, in particular to speed up the import of Matplotlib and to better support multiprocessing.\n",
      "In /home/ubuntu/tensorflow/anaconda3/lib/python3.7/site-packages/matplotlib/mpl-data/stylelib/_classic_test.mplstyle: \n",
      "The text.latex.preview rcparam was deprecated in Matplotlib 3.3 and will be removed two minor releases later.\n",
      "In /home/ubuntu/tensorflow/anaconda3/lib/python3.7/site-packages/matplotlib/mpl-data/stylelib/_classic_test.mplstyle: \n",
      "The mathtext.fallback_to_cm rcparam was deprecated in Matplotlib 3.3 and will be removed two minor releases later.\n",
      "In /home/ubuntu/tensorflow/anaconda3/lib/python3.7/site-packages/matplotlib/mpl-data/stylelib/_classic_test.mplstyle: Support for setting the 'mathtext.fallback_to_cm' rcParam is deprecated since 3.3 and will be removed two minor releases later; use 'mathtext.fallback : 'cm' instead.\n",
      "In /home/ubuntu/tensorflow/anaconda3/lib/python3.7/site-packages/matplotlib/mpl-data/stylelib/_classic_test.mplstyle: \n",
      "The validate_bool_maybe_none function was deprecated in Matplotlib 3.3 and will be removed two minor releases later.\n",
      "In /home/ubuntu/tensorflow/anaconda3/lib/python3.7/site-packages/matplotlib/mpl-data/stylelib/_classic_test.mplstyle: \n",
      "The savefig.jpeg_quality rcparam was deprecated in Matplotlib 3.3 and will be removed two minor releases later.\n",
      "In /home/ubuntu/tensorflow/anaconda3/lib/python3.7/site-packages/matplotlib/mpl-data/stylelib/_classic_test.mplstyle: \n",
      "The keymap.all_axes rcparam was deprecated in Matplotlib 3.3 and will be removed two minor releases later.\n",
      "In /home/ubuntu/tensorflow/anaconda3/lib/python3.7/site-packages/matplotlib/mpl-data/stylelib/_classic_test.mplstyle: \n",
      "The animation.avconv_path rcparam was deprecated in Matplotlib 3.3 and will be removed two minor releases later.\n",
      "In /home/ubuntu/tensorflow/anaconda3/lib/python3.7/site-packages/matplotlib/mpl-data/stylelib/_classic_test.mplstyle: \n",
      "The animation.avconv_args rcparam was deprecated in Matplotlib 3.3 and will be removed two minor releases later.\n"
     ]
    },
    {
     "name": "stdout",
     "output_type": "stream",
     "text": [
      "PyTorch Version:  1.5.0+cu101\n",
      "Torchvision Version:  0.6.0+cu101\n"
     ]
    }
   ],
   "source": [
    "import torch\n",
    "import torch.nn as nn\n",
    "import torch.nn.functional as F \n",
    "import time\n",
    "import random\n",
    "import datetime\n",
    "import os\n",
    "import numpy as np\n",
    "import torch.optim as optim\n",
    "import matplotlib.pyplot as plt\n",
    "from torch import Tensor\n",
    "import functools\n",
    "from torchvision import datasets, transforms\n",
    "from torch.nn.modules.loss import _Loss\n",
    "from torch.utils.data import DataLoader\n",
    "import torchvision\n",
    "from model.drn import drn_d_54, drn_d_base\n",
    "from model.CBAM import drn_d_CBAM, drn_d_CBAM_P\n",
    "from model.resnet import ResNet50 as resnet\n",
    "from model.efficientnet import *\n",
    "from load_data import *\n",
    "from optimizer import Ranger\n",
    "from collections import Counter\n",
    "from sklearn.metrics import roc_curve, auc\n",
    "from sklearn.metrics import recall_score,accuracy_score, precision_score,f1_score"
   ]
  },
  {
   "cell_type": "code",
   "execution_count": 2,
   "id": "welcome-independence",
   "metadata": {},
   "outputs": [],
   "source": [
    "from torch.autograd import Variable\n",
    "from torch.autograd import Function\n",
    "from torchvision import models\n",
    "from torchvision import utils\n",
    "import cv2\n",
    "import sys"
   ]
  },
  {
   "cell_type": "code",
   "execution_count": 3,
   "id": "limiting-deputy",
   "metadata": {},
   "outputs": [],
   "source": [
    "device = torch.device(\"cuda\" if torch.cuda.is_available() else \"cpu\")\n",
    "torch.cuda.set_device(0)\n",
    "test_size = 0.2\n",
    "valid_size = 0.3\n",
    "train_size = 0.5\n",
    "batch_size = 4\n",
    "test_bs = 4\n",
    "random.seed(time.time())"
   ]
  },
  {
   "cell_type": "code",
   "execution_count": 4,
   "id": "falling-retreat",
   "metadata": {},
   "outputs": [],
   "source": [
    "class Focal_Loss(_Loss):\n",
    "    def __init__(self, alpha = 1 , gamma = 1 , logits = False, reduce = False, ignore_index=10000, from_logits=False):\n",
    "        super(Focal_Loss, self).__init__()\n",
    "        self.alpha = alpha\n",
    "        self.gamma = gamma\n",
    "        self.ignore_index = ignore_index\n",
    "        self.logits = logits\n",
    "        self.reduce = reduce\n",
    "        self.loss  = nn.BCELoss(weight = torch.Tensor([3.0, 1.0]).to(device))\n",
    "    def forward(self, inputs, targets):\n",
    "        #CE = F.cross_entropy(inputs, targets, weight = torch.Tensor([1.0, 4.0]).to(device), ignore_index=self.ignore_index)\n",
    "        inputs = torch.sigmoid(inputs)\n",
    "        #print(inputs.shape, targets.shape)\n",
    "        CE = self.loss(inputs, targets)\n",
    "        pt = torch.exp(-CE)\n",
    "        F_loss = self.alpha * (1-pt)**self.gamma * CE\n",
    "\n",
    "        if self.reduce:\n",
    "            return torch.mean(F_loss)\n",
    "        else:\n",
    "            return F_loss\n",
    "\n",
    "class Hswish(nn.Module):\n",
    "    def forward(self, x):\n",
    "        swish = F.relu6(x + 3 , inplace = True)\n",
    "        return x* swish/6.\n",
    "\n",
    "class conv_set(nn.Module):\n",
    "    \"\"\"docstring for conv_set\"\"\"\n",
    "    def __init__(self, in_ch, out_ch, kernel_size, stride, padding):\n",
    "        super(conv_set, self).__init__()\n",
    "        self.conv = nn.Sequential(\n",
    "            nn.Conv2d(in_ch, out_ch, kernel_size, stride, padding, bias = False),\n",
    "            nn.BatchNorm2d(out_ch),\n",
    "            Hswish()\n",
    "            )\n",
    "    def forward(self, x):\n",
    "        out = self.conv(x)\n",
    "        return out\n",
    "\n",
    "class A_net(nn.Module):\n",
    "\n",
    "    def __init__(self, classes):\n",
    "        super(A_net, self).__init__()\n",
    "        self.classes = classes\n",
    "        self.conv  = nn.Conv2d(1, 3, 1, 1, 0)\n",
    "        self.conv1 = conv_set(3,12,3,1,0)\n",
    "        self.conv2 = conv_set(12,16,3,1,0)\n",
    "        self.conv3 = conv_set(16,32,3,1,0)\n",
    "        self.conv4 = conv_set(32,classes,3,1,2)\n",
    "        #self.conv5 = conv_set(64,classes,3,1,0)\n",
    "    def forward(self, x):\n",
    "        x = self.conv(x)\n",
    "        out = self.conv1(x)\n",
    "        out = F.max_pool2d(out, 2,2)\n",
    "        out = self.conv2(out)\n",
    "        out = F.max_pool2d(out, 2,2)\n",
    "        out = self.conv3(out)\n",
    "        out = F.max_pool2d(out, 2,2)\n",
    "        out = self.conv4(out)\n",
    "        return out \n",
    "    \n",
    "class CNNXR(nn.Module):\n",
    "    \n",
    "    def __init__(self, backbone = 'drn', out_stride = 16, num_class = 2):\n",
    "        super(CNNXR, self).__init__()\n",
    "        \n",
    "        if backbone == 'drn':\n",
    "            output_stride = 8\n",
    "        #self.model = drn_d_base(nn.BatchNorm2d)\n",
    "        #self.drn = gc_drn_54(nn.BatchNorm2d)\n",
    "        #self.model = mixnet_l()\n",
    "        self.model = resnet()\n",
    "        #self.model = drn_d_CBAM(nn.BatchNorm2d)\n",
    "        self.attention = A_net(400)\n",
    "        self.conv_out = nn.Conv2d(512,2,1)\n",
    "        self.maxpool = nn.MaxPool2d(1)\n",
    "        self._dropout = nn.Dropout(0.25)\n",
    "        self.fc = nn.Linear(2048, 2)\n",
    "        self.fc = nn.Linear(2048, 2)\n",
    "        \n",
    "\n",
    "\n",
    "    def forward(self, input):\n",
    "        x = self.model(input)\n",
    "        #atten = self.attention(input)\n",
    "        #atten = torch.sigmoid(atten)\n",
    "        #x = torch.mul(x, atten)\n",
    "        #x = self.conv_out(x)\n",
    "        x = self.maxpool(x)\n",
    "        x = x.view(x.size(0), -1)\n",
    "        x = self.fc(x)\n",
    "        x = self._dropout(x)\n",
    "\n",
    "        return x\n",
    "    \n",
    "class CNNX1(nn.Module):\n",
    "    \n",
    "    def __init__(self, backbone = 'drn', out_stride = 16, num_class = 2):\n",
    "        super(CNNX1, self).__init__()\n",
    "        \n",
    "        if backbone == 'drn':\n",
    "            output_stride = 8\n",
    "        #self.drn = drn_d_base(nn.BatchNorm2d)\n",
    "        #self.drn = gc_drn_54(nn.BatchNorm2d)\n",
    "        #self.model = mixnet_l()\n",
    "        self.model = drn_d_CBAM(nn.BatchNorm2d)\n",
    "        #self.attention = A_net(512)\n",
    "        #self.conv_out = nn.Conv2d(512,2,1)\n",
    "        self.avgpool = nn.AdaptiveAvgPool2d(2)\n",
    "        self._dropout = nn.Dropout(0.25)\n",
    "        #self.fc = nn.Linear(2048, 2)\n",
    "        self.fc = nn.Linear(2048, 2)\n",
    "        \n",
    "\n",
    "\n",
    "    def forward(self, input):\n",
    "        x = self.model(input)\n",
    "       #atten = self.attention(input)\n",
    "       #atten = torch.sigmoid(atten)\n",
    "       #x = torch.mul(x, atten)\n",
    "        #x = self.conv_out(x)\n",
    "        x = self.avgpool(x)\n",
    "        x = x.view(x.size(0), -1)\n",
    "        x = self.fc(x)\n",
    "        #x = self._dropout(x)\n",
    "\n",
    "        return x\n",
    "\n",
    "class CNNX_P(nn.Module):\n",
    "    \n",
    "    def __init__(self, backbone = 'drn', out_stride = 16, num_class = 2):\n",
    "        super(CNNX_P, self).__init__()\n",
    "        \n",
    "        if backbone == 'drn':\n",
    "            output_stride = 8\n",
    "        #self.drn = drn_d_base(nn.BatchNorm2d)\n",
    "        #self.drn = gc_drn_54(nn.BatchNorm2d)\n",
    "        #self.model = mixnet_l()\n",
    "        self.model = drn_d_CBAM_P(nn.BatchNorm2d)\n",
    "        #self.attention = A_net(512)\n",
    "        #self.conv_out = nn.Conv2d(512,2,1)\n",
    "        self.avgpool = nn.AdaptiveAvgPool2d(2)\n",
    "        self._dropout = nn.Dropout(0.25)\n",
    "        #self.fc = nn.Linear(2048, 2)\n",
    "        self.fc = nn.Linear(2048, 2)\n",
    "        \n",
    "\n",
    "\n",
    "    def forward(self, input):\n",
    "        x = self.model(input)\n",
    "       #atten = self.attention(input)\n",
    "       #atten = torch.sigmoid(atten)\n",
    "       #x = torch.mul(x, atten)\n",
    "        #x = self.conv_out(x)\n",
    "        x = self.avgpool(x)\n",
    "        x = x.view(x.size(0), -1)\n",
    "        x = self.fc(x)\n",
    "        #x = self._dropout(x)\n",
    "\n",
    "        return x    \n",
    "    \n",
    "class EFFN(nn.Module):\n",
    "    \n",
    "    def __init__(self, backbone = 'drn', out_stride = 16, num_class = 2):\n",
    "        super(EFFN, self).__init__()\n",
    "        \n",
    "        if backbone == 'drn':\n",
    "            output_stride = 8\n",
    "        #self.drn = drn_d_base(nn.BatchNorm2d)\n",
    "        #self.drn = gc_drn_54(nn.BatchNorm2d)\n",
    "        #self.model = mixnet_l()\n",
    "        #self.model = drn_d_CBAM(nn.BatchNorm2d)\n",
    "        self.model = efficientnet_el()\n",
    "        #self.attention = A_net(512)\n",
    "        #self.conv_out = nn.Conv2d(512,2,1)\n",
    "        self.avgpool = nn.AdaptiveAvgPool2d(2)\n",
    "        self._dropout = nn.Dropout(0.25)\n",
    "        #self.fc = nn.Linear(2048, 2)\n",
    "        self.fc = nn.Linear(2048, 2)\n",
    "        \n",
    "\n",
    "\n",
    "    def forward(self, input):\n",
    "        x = self.model(input)\n",
    "       #atten = self.attention(input)\n",
    "       #atten = torch.sigmoid(atten)\n",
    "       #x = torch.mul(x, atten)\n",
    "        #x = self.conv_out(x)\n",
    "        #x = self.avgpool(x)\n",
    "        #x = x.view(x.size(0), -1)\n",
    "        #x = self.fc(x)\n",
    "        #x = self._dropout(x)\n",
    "\n",
    "        return x\n",
    "    \n",
    "class CNNX(nn.Module):\n",
    "    \n",
    "    def __init__(self, backbone = 'drn', out_stride = 16, num_class = 2):\n",
    "        super(CNNX, self).__init__()\n",
    "        \n",
    "        if backbone == 'drn':\n",
    "            output_stride = 8\n",
    "        #self.drn = drn_d_base(nn.BatchNorm2d)\n",
    "        #self.drn = gc_drn_54(nn.BatchNorm2d)\n",
    "        #self.model = mixnet_l()\n",
    "        self.model = resnet()\n",
    "        #self.model = drn_d_CBAM(nn.BatchNorm2d)\n",
    "        #self.attention = A_net(512)\n",
    "        #self.conv_out = nn.Conv2d(512,2,1)\n",
    "        self.avgpool = nn.AdaptiveAvgPool2d(1)\n",
    "        self._dropout = nn.Dropout(0.25)\n",
    "        #self.fc = nn.Linear(2048, 2)\n",
    "        self.fc = nn.Linear(2048, 2)\n",
    "        \n",
    "\n",
    "\n",
    "    def forward(self, input):\n",
    "        x = self.model(input)\n",
    "       #atten = self.attention(input)\n",
    "       #atten = torch.sigmoid(atten)\n",
    "       #x = torch.mul(x, atten)\n",
    "        #x = self.conv_out(x)\n",
    "        x = self.avgpool(x)\n",
    "        x = x.view(x.size(0), -1)\n",
    "        x = self.fc(x)\n",
    "        x = self._dropout(x)\n",
    "\n",
    "        return x\n",
    "\n",
    "def save_model(state,save_model_path,modelname):\n",
    "    filename = os.path.join(save_model_path,modelname+'_'+str(state['epoch']+1)+'.pth')\n",
    "    torch.save(state,filename)\n",
    "\n",
    "def save_best(state,save_model_path,modelname):\n",
    "    filename = os.path.join(save_model_path,modelname+'_'+'.pth')\n",
    "    torch.save(state,filename)\n",
    "\n",
    "def load_model(Net, optimizer, model_file):\n",
    "    assert os.path.exists(model_file),'There is no model file from'+model_file\n",
    "    checkpoint = torch.load(model_file)\n",
    "    print('load', model_file)\n",
    "    Net.load_state_dict(checkpoint['model_state_dict'])\n",
    "    start_epoch = checkpoint['epoch']+1\n",
    "    if optimizer is not None:\n",
    "        optimizer.load_state_dict(checkpoint['optimizer_state_dict'])\n",
    "    return Net, optimizer, start_epoch\n",
    "\n",
    "def train(model, data_loader, opt, loss, epoch,verbose = True):\n",
    "    model.train()\n",
    "    loss_avg = 0.0\n",
    "    correct = 0\n",
    "    for batch_idx, (data,target) in enumerate(data_loader):\n",
    "        #print(data.shape)\n",
    "        data, target = data.to(device), target.to(device)\n",
    "        optimizer.zero_grad()\n",
    "        output = model(data)\n",
    "        loss = loss_fn(output, target)\n",
    "        loss_avg = loss_avg + loss.item()\n",
    "        loss.backward()\n",
    "        optimizer.step()\n",
    "        pred = output.data.max(1, keepdim=True)[1] # get the index of the max log-probability\n",
    "        target = target[:,1].long()\n",
    "        correct += pred.eq(target.data.view_as(pred)).cpu().sum().item()\n",
    "        verbose_step = len(data_loader) \n",
    "        if (batch_idx+1)  % verbose_step == 0 and verbose:\n",
    "            print('Train Epoch: {}  Step [{}/{} ({:.0f}%)]  Loss: {:.6f}, Accuracy: {}/{} ({:.0f}%)\\n'.format(\n",
    "                epoch, batch_idx * len(data), len(train_idx),\n",
    "                100. * batch_idx / len(train_idx), loss.item(), correct, len(train_idx),\n",
    "            100. * correct / (len(train_idx))))\n",
    "    return loss_avg / (len(train_idx))\n",
    "\n",
    "def test(model, data_loader, loss):\n",
    "    with torch.no_grad():\n",
    "        model.eval()\n",
    "        test_loss = 0\n",
    "        correct = 0\n",
    "        correct_Triage = 0\n",
    "        correct_WNL = 0\n",
    "        y = []\n",
    "        y_score = []\n",
    "        y_pred = []\n",
    "        y_score = []\n",
    "        for data, target in data_loader:\n",
    "            data, target = data.to(device), target.to(device)\n",
    "            #print(target.shape)\n",
    "            output = model(data)\n",
    "            test_loss += loss_fn(output, target).item() # sum up batch loss\n",
    "            pred = output.data.max(1, keepdim=True)[1] # get the index of the max log-probability\n",
    "            #print(pred)\n",
    "            target = target[:,1].long()\n",
    "            correct += pred.eq(target.data.view_as(pred)).cpu().sum().item()\n",
    "            score = F.softmax(output, dim = 1)\n",
    "            for i in range(target.shape[0]):\n",
    "                y.append(target[i].cpu().numpy())\n",
    "                y_score.append(score[i,1].cpu().numpy())\n",
    "                y_pred.append(pred[i].cpu().numpy())\n",
    "                if target[i] == 1:\n",
    "                    correct_Triage += pred[i].eq(target[i].data.view_as(pred[i])).cpu().sum().item()\n",
    "    \n",
    "                if target[i] == 0:\n",
    "                    correct_WNL += pred[i].eq(target[i].data.view_as(pred[i])).cpu().sum().item()\n",
    "\n",
    "        test_loss /= len(data_loader.dataset)\n",
    "        print('\\nTest set: Average loss: {:.4f}, Accuracy: {}/{} ({:.0f}%), Triage_acc: ({}), WNL_acc: ({})\\n'.format(\n",
    "            test_loss, correct, len(data_loader.dataset),\n",
    "            100. * correct / len(data_loader.dataset), correct_Triage, correct_WNL))   \n",
    "    #return float(correct) / len(data_loader.dataset),y, y_score, y_pred\n",
    "    return float(correct) / len(data_loader.dataset)\n",
    "\n",
    "\n",
    "#net = EFFN().to(device)\n",
    "\n",
    "class TripletLoss(nn.Module):\n",
    "    \"\"\"Triplet loss with hard positive/negative mining.\n",
    "    Reference:\n",
    "    Hermans et al. In Defense of the Triplet Loss for Person Re-Identification. arXiv:1703.07737.\n",
    "    Code imported from https://github.com/Cysu/open-reid/blob/master/reid/loss/triplet.py.\n",
    "    Args:\n",
    "        margin (float): margin for triplet.\n",
    "    \"\"\"\n",
    "\n",
    "    def __init__(self, margin=0.6, mutual_flag=False):\n",
    "        super(TripletLoss, self).__init__()\n",
    "        self.margin = margin\n",
    "        self.ranking_loss = nn.MarginRankingLoss(margin=margin)\n",
    "        self.mutual = mutual_flag\n",
    "\n",
    "    def forward(self, inputs, targets):\n",
    "        \"\"\"\n",
    "        Args:\n",
    "            inputs: feature matrix with shape (batch_size, feat_dim)\n",
    "            targets: ground truth labels with shape (num_classes)\n",
    "        \"\"\"\n",
    "        n = inputs.size(0)\n",
    "        # inputs = 1. * inputs / (torch.norm(inputs, 2, dim=-1, keepdim=True).expand_as(inputs) + 1e-12)\n",
    "        # Compute pairwise distance, replace by the official when merged\n",
    "        dist = torch.pow(inputs, 2).sum(dim=1, keepdim=True).expand(n, n)\n",
    "        dist = dist + dist.t()\n",
    "        dist.addmm_(1, -2, inputs, inputs.t())\n",
    "        dist = dist.clamp(min=1e-12).sqrt()  # for numerical stability\n",
    "        # For each anchor, find the hardest positive and negative\n",
    "        targets = targets[:,1]\n",
    "        mask = targets.expand(n, n).eq(targets.expand(n, n).t())\n",
    "        dist_ap, dist_an = [], []\n",
    "        for i in range(n):\n",
    "            dist_ap.append(dist[i][mask[i]].max().unsqueeze(0))\n",
    "            dist_an.append(dist[i][mask[i] == 0].min().unsqueeze(0))\n",
    "        dist_ap = torch.cat(dist_ap)\n",
    "        dist_an = torch.cat(dist_an)\n",
    "        # Compute ranking hinge loss\n",
    "        y = torch.ones_like(dist_an)\n",
    "        loss = self.ranking_loss(dist_an, dist_ap, y)\n",
    "        if self.mutual:\n",
    "            return loss, dist\n",
    "        return loss\n",
    "\n",
    "class remix_loss(nn.Module):\n",
    "    \"\"\"docstring for remix_loss\"\"\"\n",
    "    def __init__(self):\n",
    "        super(remix_loss, self).__init__()\n",
    "        self.loss1 = Focal_Loss()\n",
    "        self.loss2 = TripletLoss()\n",
    "    def forward(self, inputs, targets):\n",
    "        loss = self.loss1(inputs, targets) + self.loss2(inputs, np.argmax(targets))\n",
    "\n",
    "        return loss "
   ]
  },
  {
   "cell_type": "markdown",
   "id": "alien-watts",
   "metadata": {},
   "source": [
    "## Data process"
   ]
  },
  {
   "cell_type": "code",
   "execution_count": 5,
   "id": "acute-visibility",
   "metadata": {
    "scrolled": true
   },
   "outputs": [
    {
     "name": "stdout",
     "output_type": "stream",
     "text": [
      "['/home/ubuntu/Andrew/lung_datatset/']\n",
      "1882 822\n"
     ]
    }
   ],
   "source": [
    "import glob\n",
    "\n",
    "folder_name =list(glob.glob('/home/ubuntu/Andrew/lung_datatset/'))\n",
    "print(folder_name)\n",
    "num_pic_1 = len(list(glob.glob('/home/ubuntu/Andrew/lung_datatset/PE/*'))+list(glob.glob('/home/ubuntu/Andrew/lung_datatset/no_PE/*')))\n",
    "num_pic_0 = len(list(glob.glob('/home/ubuntu/Andrew/lung_datatset/WNL/*')))\n",
    "print(num_pic_0,num_pic_1)"
   ]
  },
  {
   "cell_type": "code",
   "execution_count": 6,
   "id": "western-sunday",
   "metadata": {},
   "outputs": [
    {
     "name": "stdout",
     "output_type": "stream",
     "text": [
      "1882 822\n",
      "941 411 564 246\n",
      "941 411 564 246 377 165\n"
     ]
    }
   ],
   "source": [
    "CT_0 = list(glob.glob('/home/ubuntu/Andrew/lung_datatset/WNL/*'))\n",
    "CT_1 = list(glob.glob('/home/ubuntu/Andrew/lung_datatset/PE/*') + list(glob.glob('/home/ubuntu/Andrew/lung_datatset/no_PE/*')))\n",
    "#CT_1_1 = list(glob.glob('/home/ubuntu/Andrew/lung_datatset/no_PE/*'))\n",
    "#CT_1.append(CT_1_1)\n",
    "num_0 = len(CT_0)\n",
    "num_1 = len(CT_1)\n",
    "print(num_0,num_1)\n",
    "random.shuffle (CT_1)\n",
    "split_t_0 = int(train_size*num_pic_0)\n",
    "split_t_1 = int(train_size*num_pic_1)\n",
    "split_v_0 = int(valid_size*num_pic_0)\n",
    "split_v_1 = int(valid_size*num_pic_1)\n",
    "split_te_0 = int(test_size*num_pic_0)\n",
    "split_te_0 = int(test_size*num_pic_1)\n",
    "print(split_t_0,split_t_1,split_v_0,split_v_1)\n",
    "train_0 = CT_0[0:split_t_0]\n",
    "train_1 = CT_1[0:split_t_1]\n",
    "valid_0 = CT_0[split_t_0:split_t_0+split_v_0]\n",
    "valid_1 = CT_1[split_t_1:split_t_1+split_v_1]\n",
    "test_0 = CT_0[split_t_0+split_v_0:]\n",
    "test_1 = CT_1[split_t_1+split_v_1:]\n",
    "#test_0 = list(glob.glob('/home/ubuntu/Andrew/CT_CLA/v0/*'))\n",
    "#test_1 = list(glob.glob('/home/ubuntu/Andrew/CT_CLA/v1/*'))\n",
    "print(len(train_0),len(train_1),len(valid_0),len(valid_1),len(test_0),len(test_1))"
   ]
  },
  {
   "cell_type": "code",
   "execution_count": 7,
   "id": "working-spice",
   "metadata": {},
   "outputs": [],
   "source": [
    "def get_data(folder0, folder1, repeat):\n",
    "    class0_path = []\n",
    "    class1_path = []\n",
    "    target0 = []\n",
    "    target1 = []\n",
    "    for x in folder0:\n",
    "        #print(x)\n",
    "        class0 = x\n",
    "        #print(class0)\n",
    "        class0_path.append(class0)\n",
    "        target0.append(torch.tensor([1.0,0.0]).long())\n",
    "    for x in folder1:\n",
    "        #class1 = glob.glob(x + '/*dcm')\n",
    "        class1 = x\n",
    "        class1_path.append(class1)\n",
    "        target1.append(torch.tensor([0.0,1.0]).long())\n",
    "\n",
    "    #class0_path = random.sample(class0_path, k = len(class1_path))\n",
    "    #target0 = random.sample(target0, k = len(target1))\n",
    "    print(len(class0_path), len(class1_path))\n",
    "    file_path = class0_path + class1_path\n",
    "    target = target0 + target1\n",
    "    #print(file_path, target)\n",
    "    data = zip(file_path, target)\n",
    "    return data, len(class0_path), len(class1_path)"
   ]
  },
  {
   "cell_type": "code",
   "execution_count": 8,
   "id": "treated-cause",
   "metadata": {},
   "outputs": [
    {
     "name": "stdout",
     "output_type": "stream",
     "text": [
      "941 411\n",
      "564 246\n",
      "377 165\n"
     ]
    }
   ],
   "source": [
    "train_data, _, _ = get_data(train_0, train_1, 1)\n",
    "valid_data,pe0, pe1 = get_data(valid_0, valid_1, 1)\n",
    "test_data, _, _ = get_data(test_0, test_1, 1)"
   ]
  },
  {
   "cell_type": "code",
   "execution_count": 9,
   "id": "sustained-adrian",
   "metadata": {},
   "outputs": [
    {
     "name": "stdout",
     "output_type": "stream",
     "text": [
      "<class 'zip'>\n"
     ]
    }
   ],
   "source": [
    "print(type(train_data))"
   ]
  },
  {
   "cell_type": "code",
   "execution_count": 10,
   "id": "complex-baseball",
   "metadata": {},
   "outputs": [],
   "source": [
    "from load_data import *\n",
    "\n",
    "Train_Set = PE_dinamic(list(train_data), transform = None)\n",
    "Valid_Set = PE_dinamic(list(valid_data), transform = None)\n",
    "Test_Set = PE_dinamic(list(test_data), transform = None)"
   ]
  },
  {
   "cell_type": "code",
   "execution_count": 11,
   "id": "simple-anime",
   "metadata": {},
   "outputs": [],
   "source": [
    "num_train = len(list(Train_Set))\n",
    "num_valid = len(list(Valid_Set))\n",
    "indices = list(range(num_train))\n",
    "v_indices = list(range(num_valid))\n",
    "train_idx, valid_idx = indices, v_indices"
   ]
  },
  {
   "cell_type": "code",
   "execution_count": 12,
   "id": "limited-measure",
   "metadata": {},
   "outputs": [],
   "source": [
    "train_loader = DataLoader(Train_Set, batch_size=batch_size, shuffle = True,\n",
    "                        num_workers=8, pin_memory=True)\n",
    "valid_loader = DataLoader(Valid_Set, batch_size=test_bs, shuffle = False,\n",
    "                      num_workers=8, pin_memory=True)\n",
    "test_loader = DataLoader(Test_Set, batch_size=test_bs, shuffle = False,\n",
    "                      num_workers=8, pin_memory=True)"
   ]
  },
  {
   "cell_type": "code",
   "execution_count": 13,
   "id": "atmospheric-injury",
   "metadata": {},
   "outputs": [
    {
     "name": "stdout",
     "output_type": "stream",
     "text": [
      "Start training model dinamic_cut_DP_WNL\n"
     ]
    },
    {
     "name": "stderr",
     "output_type": "stream",
     "text": [
      "/home/ubuntu/tensorflow/anaconda3/lib/python3.7/site-packages/torch/nn/functional.py:1569: UserWarning: nn.functional.sigmoid is deprecated. Use torch.sigmoid instead.\n",
      "  warnings.warn(\"nn.functional.sigmoid is deprecated. Use torch.sigmoid instead.\")\n",
      "/pytorch/torch/csrc/utils/python_arg_parser.cpp:756: UserWarning: This overload of addcmul_ is deprecated:\n",
      "\taddcmul_(Number value, Tensor tensor1, Tensor tensor2)\n",
      "Consider using one of the following signatures instead:\n",
      "\taddcmul_(Tensor tensor1, Tensor tensor2, *, Number value)\n"
     ]
    },
    {
     "name": "stdout",
     "output_type": "stream",
     "text": [
      "Train Epoch: 0  Step [1348/1352 (25%)]  Loss: 0.276500, Accuracy: 988/1352 (73%)\n",
      "\n",
      "\n",
      "Test set: Average loss: 0.2160, Accuracy: 613/810 (76%), Triage_acc: (78), WNL_acc: (535)\n",
      "\n",
      "0.7567901234567901\n",
      "Train Epoch: 1  Step [1348/1352 (25%)]  Loss: 0.499191, Accuracy: 1030/1352 (76%)\n",
      "\n",
      "\n",
      "Test set: Average loss: 0.1030, Accuracy: 682/810 (84%), Triage_acc: (179), WNL_acc: (503)\n",
      "\n",
      "0.8419753086419753\n",
      "Train Epoch: 2  Step [1348/1352 (25%)]  Loss: 0.387797, Accuracy: 1117/1352 (83%)\n",
      "\n",
      "\n",
      "Test set: Average loss: 0.1782, Accuracy: 669/810 (83%), Triage_acc: (139), WNL_acc: (530)\n",
      "\n",
      "Train Epoch: 3  Step [1348/1352 (25%)]  Loss: 0.325701, Accuracy: 1125/1352 (83%)\n",
      "\n",
      "\n",
      "Test set: Average loss: 0.0782, Accuracy: 713/810 (88%), Triage_acc: (212), WNL_acc: (501)\n",
      "\n",
      "0.8802469135802469\n",
      "Train Epoch: 4  Step [1348/1352 (25%)]  Loss: 0.117962, Accuracy: 1167/1352 (86%)\n",
      "\n",
      "\n",
      "Test set: Average loss: 0.0897, Accuracy: 735/810 (91%), Triage_acc: (183), WNL_acc: (552)\n",
      "\n",
      "0.9074074074074074\n",
      "Train Epoch: 5  Step [1348/1352 (25%)]  Loss: 0.391854, Accuracy: 1204/1352 (89%)\n",
      "\n",
      "\n",
      "Test set: Average loss: 0.0620, Accuracy: 738/810 (91%), Triage_acc: (206), WNL_acc: (532)\n",
      "\n",
      "0.9111111111111111\n",
      "Train Epoch: 6  Step [1348/1352 (25%)]  Loss: 0.073407, Accuracy: 1211/1352 (90%)\n",
      "\n",
      "\n",
      "Test set: Average loss: 0.0666, Accuracy: 751/810 (93%), Triage_acc: (193), WNL_acc: (558)\n",
      "\n",
      "0.9271604938271605\n",
      "Train Epoch: 7  Step [1348/1352 (25%)]  Loss: 0.471709, Accuracy: 1237/1352 (91%)\n",
      "\n",
      "\n",
      "Test set: Average loss: 0.0802, Accuracy: 723/810 (89%), Triage_acc: (178), WNL_acc: (545)\n",
      "\n",
      "Train Epoch: 8  Step [1348/1352 (25%)]  Loss: 0.450000, Accuracy: 1205/1352 (89%)\n",
      "\n",
      "\n",
      "Test set: Average loss: 0.0405, Accuracy: 766/810 (95%), Triage_acc: (223), WNL_acc: (543)\n",
      "\n",
      "0.945679012345679\n",
      "Train Epoch: 9  Step [1348/1352 (25%)]  Loss: 0.017131, Accuracy: 1229/1352 (91%)\n",
      "\n",
      "\n",
      "Test set: Average loss: 0.0862, Accuracy: 731/810 (90%), Triage_acc: (238), WNL_acc: (493)\n",
      "\n",
      "Train Epoch: 10  Step [1348/1352 (25%)]  Loss: 0.108145, Accuracy: 1240/1352 (92%)\n",
      "\n",
      "\n",
      "Test set: Average loss: 0.0453, Accuracy: 753/810 (93%), Triage_acc: (232), WNL_acc: (521)\n",
      "\n",
      "Train Epoch: 11  Step [1348/1352 (25%)]  Loss: 0.319026, Accuracy: 1262/1352 (93%)\n",
      "\n",
      "\n",
      "Test set: Average loss: 0.0317, Accuracy: 769/810 (95%), Triage_acc: (236), WNL_acc: (533)\n",
      "\n",
      "0.9493827160493827\n",
      "Train Epoch: 12  Step [1348/1352 (25%)]  Loss: 0.075163, Accuracy: 1272/1352 (94%)\n",
      "\n",
      "\n",
      "Test set: Average loss: 0.0358, Accuracy: 760/810 (94%), Triage_acc: (217), WNL_acc: (543)\n",
      "\n",
      "Train Epoch: 13  Step [1348/1352 (25%)]  Loss: 0.000797, Accuracy: 1276/1352 (94%)\n",
      "\n",
      "\n",
      "Test set: Average loss: 0.0600, Accuracy: 742/810 (92%), Triage_acc: (196), WNL_acc: (546)\n",
      "\n",
      "Train Epoch: 14  Step [1348/1352 (25%)]  Loss: 0.045531, Accuracy: 1262/1352 (93%)\n",
      "\n",
      "\n",
      "Test set: Average loss: 0.0553, Accuracy: 755/810 (93%), Triage_acc: (195), WNL_acc: (560)\n",
      "\n",
      "Train Epoch: 15  Step [1348/1352 (25%)]  Loss: 0.009835, Accuracy: 1281/1352 (95%)\n",
      "\n",
      "\n",
      "Test set: Average loss: 0.0720, Accuracy: 732/810 (90%), Triage_acc: (191), WNL_acc: (541)\n",
      "\n",
      "Train Epoch: 16  Step [1348/1352 (25%)]  Loss: 0.191014, Accuracy: 1276/1352 (94%)\n",
      "\n",
      "\n",
      "Test set: Average loss: 0.0466, Accuracy: 759/810 (94%), Triage_acc: (233), WNL_acc: (526)\n",
      "\n",
      "Train Epoch: 17  Step [1348/1352 (25%)]  Loss: 0.029120, Accuracy: 1287/1352 (95%)\n",
      "\n",
      "\n",
      "Test set: Average loss: 0.0488, Accuracy: 759/810 (94%), Triage_acc: (207), WNL_acc: (552)\n",
      "\n",
      "Train Epoch: 18  Step [1348/1352 (25%)]  Loss: 0.005800, Accuracy: 1279/1352 (95%)\n",
      "\n",
      "\n",
      "Test set: Average loss: 0.0719, Accuracy: 734/810 (91%), Triage_acc: (186), WNL_acc: (548)\n",
      "\n",
      "Train Epoch: 19  Step [1348/1352 (25%)]  Loss: 0.016110, Accuracy: 1278/1352 (95%)\n",
      "\n",
      "\n",
      "Test set: Average loss: 0.0240, Accuracy: 776/810 (96%), Triage_acc: (227), WNL_acc: (549)\n",
      "\n",
      "0.9580246913580247\n",
      "Train Epoch: 20  Step [1348/1352 (25%)]  Loss: 0.011293, Accuracy: 1301/1352 (96%)\n",
      "\n",
      "\n",
      "Test set: Average loss: 0.0364, Accuracy: 761/810 (94%), Triage_acc: (230), WNL_acc: (531)\n",
      "\n",
      "Train Epoch: 21  Step [1348/1352 (25%)]  Loss: 0.062602, Accuracy: 1293/1352 (96%)\n",
      "\n",
      "\n",
      "Test set: Average loss: 0.0421, Accuracy: 764/810 (94%), Triage_acc: (242), WNL_acc: (522)\n",
      "\n",
      "Train Epoch: 22  Step [1348/1352 (25%)]  Loss: 0.000311, Accuracy: 1316/1352 (97%)\n",
      "\n",
      "\n",
      "Test set: Average loss: 0.0361, Accuracy: 777/810 (96%), Triage_acc: (219), WNL_acc: (558)\n",
      "\n",
      "0.9592592592592593\n",
      "Train Epoch: 23  Step [1348/1352 (25%)]  Loss: 0.007534, Accuracy: 1291/1352 (95%)\n",
      "\n",
      "\n",
      "Test set: Average loss: 0.0422, Accuracy: 767/810 (95%), Triage_acc: (214), WNL_acc: (553)\n",
      "\n",
      "Train Epoch: 24  Step [1348/1352 (25%)]  Loss: 0.096428, Accuracy: 1312/1352 (97%)\n",
      "\n",
      "\n",
      "Test set: Average loss: 0.0294, Accuracy: 770/810 (95%), Triage_acc: (237), WNL_acc: (533)\n",
      "\n",
      "Train Epoch: 25  Step [1348/1352 (25%)]  Loss: 0.000822, Accuracy: 1324/1352 (98%)\n",
      "\n",
      "\n",
      "Test set: Average loss: 0.0238, Accuracy: 776/810 (96%), Triage_acc: (222), WNL_acc: (554)\n",
      "\n",
      "Train Epoch: 26  Step [1348/1352 (25%)]  Loss: 0.249413, Accuracy: 1315/1352 (97%)\n",
      "\n",
      "\n",
      "Test set: Average loss: 0.0263, Accuracy: 779/810 (96%), Triage_acc: (222), WNL_acc: (557)\n",
      "\n",
      "0.9617283950617284\n",
      "Train Epoch: 27  Step [1348/1352 (25%)]  Loss: 0.025932, Accuracy: 1298/1352 (96%)\n",
      "\n",
      "\n",
      "Test set: Average loss: 0.0535, Accuracy: 751/810 (93%), Triage_acc: (209), WNL_acc: (542)\n",
      "\n",
      "Train Epoch: 28  Step [1348/1352 (25%)]  Loss: 0.008136, Accuracy: 1293/1352 (96%)\n",
      "\n",
      "\n",
      "Test set: Average loss: 0.0250, Accuracy: 770/810 (95%), Triage_acc: (224), WNL_acc: (546)\n",
      "\n",
      "Train Epoch: 29  Step [1348/1352 (25%)]  Loss: 0.028512, Accuracy: 1321/1352 (98%)\n",
      "\n",
      "\n",
      "Test set: Average loss: 0.0271, Accuracy: 775/810 (96%), Triage_acc: (221), WNL_acc: (554)\n",
      "\n",
      "Train Epoch: 30  Step [1348/1352 (25%)]  Loss: 0.003248, Accuracy: 1329/1352 (98%)\n",
      "\n",
      "\n",
      "Test set: Average loss: 0.0506, Accuracy: 754/810 (93%), Triage_acc: (236), WNL_acc: (518)\n",
      "\n",
      "Train Epoch: 31  Step [1348/1352 (25%)]  Loss: 0.154841, Accuracy: 1300/1352 (96%)\n",
      "\n",
      "\n",
      "Test set: Average loss: 0.0238, Accuracy: 779/810 (96%), Triage_acc: (234), WNL_acc: (545)\n",
      "\n",
      "0.9617283950617284\n"
     ]
    },
    {
     "ename": "KeyboardInterrupt",
     "evalue": "",
     "output_type": "error",
     "traceback": [
      "\u001b[0;31m---------------------------------------------------------------------------\u001b[0m",
      "\u001b[0;31mKeyboardInterrupt\u001b[0m                         Traceback (most recent call last)",
      "\u001b[0;32m<ipython-input-13-8f8984e4bc6e>\u001b[0m in \u001b[0;36m<module>\u001b[0;34m\u001b[0m\n\u001b[1;32m     47\u001b[0m     \u001b[0;31m#                    num_workers=4, pin_memory=True)\u001b[0m\u001b[0;34m\u001b[0m\u001b[0;34m\u001b[0m\u001b[0;34m\u001b[0m\u001b[0m\n\u001b[1;32m     48\u001b[0m     \u001b[0;31m#lr = adjust_learning_rate(learning_rate, optimizer, epoch, epoch_list=[80, 170])\u001b[0m\u001b[0;34m\u001b[0m\u001b[0;34m\u001b[0m\u001b[0;34m\u001b[0m\u001b[0m\n\u001b[0;32m---> 49\u001b[0;31m     \u001b[0mtrain_loss\u001b[0m \u001b[0;34m=\u001b[0m \u001b[0mtrain\u001b[0m\u001b[0;34m(\u001b[0m\u001b[0mnet\u001b[0m\u001b[0;34m,\u001b[0m \u001b[0mtrain_loader\u001b[0m\u001b[0;34m,\u001b[0m \u001b[0moptimizer\u001b[0m\u001b[0;34m,\u001b[0m \u001b[0mloss_fn\u001b[0m\u001b[0;34m,\u001b[0m \u001b[0mepoch\u001b[0m\u001b[0;34m,\u001b[0m \u001b[0mverbose\u001b[0m\u001b[0;34m=\u001b[0m\u001b[0;32mTrue\u001b[0m\u001b[0;34m)\u001b[0m\u001b[0;34m\u001b[0m\u001b[0;34m\u001b[0m\u001b[0m\n\u001b[0m\u001b[1;32m     50\u001b[0m     \u001b[0mvalid_acc\u001b[0m \u001b[0;34m=\u001b[0m \u001b[0mtest\u001b[0m\u001b[0;34m(\u001b[0m\u001b[0mnet\u001b[0m\u001b[0;34m,\u001b[0m \u001b[0mvalid_loader\u001b[0m\u001b[0;34m,\u001b[0m \u001b[0mloss_fn\u001b[0m\u001b[0;34m)\u001b[0m\u001b[0;34m\u001b[0m\u001b[0;34m\u001b[0m\u001b[0m\n\u001b[1;32m     51\u001b[0m     \u001b[0;31m#valid_acc, tp, tn = test(net, valid_loader, loss_fn)\u001b[0m\u001b[0;34m\u001b[0m\u001b[0;34m\u001b[0m\u001b[0;34m\u001b[0m\u001b[0m\n",
      "\u001b[0;32m<ipython-input-4-95ad77f24e23>\u001b[0m in \u001b[0;36mtrain\u001b[0;34m(model, data_loader, opt, loss, epoch, verbose)\u001b[0m\n\u001b[1;32m    225\u001b[0m         \u001b[0mloss_avg\u001b[0m \u001b[0;34m=\u001b[0m \u001b[0mloss_avg\u001b[0m \u001b[0;34m+\u001b[0m \u001b[0mloss\u001b[0m\u001b[0;34m.\u001b[0m\u001b[0mitem\u001b[0m\u001b[0;34m(\u001b[0m\u001b[0;34m)\u001b[0m\u001b[0;34m\u001b[0m\u001b[0;34m\u001b[0m\u001b[0m\n\u001b[1;32m    226\u001b[0m         \u001b[0mloss\u001b[0m\u001b[0;34m.\u001b[0m\u001b[0mbackward\u001b[0m\u001b[0;34m(\u001b[0m\u001b[0;34m)\u001b[0m\u001b[0;34m\u001b[0m\u001b[0;34m\u001b[0m\u001b[0m\n\u001b[0;32m--> 227\u001b[0;31m         \u001b[0moptimizer\u001b[0m\u001b[0;34m.\u001b[0m\u001b[0mstep\u001b[0m\u001b[0;34m(\u001b[0m\u001b[0;34m)\u001b[0m\u001b[0;34m\u001b[0m\u001b[0;34m\u001b[0m\u001b[0m\n\u001b[0m\u001b[1;32m    228\u001b[0m         \u001b[0mpred\u001b[0m \u001b[0;34m=\u001b[0m \u001b[0moutput\u001b[0m\u001b[0;34m.\u001b[0m\u001b[0mdata\u001b[0m\u001b[0;34m.\u001b[0m\u001b[0mmax\u001b[0m\u001b[0;34m(\u001b[0m\u001b[0;36m1\u001b[0m\u001b[0;34m,\u001b[0m \u001b[0mkeepdim\u001b[0m\u001b[0;34m=\u001b[0m\u001b[0;32mTrue\u001b[0m\u001b[0;34m)\u001b[0m\u001b[0;34m[\u001b[0m\u001b[0;36m1\u001b[0m\u001b[0;34m]\u001b[0m \u001b[0;31m# get the index of the max log-probability\u001b[0m\u001b[0;34m\u001b[0m\u001b[0;34m\u001b[0m\u001b[0m\n\u001b[1;32m    229\u001b[0m         \u001b[0mtarget\u001b[0m \u001b[0;34m=\u001b[0m \u001b[0mtarget\u001b[0m\u001b[0;34m[\u001b[0m\u001b[0;34m:\u001b[0m\u001b[0;34m,\u001b[0m\u001b[0;36m1\u001b[0m\u001b[0;34m]\u001b[0m\u001b[0;34m.\u001b[0m\u001b[0mlong\u001b[0m\u001b[0;34m(\u001b[0m\u001b[0;34m)\u001b[0m\u001b[0;34m\u001b[0m\u001b[0;34m\u001b[0m\u001b[0m\n",
      "\u001b[0;32m~/Andrew/PE_research/optimizer.py\u001b[0m in \u001b[0;36mstep\u001b[0;34m(self, closure)\u001b[0m\n\u001b[1;32m    191\u001b[0m \u001b[0;34m\u001b[0m\u001b[0m\n\u001b[1;32m    192\u001b[0m                 \u001b[0;32mif\u001b[0m \u001b[0mN_sma\u001b[0m \u001b[0;34m>\u001b[0m \u001b[0;36m4\u001b[0m\u001b[0;34m:\u001b[0m\u001b[0;34m\u001b[0m\u001b[0;34m\u001b[0m\u001b[0m\n\u001b[0;32m--> 193\u001b[0;31m                     \u001b[0mdenom\u001b[0m \u001b[0;34m=\u001b[0m \u001b[0mexp_avg_sq\u001b[0m\u001b[0;34m.\u001b[0m\u001b[0msqrt\u001b[0m\u001b[0;34m(\u001b[0m\u001b[0;34m)\u001b[0m\u001b[0;34m.\u001b[0m\u001b[0madd_\u001b[0m\u001b[0;34m(\u001b[0m\u001b[0mgroup\u001b[0m\u001b[0;34m[\u001b[0m\u001b[0;34m'eps'\u001b[0m\u001b[0;34m]\u001b[0m\u001b[0;34m)\u001b[0m\u001b[0;34m\u001b[0m\u001b[0;34m\u001b[0m\u001b[0m\n\u001b[0m\u001b[1;32m    194\u001b[0m                     \u001b[0mp_data_fp32\u001b[0m\u001b[0;34m.\u001b[0m\u001b[0maddcdiv_\u001b[0m\u001b[0;34m(\u001b[0m\u001b[0;34m-\u001b[0m\u001b[0mstep_size\u001b[0m\u001b[0;34m,\u001b[0m \u001b[0mexp_avg\u001b[0m\u001b[0;34m,\u001b[0m \u001b[0mdenom\u001b[0m\u001b[0;34m)\u001b[0m\u001b[0;34m\u001b[0m\u001b[0;34m\u001b[0m\u001b[0m\n\u001b[1;32m    195\u001b[0m                 \u001b[0;32melse\u001b[0m\u001b[0;34m:\u001b[0m\u001b[0;34m\u001b[0m\u001b[0;34m\u001b[0m\u001b[0m\n",
      "\u001b[0;31mKeyboardInterrupt\u001b[0m: "
     ]
    }
   ],
   "source": [
    "net = CNNX_P().to(device)\n",
    "learning_rate = 0.0001\n",
    "#optimizer = optim.SGD(net.parameters(), lr=learning_rate, momentum=0.9, weight_decay=1e-4)\n",
    "optimizer = Ranger(net.parameters())\n",
    "\n",
    "# Train the model\n",
    "num_epochs = 250\n",
    "model_name = 'dinamic_cut_DP_WNL'\n",
    "#model_name = 'EFF_0608_r'\n",
    "#loss_fn = nn.BCELoss()\n",
    "loss_fn = Focal_Loss()\n",
    "output_path = 'log'\n",
    "resume = 'None'\n",
    "\n",
    "#resume = '/home/ubuntu/Andrew/PE_research/log/savemodel/CT_class_WNL_dinamic_cut_EFF_.pth'\n",
    "#resume = '/home/ubuntu/Andrew/PE_research/log/savemodel/CT_class_resbest_acc_.pth'\n",
    "StartTime = time.time()\n",
    "print('Start training model', model_name)\n",
    "loss, val_acc, lr_curve = [], [], []\n",
    "'''\n",
    "if resume is not None:\n",
    "    net, optimizer, _ = load_model(net, optimizer, resume)\n",
    "    print('load', resume)\n",
    "'''\n",
    "\n",
    "best_acc = 0.0\n",
    "best = 0\n",
    "\n",
    "for epoch in range(num_epochs):\n",
    "\n",
    "    \n",
    "    #if (epoch+1)%5 == 0:\n",
    "    #    random.seed(epoch)\n",
    "    #    train_data = get_train_data(train_folder)\n",
    "    #    Train_Set = PE(list(train_data), transform = None)\n",
    "    #    train_loader = DataLoader(Train_Set, batch_size=batch_size, shuffle = True,\n",
    "    #                    num_workers=8, pin_memory=True)\n",
    "    #    class0_path = random.sample(class0_path, k = 3*len(class1_path))\n",
    "    #    target0 = random.sample(target0, k = 3*len(target1))\n",
    "    #    print(len(class0_path), len(class1_path))\n",
    "    #    file_path = class0_path + class1_path\n",
    "    #    target = target0 + target1\n",
    "    #    #print(file_path, target)\n",
    "    #    train_data = zip(file_path, target)\n",
    "    #    Train_Set = PE(list(train_data), transform = True)\n",
    "    #    train_loader = DataLoader(Train_Set, batch_size=batch_size, shuffle = True,\n",
    "    #                    num_workers=4, pin_memory=True)\n",
    "    #lr = adjust_learning_rate(learning_rate, optimizer, epoch, epoch_list=[80, 170])\n",
    "    train_loss = train(net, train_loader, optimizer, loss_fn, epoch, verbose=True)\n",
    "    valid_acc = test(net, valid_loader, loss_fn)\n",
    "    #valid_acc, tp, tn = test(net, valid_loader, loss_fn)\n",
    "    loss.append(train_loss)\n",
    "    #print((tn/pe0), tp/pe1)\n",
    "    val_acc.append(valid_acc)\n",
    "    if (epoch+1)%10 == 0 or epoch==num_epochs-1:\n",
    "        save_model({'epoch':epoch,\n",
    "                    'model_state_dict':net.state_dict(),\n",
    "                    'optimizer_state_dict':optimizer.state_dict(),\n",
    "                    },\n",
    "                    os.path.join(output_path,'savemodel'),model_name)\n",
    "    \n",
    "    #if tp/pe1 > 0.7 and tn>best:\n",
    "    if valid_acc >= best_acc:\n",
    "        #print((tn//pe0), tp//pe1)\n",
    "        print(valid_acc)\n",
    "        save_best({'epoch':epoch,\n",
    "                    'model_state_dict':net.state_dict(),\n",
    "                    'optimizer_state_dict':optimizer.state_dict(),\n",
    "                    },\n",
    "                    os.path.join(output_path,'savemodel'),'CT_class_WNL_dinamic_cut_DP')\n",
    "        best_acc = valid_acc\n",
    "        #best = tn\n"
   ]
  },
  {
   "cell_type": "markdown",
   "id": "super-paste",
   "metadata": {},
   "source": [
    "# Dinamic DRN + PA"
   ]
  },
  {
   "cell_type": "code",
   "execution_count": 14,
   "id": "informal-planning",
   "metadata": {},
   "outputs": [
    {
     "name": "stdout",
     "output_type": "stream",
     "text": [
      "load /home/ubuntu/Andrew/PE_research/log/savemodel/CT_class_WNL_dinamic_cut_DP_.pth\n",
      "set state called\n",
      "\n",
      "Test set: Average loss: 0.0334, Accuracy: 520/542 (96%), Triage_acc: (157), WNL_acc: (363)\n",
      "\n",
      "Time Usage:  0:57:03\n"
     ]
    },
    {
     "data": {
      "image/png": "[encoded data removed]",
      "text/plain": [
       "<Figure size 432x288 with 1 Axes>"
      ]
     },
     "metadata": {
      "needs_background": "light"
     },
     "output_type": "display_data"
    },
    {
     "data": {
      "image/png": "[encoded data removed]",
      "text/plain": [
       "<Figure size 432x288 with 1 Axes>"
      ]
     },
     "metadata": {
      "needs_background": "light"
     },
     "output_type": "display_data"
    },
    {
     "data": {
      "image/png": "[encoded data removed]",
      "text/plain": [
       "<Figure size 432x288 with 1 Axes>"
      ]
     },
     "metadata": {
      "needs_background": "light"
     },
     "output_type": "display_data"
    }
   ],
   "source": [
    "net, _, _ = load_model(net, optimizer, '/home/ubuntu/Andrew/PE_research/log/savemodel/CT_class_WNL_dinamic_cut_DP_.pth')\n",
    "test_acc = test(net, test_loader, loss_fn)\n",
    "EndTime = time.time()\n",
    "print('Time Usage: ', str(datetime.timedelta(seconds=int(round(EndTime-StartTime)))))\n",
    "\n",
    "\n",
    "\n",
    "plt.figure()\n",
    "plt.plot(loss)\n",
    "plt.title('Train Loss')\n",
    "plt.xlabel('epochs')\n",
    "plt.ylabel('loss')\n",
    "plt.show()\n",
    "plt.figure()\n",
    "\n",
    "plt.plot(valid_acc)\n",
    "plt.title('accuracy')\n",
    "plt.xlabel('epochs')\n",
    "plt.ylabel('acc')\n",
    "plt.show()\n",
    "\n",
    "plt.figure()\n",
    "plt.plot(val_acc)\n",
    "plt.title('Valid Acc')\n",
    "plt.xlabel('epochs')\n",
    "plt.ylabel('accuracy')\n",
    "plt.show()"
   ]
  },
  {
   "cell_type": "markdown",
   "id": "annual-jacob",
   "metadata": {},
   "source": [
    "# dinamic crop EfficirntNet v3"
   ]
  },
  {
   "cell_type": "code",
   "execution_count": 15,
   "id": "ambient-running",
   "metadata": {},
   "outputs": [
    {
     "name": "stdout",
     "output_type": "stream",
     "text": [
      "load /home/ubuntu/Andrew/PE_research/log/savemodel/CT_class_WNL_dinamic_cut_EFF_.pth\n",
      "set state called\n",
      "\n",
      "Test set: Average loss: 0.0263, Accuracy: 520/542 (96%), Triage_acc: (161), WNL_acc: (359)\n",
      "\n"
     ]
    },
    {
     "ename": "NameError",
     "evalue": "name 'StartTime' is not defined",
     "output_type": "error",
     "traceback": [
      "\u001b[0;31m---------------------------------------------------------------------------\u001b[0m",
      "\u001b[0;31mNameError\u001b[0m                                 Traceback (most recent call last)",
      "\u001b[0;32m<ipython-input-15-65b0fe0af959>\u001b[0m in \u001b[0;36m<module>\u001b[0;34m\u001b[0m\n\u001b[1;32m      8\u001b[0m \u001b[0mtest_acc\u001b[0m \u001b[0;34m=\u001b[0m \u001b[0mtest\u001b[0m\u001b[0;34m(\u001b[0m\u001b[0mnet\u001b[0m\u001b[0;34m,\u001b[0m \u001b[0mtest_loader\u001b[0m\u001b[0;34m,\u001b[0m \u001b[0mloss_fn\u001b[0m\u001b[0;34m)\u001b[0m\u001b[0;34m\u001b[0m\u001b[0;34m\u001b[0m\u001b[0m\n\u001b[1;32m      9\u001b[0m \u001b[0mEndTime\u001b[0m \u001b[0;34m=\u001b[0m \u001b[0mtime\u001b[0m\u001b[0;34m.\u001b[0m\u001b[0mtime\u001b[0m\u001b[0;34m(\u001b[0m\u001b[0;34m)\u001b[0m\u001b[0;34m\u001b[0m\u001b[0;34m\u001b[0m\u001b[0m\n\u001b[0;32m---> 10\u001b[0;31m \u001b[0mprint\u001b[0m\u001b[0;34m(\u001b[0m\u001b[0;34m'Time Usage: '\u001b[0m\u001b[0;34m,\u001b[0m \u001b[0mstr\u001b[0m\u001b[0;34m(\u001b[0m\u001b[0mdatetime\u001b[0m\u001b[0;34m.\u001b[0m\u001b[0mtimedelta\u001b[0m\u001b[0;34m(\u001b[0m\u001b[0mseconds\u001b[0m\u001b[0;34m=\u001b[0m\u001b[0mint\u001b[0m\u001b[0;34m(\u001b[0m\u001b[0mround\u001b[0m\u001b[0;34m(\u001b[0m\u001b[0mEndTime\u001b[0m\u001b[0;34m-\u001b[0m\u001b[0mStartTime\u001b[0m\u001b[0;34m)\u001b[0m\u001b[0;34m)\u001b[0m\u001b[0;34m)\u001b[0m\u001b[0;34m)\u001b[0m\u001b[0;34m)\u001b[0m\u001b[0;34m\u001b[0m\u001b[0;34m\u001b[0m\u001b[0m\n\u001b[0m\u001b[1;32m     11\u001b[0m \u001b[0;34m\u001b[0m\u001b[0m\n\u001b[1;32m     12\u001b[0m \u001b[0;34m\u001b[0m\u001b[0m\n",
      "\u001b[0;31mNameError\u001b[0m: name 'StartTime' is not defined"
     ]
    }
   ],
   "source": [
    "net = EFFN().to(device)\n",
    "learning_rate = 0.0001\n",
    "#optimizer = optim.SGD(net.parameters(), lr=learning_rate, momentum=0.9, weight_decay=1e-4)\n",
    "optimizer = Ranger(net.parameters())\n",
    "loss_fn = Focal_Loss()\n",
    "\n",
    "net, _, _ = load_model(net, optimizer, '/home/ubuntu/Andrew/PE_research/log/savemodel/CT_class_WNL_dinamic_cut_EFF_.pth')\n",
    "test_acc = test(net, test_loader, loss_fn)\n",
    "EndTime = time.time()\n",
    "print('Time Usage: ', str(datetime.timedelta(seconds=int(round(EndTime-StartTime)))))\n",
    "\n",
    "\n",
    "\n",
    "plt.figure()\n",
    "plt.plot(loss)\n",
    "plt.title('Train Loss')\n",
    "plt.xlabel('epochs')\n",
    "plt.ylabel('loss')\n",
    "plt.show()\n",
    "plt.figure()\n",
    "\n",
    "plt.plot(valid_acc)\n",
    "plt.title('accuracy')\n",
    "plt.xlabel('epochs')\n",
    "plt.ylabel('acc')\n",
    "plt.show()\n",
    "\n",
    "plt.figure()\n",
    "plt.plot(val_acc)\n",
    "plt.title('Valid Acc')\n",
    "plt.xlabel('epochs')\n",
    "plt.ylabel('accuracy')\n",
    "plt.show()"
   ]
  },
  {
   "cell_type": "markdown",
   "id": "arctic-underground",
   "metadata": {},
   "source": [
    "# dinamic crop ResNet50 WNL"
   ]
  },
  {
   "cell_type": "code",
   "execution_count": 16,
   "id": "pressing-parker",
   "metadata": {},
   "outputs": [
    {
     "name": "stdout",
     "output_type": "stream",
     "text": [
      "load /home/ubuntu/Andrew/PE_research/log/savemodel/CT_class_WNL_dinamic_cut_r50_.pth\n",
      "set state called\n",
      "\n",
      "Test set: Average loss: 0.0403, Accuracy: 508/542 (94%), Triage_acc: (152), WNL_acc: (356)\n",
      "\n",
      "Time Usage:  1:31:44\n"
     ]
    },
    {
     "data": {
      "image/png": "[encoded data removed]",
      "text/plain": [
       "<Figure size 432x288 with 1 Axes>"
      ]
     },
     "metadata": {
      "needs_background": "light"
     },
     "output_type": "display_data"
    },
    {
     "data": {
      "image/png": "[encoded data removed]",
      "text/plain": [
       "<Figure size 432x288 with 1 Axes>"
      ]
     },
     "metadata": {
      "needs_background": "light"
     },
     "output_type": "display_data"
    },
    {
     "data": {
      "image/png": "[encoded data removed]",
      "text/plain": [
       "<Figure size 432x288 with 1 Axes>"
      ]
     },
     "metadata": {
      "needs_background": "light"
     },
     "output_type": "display_data"
    }
   ],
   "source": [
    "net, _, _ = load_model(net, optimizer, '/home/ubuntu/Andrew/PE_research/log/savemodel/CT_class_WNL_dinamic_cut_r50_.pth')\n",
    "test_acc = test(net, test_loader, loss_fn)\n",
    "EndTime = time.time()\n",
    "print('Time Usage: ', str(datetime.timedelta(seconds=int(round(EndTime-StartTime)))))\n",
    "\n",
    "\n",
    "\n",
    "plt.figure()\n",
    "plt.plot(loss)\n",
    "plt.title('Train Loss')\n",
    "plt.xlabel('epochs')\n",
    "plt.ylabel('loss')\n",
    "plt.show()\n",
    "plt.figure()\n",
    "\n",
    "plt.plot(valid_acc)\n",
    "plt.title('accuracy')\n",
    "plt.xlabel('epochs')\n",
    "plt.ylabel('acc')\n",
    "plt.show()\n",
    "\n",
    "plt.figure()\n",
    "plt.plot(val_acc)\n",
    "plt.title('Valid Acc')\n",
    "plt.xlabel('epochs')\n",
    "plt.ylabel('accuracy')\n",
    "plt.show()"
   ]
  },
  {
   "cell_type": "markdown",
   "id": "composite-bleeding",
   "metadata": {},
   "source": [
    "# dinamic crop drn WNL"
   ]
  },
  {
   "cell_type": "code",
   "execution_count": 14,
   "id": "opposite-leadership",
   "metadata": {},
   "outputs": [
    {
     "name": "stdout",
     "output_type": "stream",
     "text": [
      "load /home/ubuntu/Andrew/PE_research/log/savemodel/CT_class_WNL_dinamic_cut_drn_.pth\n",
      "set state called\n",
      "\n",
      "Test set: Average loss: 0.0432, Accuracy: 521/542 (96%), Triage_acc: (155), WNL_acc: (366)\n",
      "\n",
      "Time Usage:  3:06:41\n"
     ]
    },
    {
     "data": {
      "image/png": "[encoded data removed]",
      "text/plain": [
       "<Figure size 432x288 with 1 Axes>"
      ]
     },
     "metadata": {
      "needs_background": "light"
     },
     "output_type": "display_data"
    },
    {
     "data": {
      "image/png": "[encoded data removed]",
      "text/plain": [
       "<Figure size 432x288 with 1 Axes>"
      ]
     },
     "metadata": {
      "needs_background": "light"
     },
     "output_type": "display_data"
    },
    {
     "data": {
      "image/png": "[encoded data removed]",
      "text/plain": [
       "<Figure size 432x288 with 1 Axes>"
      ]
     },
     "metadata": {
      "needs_background": "light"
     },
     "output_type": "display_data"
    }
   ],
   "source": [
    "net, _, _ = load_model(net, optimizer, '/home/ubuntu/Andrew/PE_research/log/savemodel/CT_class_WNL_dinamic_cut_drn_.pth')\n",
    "test_acc = test(net, test_loader, loss_fn)\n",
    "EndTime = time.time()\n",
    "print('Time Usage: ', str(datetime.timedelta(seconds=int(round(EndTime-StartTime)))))\n",
    "\n",
    "\n",
    "\n",
    "plt.figure()\n",
    "plt.plot(loss)\n",
    "plt.title('Train Loss')\n",
    "plt.xlabel('epochs')\n",
    "plt.ylabel('loss')\n",
    "plt.show()\n",
    "plt.figure()\n",
    "\n",
    "plt.plot(valid_acc)\n",
    "plt.title('accuracy')\n",
    "plt.xlabel('epochs')\n",
    "plt.ylabel('acc')\n",
    "plt.show()\n",
    "\n",
    "plt.figure()\n",
    "plt.plot(val_acc)\n",
    "plt.title('Valid Acc')\n",
    "plt.xlabel('epochs')\n",
    "plt.ylabel('accuracy')\n",
    "plt.show()"
   ]
  },
  {
   "cell_type": "markdown",
   "id": "severe-exchange",
   "metadata": {},
   "source": [
    "# Canny edge drn"
   ]
  },
  {
   "cell_type": "code",
   "execution_count": null,
   "id": "requested-ordering",
   "metadata": {},
   "outputs": [],
   "source": [
    "net, _, _ = load_model(net, optimizer, '/home/ubuntu/Andrew/PE_research/log/savemodel/CT_class_canny_drn_.pth')\n",
    "test_acc = test(net, test_loader, loss_fn)\n",
    "EndTime = time.time()\n",
    "print('Time Usage: ', str(datetime.timedelta(seconds=int(round(EndTime-StartTime)))))\n",
    "\n",
    "\n",
    "\n",
    "plt.figure()\n",
    "plt.plot(loss)\n",
    "plt.title('Train Loss')\n",
    "plt.xlabel('epochs')\n",
    "plt.ylabel('loss')\n",
    "plt.show()\n",
    "plt.figure()\n",
    "\n",
    "plt.plot(valid_acc)\n",
    "plt.title('accuracy')\n",
    "plt.xlabel('epochs')\n",
    "plt.ylabel('acc')\n",
    "plt.show()\n",
    "\n",
    "plt.figure()\n",
    "plt.plot(val_acc)\n",
    "plt.title('Valid Acc')\n",
    "plt.xlabel('epochs')\n",
    "plt.ylabel('accuracy')\n",
    "plt.show()"
   ]
  },
  {
   "cell_type": "markdown",
   "id": "instant-semiconductor",
   "metadata": {},
   "source": [
    "## ResNet 50 (50epoch) "
   ]
  },
  {
   "cell_type": "code",
   "execution_count": null,
   "id": "allied-seating",
   "metadata": {},
   "outputs": [],
   "source": [
    "net, _, _ = load_model(net, optimizer, '/home/ubuntu/Andrew/PE_research/log/savemodel/CT_class_0606_.pth')\n",
    "test_acc = test(net, test_loader, loss_fn)\n",
    "'''\n",
    "net, _, _ = load_model(net, optimizer, '/home/ubuntu/Andrew/PE_research/log/savemodel/CT_class_resbest_acc_A1_.pth')\n",
    "test_acc = test(net, test_loader, loss_fn)\n",
    "net, _, _ = load_model(net, optimizer, '/home/ubuntu/Andrew/PE_research/log/savemodel/drn_10.pth')\n",
    "test_acc = test(net, test_loader, loss_fn)\n",
    "net, _, _ = load_model(net, optimizer, '/home/ubuntu/Andrew/PE_research/log/savemodel/drn_20.pth')\n",
    "test_acc = test(net, test_loader, loss_fn)\n",
    "net, _, _ = load_model(net, optimizer, '/home/ubuntu/Andrew/PE_research/log/savemodel/drn_30.pth')\n",
    "test_acc = test(net, test_loader, loss_fn)\n",
    "net, _, _ = load_model(net, optimizer, '/home/ubuntu/Andrew/PE_research/log/savemodel/drn_40.pth')\n",
    "test_acc = test(net, test_loader, loss_fn)\n",
    "net, _, _ = load_model(net, optimizer, '/home/ubuntu/Andrew/PE_research/log/savemodel/drn_50.pth')\n",
    "test_acc = test(net, test_loader, loss_fn)\n",
    "#test_acc, y, y_score, y_pred = test(net, test_loader, loss_fn)\n",
    "\n",
    "y = np.array(y)\n",
    "y_pred = np.array(y_pred)\n",
    "y_score = np.array(y_score)\n",
    "\n",
    "precision = precision_score(y, y_pred, average='weighted')\n",
    "recall = recall_score(y, y_pred, average='weighted')\n",
    "print('precision', precision, 'recall', recall)\n",
    "ftr, tpr, _ = roc_curve(y, y_pred)\n",
    "roc_auc = auc(ftr, tpr)\n",
    "print('auc', roc_auc)\n",
    "'''\n",
    "EndTime = time.time()\n",
    "print('Time Usage: ', str(datetime.timedelta(seconds=int(round(EndTime-StartTime)))))\n",
    "\n",
    "\n",
    "\n",
    "plt.figure()\n",
    "plt.plot(loss)\n",
    "plt.title('Train Loss')\n",
    "plt.xlabel('epochs')\n",
    "plt.ylabel('loss')\n",
    "plt.show()\n",
    "plt.figure()\n",
    "\n",
    "plt.plot(valid_acc)\n",
    "plt.title('accuracy')\n",
    "plt.xlabel('epochs')\n",
    "plt.ylabel('acc')\n",
    "plt.show()\n",
    "\n",
    "plt.figure()\n",
    "plt.plot(val_acc)\n",
    "plt.title('Valid Acc')\n",
    "plt.xlabel('epochs')\n",
    "plt.ylabel('accuracy')\n",
    "plt.show()"
   ]
  },
  {
   "cell_type": "markdown",
   "id": "visible-conviction",
   "metadata": {},
   "source": [
    "## ResNet 50 (250 epoch)"
   ]
  },
  {
   "cell_type": "code",
   "execution_count": null,
   "id": "automated-handling",
   "metadata": {},
   "outputs": [],
   "source": [
    "net, _, _ = load_model(net, optimizer, '/home/ubuntu/Andrew/PE_research/log/savemodel/CT_class_0606_1_.pth')\n",
    "test_acc = test(net, test_loader, loss_fn)\n",
    "EndTime = time.time()\n",
    "print('Time Usage: ', str(datetime.timedelta(seconds=int(round(EndTime-StartTime)))))\n",
    "\n",
    "\n",
    "\n",
    "plt.figure()\n",
    "plt.plot(loss)\n",
    "plt.title('Train Loss')\n",
    "plt.xlabel('epochs')\n",
    "plt.ylabel('loss')\n",
    "plt.show()\n",
    "\n",
    "plt.figure()\n",
    "plt.plot(valid_acc)\n",
    "plt.title('accuracy')\n",
    "plt.xlabel('epochs')\n",
    "plt.ylabel('acc')\n",
    "plt.show()\n",
    "\n",
    "plt.figure()\n",
    "plt.plot(val_acc)\n",
    "plt.title('Valid Acc')\n",
    "plt.xlabel('epochs')\n",
    "plt.ylabel('accuracy')\n",
    "plt.show()"
   ]
  },
  {
   "cell_type": "markdown",
   "id": "multiple-cologne",
   "metadata": {},
   "source": [
    "## DRN 150 epoch"
   ]
  },
  {
   "cell_type": "code",
   "execution_count": null,
   "id": "peaceful-relaxation",
   "metadata": {},
   "outputs": [],
   "source": [
    "net, _, _ = load_model(net, optimizer, '/home/ubuntu/Andrew/PE_research/log/savemodel/CT_class_0606_a_.pth')\n",
    "test_acc = test(net, test_loader, loss_fn)\n",
    "EndTime = time.time()\n",
    "print('Time Usage: ', str(datetime.timedelta(seconds=int(round(EndTime-StartTime)))))\n",
    "\n",
    "\n",
    "\n",
    "plt.figure()\n",
    "plt.plot(loss)\n",
    "plt.title('Train Loss')\n",
    "plt.xlabel('epochs')\n",
    "plt.ylabel('loss')\n",
    "plt.show()\n",
    "\n",
    "plt.figure()\n",
    "plt.plot(valid_acc)\n",
    "plt.title('accuracy')\n",
    "plt.xlabel('epochs')\n",
    "plt.ylabel('acc')\n",
    "plt.show()\n",
    "\n",
    "plt.figure()\n",
    "plt.plot(val_acc)\n",
    "plt.title('Valid Acc')\n",
    "plt.xlabel('epochs')\n",
    "plt.ylabel('accuracy')\n",
    "plt.show()"
   ]
  },
  {
   "cell_type": "markdown",
   "id": "configured-space",
   "metadata": {},
   "source": [
    "## DRN 250 epoch"
   ]
  },
  {
   "cell_type": "code",
   "execution_count": null,
   "id": "african-medicaid",
   "metadata": {},
   "outputs": [],
   "source": [
    "net, _, _ = load_model(net, optimizer, '/home/ubuntu/Andrew/PE_research/log/savemodel/CT_class_0607_drn_.pth')\n",
    "test_acc = test(net, test_loader, loss_fn)\n",
    "EndTime = time.time()\n",
    "print('Time Usage: ', str(datetime.timedelta(seconds=int(round(EndTime-StartTime)))))\n",
    "\n",
    "\n",
    "\n",
    "plt.figure()\n",
    "plt.plot(loss)\n",
    "plt.title('Train Loss')\n",
    "plt.xlabel('epochs')\n",
    "plt.ylabel('loss')\n",
    "plt.show()\n",
    "\n",
    "plt.figure()\n",
    "plt.plot(valid_acc)\n",
    "plt.title('accuracy')\n",
    "plt.xlabel('epochs')\n",
    "plt.ylabel('acc')\n",
    "plt.show()\n",
    "\n",
    "plt.figure()\n",
    "plt.plot(val_acc)\n",
    "plt.title('Valid Acc')\n",
    "plt.xlabel('epochs')\n",
    "plt.ylabel('accuracy')\n",
    "plt.show()"
   ]
  },
  {
   "cell_type": "markdown",
   "id": "joint-myanmar",
   "metadata": {},
   "source": [
    "## DRN 250 epoch ranger"
   ]
  },
  {
   "cell_type": "code",
   "execution_count": null,
   "id": "surprised-murray",
   "metadata": {},
   "outputs": [],
   "source": [
    "net, _, _ = load_model(net, optimizer, '/home/ubuntu/Andrew/PE_research/log/savemodel/CT_class_0607_drn_ranger_.pth')\n",
    "test_acc = test(net, test_loader, loss_fn)\n",
    "EndTime = time.time()\n",
    "print('Time Usage: ', str(datetime.timedelta(seconds=int(round(EndTime-StartTime)))))\n",
    "\n",
    "\n",
    "\n",
    "plt.figure()\n",
    "plt.plot(loss)\n",
    "plt.title('Train Loss')\n",
    "plt.xlabel('epochs')\n",
    "plt.ylabel('loss')\n",
    "plt.show()\n",
    "\n",
    "plt.figure()\n",
    "plt.plot(valid_acc)\n",
    "plt.title('accuracy')\n",
    "plt.xlabel('epochs')\n",
    "plt.ylabel('acc')\n",
    "plt.show()\n",
    "\n",
    "plt.figure()\n",
    "plt.plot(val_acc)\n",
    "plt.title('Valid Acc')\n",
    "plt.xlabel('epochs')\n",
    "plt.ylabel('accuracy')\n",
    "plt.show()"
   ]
  },
  {
   "cell_type": "markdown",
   "id": "intended-brazil",
   "metadata": {},
   "source": [
    "## EfficientNet V3"
   ]
  },
  {
   "cell_type": "code",
   "execution_count": null,
   "id": "arbitrary-times",
   "metadata": {},
   "outputs": [],
   "source": [
    "optimizer = Ranger(net.parameters())\n",
    "loss_fn = Focal_Loss()\n",
    "net, _, _ = load_model(net, optimizer, '/home/ubuntu/Andrew/PE_research/log/savemodel/CT_class_0608_eff_.pth')\n",
    "test_acc = test(net, test_loader, loss_fn)\n",
    "EndTime = time.time()\n",
    "print('Time Usage: ', str(datetime.timedelta(seconds=int(round(EndTime-StartTime)))))\n",
    "\n",
    "\n",
    "\n",
    "plt.figure()\n",
    "plt.plot(loss)\n",
    "plt.title('Train Loss')\n",
    "plt.xlabel('epochs')\n",
    "plt.ylabel('loss')\n",
    "plt.show()\n",
    "\n",
    "plt.figure()\n",
    "plt.plot(valid_acc)\n",
    "plt.title('accuracy')\n",
    "plt.xlabel('epochs')\n",
    "plt.ylabel('acc')\n",
    "plt.show()\n",
    "\n",
    "plt.figure()\n",
    "plt.plot(val_acc)\n",
    "plt.title('Valid Acc')\n",
    "plt.xlabel('epochs')\n",
    "plt.ylabel('accuracy')\n",
    "plt.show()"
   ]
  },
  {
   "cell_type": "markdown",
   "id": "extraordinary-width",
   "metadata": {},
   "source": [
    "# Per patient"
   ]
  },
  {
   "cell_type": "code",
   "execution_count": 33,
   "id": "genetic-explanation",
   "metadata": {},
   "outputs": [
    {
     "name": "stdout",
     "output_type": "stream",
     "text": [
      "load /home/ubuntu/Andrew/PE_research/log/savemodel/CT_class_WNL_dinamic_cut_r50_.pth\n",
      "set state called\n",
      "test model ready\n",
      "10 19\n",
      "testing set ready\n",
      "\n",
      "Test set: Average loss: 0.1765, Accuracy: 22/29 (76%), Triage_acc: (12), WNL_acc: (10)\n",
      "\n"
     ]
    },
    {
     "data": {
      "text/plain": [
       "'     \\nfor data, target in testing_loader:\\n    print(\"slice:\",count)\\n    count = count+1\\n    data, target = data.to(device), target.to(device)\\n    output = net(data)\\n    pred = output.data.max(1, keepdim=True)[1]\\n    print(pred)\\n    \\n    #test_acc = test(net, testing_loader, loss_fn)\\n'"
      ]
     },
     "execution_count": 33,
     "metadata": {},
     "output_type": "execute_result"
    }
   ],
   "source": [
    "count = 1\n",
    "net = CNNX().to(device)\n",
    "learning_rate = 0.0001\n",
    "optimizer = Ranger(net.parameters())\n",
    "loss_fn = Focal_Loss()\n",
    "net, _, _ = load_model(net, optimizer, '/home/ubuntu/Andrew/PE_research/log/savemodel/CT_class_WNL_dinamic_cut_r50_.pth')\n",
    "print('test model ready')\n",
    "\n",
    "testing_0 = list(glob.glob('/home/ubuntu/Andrew/lung_datatset/test/WNL/18987679/*'))\n",
    "testing_1 = list(glob.glob('/home/ubuntu/Andrew/lung_datatset/test/PE/*'))\n",
    "testing_data, _, _ = get_data(testing_0, testing_1, 1)\n",
    "Testing_Set = PE_transform(list(testing_data), transform = None)\n",
    "print('testing set ready')\n",
    "testing_loader = DataLoader(Testing_Set, batch_size=test_bs, shuffle = False,\n",
    "                      num_workers=8, pin_memory=True)\n",
    "test_acc = test(net, testing_loader, loss_fn)\n",
    "\n",
    "'''     \n",
    "for data, target in testing_loader:\n",
    "    print(\"slice:\",count)\n",
    "    count = count+1\n",
    "    data, target = data.to(device), target.to(device)\n",
    "    output = net(data)\n",
    "    pred = output.data.max(1, keepdim=True)[1]\n",
    "    print(pred)\n",
    "    \n",
    "    #test_acc = test(net, testing_loader, loss_fn)\n",
    "'''       "
   ]
  },
  {
   "cell_type": "code",
   "execution_count": 36,
   "id": "automatic-inspiration",
   "metadata": {},
   "outputs": [
    {
     "name": "stdout",
     "output_type": "stream",
     "text": [
      "79 0\n"
     ]
    }
   ],
   "source": [
    "testing_0 = list(glob.glob('/home/ubuntu/Andrew/lung_datatset/test/WNL/*'))\n",
    "testing_1 = list(glob.glob('/home/ubuntu/Andrew/lung_datatset/test/noPE/*'))\n",
    "testing_data, _, _ = get_data(testing_0, testing_1, 1)\n",
    "Testing_Set = PE_transform(list(testing_data), transform = None)\n",
    "testing_loader = DataLoader(Testing_Set, batch_size=test_bs, shuffle = False,\n",
    "                      num_workers=8, pin_memory=True)"
   ]
  },
  {
   "cell_type": "code",
   "execution_count": null,
   "id": "positive-proposition",
   "metadata": {},
   "outputs": [],
   "source": [
    "net = CNNX1().to(device)\n",
    "learning_rate = 0.0001\n",
    "optimizer = optim.SGD(net.parameters(), lr=learning_rate, momentum=0.9, weight_decay=1e-4)\n",
    "#optimizer = Ranger(net.parameters())"
   ]
  },
  {
   "cell_type": "markdown",
   "id": "sustainable-fishing",
   "metadata": {},
   "source": [
    "## drn dinamic"
   ]
  },
  {
   "cell_type": "code",
   "execution_count": 10,
   "id": "limiting-museum",
   "metadata": {},
   "outputs": [
    {
     "name": "stdout",
     "output_type": "stream",
     "text": [
      "79 0\n",
      "testing set ready\n"
     ]
    }
   ],
   "source": [
    "testing_0 = list(glob.glob('/home/ubuntu/Andrew/lung_datatset/test/WNL/*'))\n",
    "testing_1 = list(glob.glob('/home/ubuntu/Andrew/lung_datatset/test/noPE/*'))\n",
    "testing_data, _, _ = get_data(testing_0, testing_1, 1)\n",
    "Testing_Set = PE_dinamic(list(testing_data), transform = None)\n",
    "print('testing set ready')\n",
    "testing_loader = DataLoader(Testing_Set, batch_size=test_bs, shuffle = False,\n",
    "                      num_workers=8, pin_memory=True)"
   ]
  },
  {
   "cell_type": "code",
   "execution_count": 17,
   "id": "experimental-pressing",
   "metadata": {},
   "outputs": [
    {
     "name": "stdout",
     "output_type": "stream",
     "text": [
      "load /home/ubuntu/Andrew/PE_research/log/savemodel/CT_class_WNL_dinamic_cut_r50_.pth\n",
      "set state called\n",
      "\n",
      "Test set: Average loss: 0.0669, Accuracy: 75/79 (95%), Triage_acc: (0), WNL_acc: (75)\n",
      "\n"
     ]
    }
   ],
   "source": [
    "net = CNNX().to(device)\n",
    "learning_rate = 0.0001\n",
    "#optimizer = optim.SGD(net.parameters(), lr=learning_rate, momentum=0.9, weight_decay=1e-4)\n",
    "optimizer = Ranger(net.parameters())\n",
    "loss_fn = Focal_Loss()\n",
    "net, _, _ = load_model(net, optimizer, '/home/ubuntu/Andrew/PE_research/log/savemodel/CT_class_WNL_dinamic_cut_r50_.pth')\n",
    "test_acc = test(net, testing_loader, loss_fn)"
   ]
  },
  {
   "cell_type": "code",
   "execution_count": 16,
   "id": "internal-biography",
   "metadata": {},
   "outputs": [
    {
     "name": "stdout",
     "output_type": "stream",
     "text": [
      "79 0\n",
      "testing set ready\n",
      "load /home/ubuntu/Andrew/PE_research/log/savemodel/CT_class_WNL_dinamic_cut_DP_.pth\n",
      "set state called\n",
      "\n",
      "Test set: Average loss: 0.1102, Accuracy: 70/79 (89%), Triage_acc: (0), WNL_acc: (70)\n",
      "\n"
     ]
    }
   ],
   "source": [
    "net = CNNX_P().to(device)\n",
    "net, _, _ = load_model(net, optimizer, '/home/ubuntu/Andrew/PE_research/log/savemodel/CT_class_WNL_dinamic_cut_DP_.pth')\n",
    "test_acc = test(net, testing_loader, loss_fn)"
   ]
  },
  {
   "cell_type": "code",
   "execution_count": 18,
   "id": "fitting-botswana",
   "metadata": {},
   "outputs": [
    {
     "name": "stdout",
     "output_type": "stream",
     "text": [
      "load /home/ubuntu/Andrew/PE_research/log/savemodel/CT_class_WNL_dinamic_cut_drn_.pth\n",
      "set state called\n",
      "\n",
      "Test set: Average loss: 0.1679, Accuracy: 72/79 (91%), Triage_acc: (0), WNL_acc: (72)\n",
      "\n"
     ]
    }
   ],
   "source": [
    "net = CNNX1().to(device)\n",
    "net, _, _ = load_model(net, optimizer, '/home/ubuntu/Andrew/PE_research/log/savemodel/CT_class_WNL_dinamic_cut_drn_.pth')\n",
    "test_acc = test(net, testing_loader, loss_fn)"
   ]
  },
  {
   "cell_type": "code",
   "execution_count": 7,
   "id": "hearing-fetish",
   "metadata": {},
   "outputs": [
    {
     "name": "stdout",
     "output_type": "stream",
     "text": [
      "load /home/ubuntu/Andrew/PE_research/log/savemodel/CT_class_WNL_dinamic_cut_EFF_.pth\n",
      "set state called\n",
      "\n",
      "Test set: Average loss: 0.0180, Accuracy: 76/79 (96%), Triage_acc: (0), WNL_acc: (76)\n",
      "\n"
     ]
    }
   ],
   "source": [
    "net = EFFN().to(device)\n",
    "learning_rate = 0.0001\n",
    "#optimizer = optim.SGD(net.parameters(), lr=learning_rate, momentum=0.9, weight_decay=1e-4)\n",
    "optimizer = Ranger(net.parameters())\n",
    "loss_fn = Focal_Loss()\n",
    "net, _, _ = load_model(net, optimizer, '/home/ubuntu/Andrew/PE_research/log/savemodel/CT_class_WNL_dinamic_cut_EFF_.pth')\n",
    "test_acc = test(net, testing_loader, loss_fn)"
   ]
  },
  {
   "cell_type": "markdown",
   "id": "dried-approach",
   "metadata": {},
   "source": [
    "# Per patient no_PE 1"
   ]
  },
  {
   "cell_type": "code",
   "execution_count": 6,
   "id": "earlier-arlington",
   "metadata": {},
   "outputs": [
    {
     "name": "stdout",
     "output_type": "stream",
     "text": [
      "93 10\n",
      "testing set ready\n"
     ]
    }
   ],
   "source": [
    "testing_0 = list(glob.glob('/home/ubuntu/Andrew/lung_datatset/test/WNL/*'))\n",
    "testing_1 = list(glob.glob('/home/ubuntu/Andrew/lung_datatset/test/noPE/*'))\n",
    "testing_data, _, _ = get_data(testing_0, testing_1, 1)\n",
    "Testing_Set = PE_dinamic(list(testing_data), transform = None)\n",
    "print('testing set ready')\n",
    "testing_loader = DataLoader(Testing_Set, batch_size=test_bs, shuffle = False,\n",
    "                      num_workers=8, pin_memory=True)"
   ]
  },
  {
   "cell_type": "code",
   "execution_count": 15,
   "id": "banner-saudi",
   "metadata": {},
   "outputs": [
    {
     "name": "stdout",
     "output_type": "stream",
     "text": [
      "load /home/ubuntu/Andrew/PE_research/log/savemodel/CT_class_WNL_dinamic_cut_r50_.pth\n",
      "set state called\n",
      "\n",
      "Test set: Average loss: 0.0200, Accuracy: 100/103 (97%), Triage_acc: (10), WNL_acc: (90)\n",
      "\n"
     ]
    }
   ],
   "source": [
    "net = CNNX().to(device)\n",
    "learning_rate = 0.0001\n",
    "#optimizer = optim.SGD(net.parameters(), lr=learning_rate, momentum=0.9, weight_decay=1e-4)\n",
    "optimizer = Ranger(net.parameters())\n",
    "loss_fn = Focal_Loss()\n",
    "net, _, _ = load_model(net, optimizer, '/home/ubuntu/Andrew/PE_research/log/savemodel/CT_class_WNL_dinamic_cut_r50_.pth')\n",
    "test_acc = test(net, testing_loader, loss_fn)"
   ]
  },
  {
   "cell_type": "code",
   "execution_count": 13,
   "id": "hungry-gambling",
   "metadata": {},
   "outputs": [
    {
     "name": "stdout",
     "output_type": "stream",
     "text": [
      "load /home/ubuntu/Andrew/PE_research/log/savemodel/CT_class_WNL_dinamic_cut_DP_.pth\n",
      "set state called\n"
     ]
    },
    {
     "name": "stderr",
     "output_type": "stream",
     "text": [
      "/home/ubuntu/tensorflow/anaconda3/lib/python3.7/site-packages/torch/nn/functional.py:1569: UserWarning: nn.functional.sigmoid is deprecated. Use torch.sigmoid instead.\n",
      "  warnings.warn(\"nn.functional.sigmoid is deprecated. Use torch.sigmoid instead.\")\n"
     ]
    },
    {
     "name": "stdout",
     "output_type": "stream",
     "text": [
      "\n",
      "Test set: Average loss: 0.0770, Accuracy: 97/103 (94%), Triage_acc: (9), WNL_acc: (88)\n",
      "\n"
     ]
    }
   ],
   "source": [
    "net = CNNX_P().to(device)\n",
    "learning_rate = 0.0001\n",
    "#optimizer = optim.SGD(net.parameters(), lr=learning_rate, momentum=0.9, weight_decay=1e-4)\n",
    "optimizer = Ranger(net.parameters())\n",
    "loss_fn = Focal_Loss()\n",
    "net, _, _ = load_model(net, optimizer, '/home/ubuntu/Andrew/PE_research/log/savemodel/CT_class_WNL_dinamic_cut_DP_.pth')\n",
    "test_acc = test(net, testing_loader, loss_fn)"
   ]
  },
  {
   "cell_type": "code",
   "execution_count": 11,
   "id": "framed-southwest",
   "metadata": {},
   "outputs": [
    {
     "name": "stdout",
     "output_type": "stream",
     "text": [
      "24025401\n"
     ]
    }
   ],
   "source": [
    "net = CNNX_P().to(device)\n",
    "pytorch_total_params = sum(p.numel() for p in net.parameters() if p.requires_grad)\n",
    "print(pytorch_total_params)"
   ]
  },
  {
   "cell_type": "code",
   "execution_count": 14,
   "id": "secure-harmony",
   "metadata": {},
   "outputs": [
    {
     "name": "stdout",
     "output_type": "stream",
     "text": [
      "load /home/ubuntu/Andrew/PE_research/log/savemodel/CT_class_WNL_dinamic_cut_drn_.pth\n",
      "set state called\n",
      "\n",
      "Test set: Average loss: 0.0290, Accuracy: 100/103 (97%), Triage_acc: (9), WNL_acc: (91)\n",
      "\n"
     ]
    }
   ],
   "source": [
    "net = CNNX1().to(device)\n",
    "net, _, _ = load_model(net, optimizer, '/home/ubuntu/Andrew/PE_research/log/savemodel/CT_class_WNL_dinamic_cut_drn_.pth')\n",
    "test_acc = test(net, testing_loader, loss_fn)"
   ]
  },
  {
   "cell_type": "code",
   "execution_count": 10,
   "id": "tribal-honey",
   "metadata": {},
   "outputs": [
    {
     "name": "stdout",
     "output_type": "stream",
     "text": [
      "24025401\n"
     ]
    }
   ],
   "source": [
    "net = CNNX1().to(device)\n",
    "pytorch_total_params = sum(p.numel() for p in net.parameters() if p.requires_grad)\n",
    "print(pytorch_total_params)"
   ]
  },
  {
   "cell_type": "code",
   "execution_count": 7,
   "id": "shared-manitoba",
   "metadata": {},
   "outputs": [
    {
     "name": "stdout",
     "output_type": "stream",
     "text": [
      "load /home/ubuntu/Andrew/PE_research/log/savemodel/CT_class_WNL_dinamic_cut_EFF_.pth\n",
      "set state called\n",
      "\n",
      "Test set: Average loss: 0.0370, Accuracy: 98/103 (95%), Triage_acc: (10), WNL_acc: (88)\n",
      "\n"
     ]
    }
   ],
   "source": [
    "net = EFFN().to(device)\n",
    "learning_rate = 0.0001\n",
    "#optimizer = optim.SGD(net.parameters(), lr=learning_rate, momentum=0.9, weight_decay=1e-4)\n",
    "optimizer = Ranger(net.parameters())\n",
    "loss_fn = Focal_Loss()\n",
    "net, _, _ = load_model(net, optimizer, '/home/ubuntu/Andrew/PE_research/log/savemodel/CT_class_WNL_dinamic_cut_EFF_.pth')\n",
    "test_acc = test(net, testing_loader, loss_fn)"
   ]
  },
  {
   "cell_type": "code",
   "execution_count": 9,
   "id": "elementary-silence",
   "metadata": {},
   "outputs": [
    {
     "name": "stdout",
     "output_type": "stream",
     "text": [
      "623703964\n"
     ]
    }
   ],
   "source": [
    "pytorch_total_params = sum(p.numel() for p in net.parameters() if p.requires_grad)\n",
    "print(pytorch_total_params)"
   ]
  },
  {
   "cell_type": "code",
   "execution_count": 12,
   "id": "sharing-print",
   "metadata": {},
   "outputs": [
    {
     "name": "stdout",
     "output_type": "stream",
     "text": [
      "23509956\n"
     ]
    }
   ],
   "source": [
    "net = CNNX().to(device)\n",
    "pytorch_total_params = sum(p.numel() for p in net.parameters() if p.requires_grad)\n",
    "print(pytorch_total_params)"
   ]
  },
  {
   "cell_type": "markdown",
   "id": "proof-melbourne",
   "metadata": {},
   "source": [
    "### DRN"
   ]
  },
  {
   "cell_type": "code",
   "execution_count": null,
   "id": "optimum-refund",
   "metadata": {},
   "outputs": [],
   "source": [
    "net, _, _ = load_model(net, optimizer, '/home/ubuntu/Andrew/PE_research/log/savemodel/CT_class_0607_drn_ranger_.pth')\n",
    "testing_acc = test(net, testing_loader, loss_fn)"
   ]
  },
  {
   "cell_type": "code",
   "execution_count": 16,
   "id": "analyzed-nicholas",
   "metadata": {},
   "outputs": [],
   "source": [
    " torch.cuda.empty_cache()"
   ]
  },
  {
   "cell_type": "code",
   "execution_count": null,
   "id": "statistical-genealogy",
   "metadata": {},
   "outputs": [],
   "source": [
    "testing_0 = list(glob.glob('/home/ubuntu/Andrew/CT_CLA/v0/*'))\n",
    "testing_1 = list(glob.glob('/home/ubuntu/Andrew/CT_CLA/v1/*'))\n",
    "testing_data, _, _ = get_data(testing_0, testing_1, 1)\n",
    "Testing_Set = PE_transform(list(testing_data), transform = None)\n",
    "testing_loader = DataLoader(Testing_Set, batch_size=test_bs, shuffle = False,\n",
    "                      num_workers=8, pin_memory=True)"
   ]
  },
  {
   "cell_type": "markdown",
   "id": "immune-charter",
   "metadata": {},
   "source": [
    "NEW_dataset/20210604"
   ]
  },
  {
   "cell_type": "code",
   "execution_count": null,
   "id": "assured-indianapolis",
   "metadata": {},
   "outputs": [],
   "source": [
    "testing_0 = list(glob.glob('/home/ubuntu/Andrew/lung_datatset/WNL/*'))\n",
    "testing_1 = list(glob.glob('/home/ubuntu/Andrew/lung_datatset/no_PE/*'))\n",
    "testing_data, _, _ = get_data(testing_0, testing_1, 1)\n",
    "Testing_Set = PE_transform(list(testing_data), transform = None)\n",
    "testing_loader = DataLoader(Testing_Set, batch_size=test_bs, shuffle = False,\n",
    "                      num_workers=8, pin_memory=True)"
   ]
  },
  {
   "cell_type": "code",
   "execution_count": null,
   "id": "removed-facility",
   "metadata": {},
   "outputs": [],
   "source": [
    "optimizer = optim.SGD(net.parameters(), lr=0.0001, momentum=0.9, weight_decay=1e-4)\n",
    "loss_fn = Focal_Loss()"
   ]
  },
  {
   "cell_type": "code",
   "execution_count": null,
   "id": "biblical-safety",
   "metadata": {},
   "outputs": [],
   "source": [
    "#net, _, _ = load_model(net, optimizer, '/home/ubuntu/Andrew/PE_research/log/savemodel/CT_class_resbest_acc_A1_.pth')\n",
    "#testing_acc = test(net, testing_loader, loss_fn)\n",
    "\n",
    "net, _, _ = load_model(net, optimizer, '/home/ubuntu/Andrew/PE_research/log/savemodel/drn_10.pth')\n",
    "testing_acc = test(net, testing_loader, loss_fn)\n",
    "'''\n",
    "net, _, _ = load_model(net, optimizer, '/home/ubuntu/Andrew/PE_research/log/savemodel/drn_20.pth')\n",
    "testing_acc = test(net, testing_loader, loss_fn)\n",
    "net, _, _ = load_model(net, optimizer, '/home/ubuntu/Andrew/PE_research/log/savemodel/drn_30.pth')\n",
    "testing_acc = test(net, testing_loader, loss_fn)\n",
    "net, _, _ = load_model(net, optimizer, '/home/ubuntu/Andrew/PE_research/log/savemodel/drn_40.pth')\n",
    "testing_acc = test(net, testing_loader, loss_fn)\n",
    "net, _, _ = load_model(net, optimizer, '/home/ubuntu/Andrew/PE_research/log/savemodel/drn_50.pth')\n",
    "testing_acc = test(net, testing_loader, loss_fn)\n",
    "'''"
   ]
  },
  {
   "cell_type": "code",
   "execution_count": null,
   "id": "every-fellowship",
   "metadata": {},
   "outputs": [],
   "source": []
  }
 ],
 "metadata": {
  "kernelspec": {
   "display_name": "Python 3",
   "language": "python",
   "name": "python3"
  },
  "language_info": {
   "codemirror_mode": {
    "name": "ipython",
    "version": 3
   },
   "file_extension": ".py",
   "mimetype": "text/x-python",
   "name": "python",
   "nbconvert_exporter": "python",
   "pygments_lexer": "ipython3",
   "version": "3.7.6"
  }
 },
 "nbformat": 4,
 "nbformat_minor": 5
}
