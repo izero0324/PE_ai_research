{
 "cells": [
  {
   "cell_type": "code",
   "execution_count": 1,
   "id": "acoustic-presentation",
   "metadata": {},
   "outputs": [
    {
     "name": "stderr",
     "output_type": "stream",
     "text": [
      "Matplotlib created a temporary config/cache directory at /tmp/matplotlib-o8s0q658 because the default path (/home/ubuntu/.config/matplotlib) is not a writable directory; it is highly recommended to set the MPLCONFIGDIR environment variable to a writable directory, in particular to speed up the import of Matplotlib and to better support multiprocessing.\n",
      "In /home/ubuntu/tensorflow/anaconda3/lib/python3.7/site-packages/matplotlib/mpl-data/stylelib/_classic_test.mplstyle: \n",
      "The text.latex.preview rcparam was deprecated in Matplotlib 3.3 and will be removed two minor releases later.\n",
      "In /home/ubuntu/tensorflow/anaconda3/lib/python3.7/site-packages/matplotlib/mpl-data/stylelib/_classic_test.mplstyle: \n",
      "The mathtext.fallback_to_cm rcparam was deprecated in Matplotlib 3.3 and will be removed two minor releases later.\n",
      "In /home/ubuntu/tensorflow/anaconda3/lib/python3.7/site-packages/matplotlib/mpl-data/stylelib/_classic_test.mplstyle: Support for setting the 'mathtext.fallback_to_cm' rcParam is deprecated since 3.3 and will be removed two minor releases later; use 'mathtext.fallback : 'cm' instead.\n",
      "In /home/ubuntu/tensorflow/anaconda3/lib/python3.7/site-packages/matplotlib/mpl-data/stylelib/_classic_test.mplstyle: \n",
      "The validate_bool_maybe_none function was deprecated in Matplotlib 3.3 and will be removed two minor releases later.\n",
      "In /home/ubuntu/tensorflow/anaconda3/lib/python3.7/site-packages/matplotlib/mpl-data/stylelib/_classic_test.mplstyle: \n",
      "The savefig.jpeg_quality rcparam was deprecated in Matplotlib 3.3 and will be removed two minor releases later.\n",
      "In /home/ubuntu/tensorflow/anaconda3/lib/python3.7/site-packages/matplotlib/mpl-data/stylelib/_classic_test.mplstyle: \n",
      "The keymap.all_axes rcparam was deprecated in Matplotlib 3.3 and will be removed two minor releases later.\n",
      "In /home/ubuntu/tensorflow/anaconda3/lib/python3.7/site-packages/matplotlib/mpl-data/stylelib/_classic_test.mplstyle: \n",
      "The animation.avconv_path rcparam was deprecated in Matplotlib 3.3 and will be removed two minor releases later.\n",
      "In /home/ubuntu/tensorflow/anaconda3/lib/python3.7/site-packages/matplotlib/mpl-data/stylelib/_classic_test.mplstyle: \n",
      "The animation.avconv_args rcparam was deprecated in Matplotlib 3.3 and will be removed two minor releases later.\n"
     ]
    },
    {
     "name": "stdout",
     "output_type": "stream",
     "text": [
      "PyTorch Version:  1.5.0+cu101\n",
      "Torchvision Version:  0.6.0+cu101\n"
     ]
    }
   ],
   "source": [
    "import torch\n",
    "import torch.nn as nn\n",
    "import torch.nn.functional as F \n",
    "import time\n",
    "import random\n",
    "import datetime\n",
    "import os\n",
    "import numpy as np\n",
    "import torch.optim as optim\n",
    "import matplotlib.pyplot as plt\n",
    "from torch import Tensor\n",
    "import functools\n",
    "from torchvision import datasets, transforms\n",
    "from torch.nn.modules.loss import _Loss\n",
    "from torch.utils.data import DataLoader\n",
    "import torchvision\n",
    "from model.drn import drn_d_54, drn_d_base\n",
    "from model.CBAM import drn_d_CBAM\n",
    "from model.resnet import ResNet50 as resnet\n",
    "from model.efficientnet import *\n",
    "from load_data import *\n",
    "from optimizer import Ranger\n",
    "from collections import Counter\n",
    "from sklearn.metrics import roc_curve, auc\n",
    "from sklearn.metrics import recall_score,accuracy_score, precision_score,f1_score"
   ]
  },
  {
   "cell_type": "code",
   "execution_count": 2,
   "id": "welcome-independence",
   "metadata": {},
   "outputs": [],
   "source": [
    "from torch.autograd import Variable\n",
    "from torch.autograd import Function\n",
    "from torchvision import models\n",
    "from torchvision import utils\n",
    "import cv2\n",
    "import sys"
   ]
  },
  {
   "cell_type": "code",
   "execution_count": 3,
   "id": "limiting-deputy",
   "metadata": {},
   "outputs": [],
   "source": [
    "device = torch.device(\"cuda\" if torch.cuda.is_available() else \"cpu\")\n",
    "torch.cuda.set_device(0)\n",
    "test_size = 0.2\n",
    "valid_size = 0.3\n",
    "train_size = 0.5\n",
    "batch_size = 4\n",
    "test_bs = 4\n",
    "random.seed(time.time())"
   ]
  },
  {
   "cell_type": "code",
   "execution_count": 19,
   "id": "falling-retreat",
   "metadata": {},
   "outputs": [],
   "source": [
    "class Focal_Loss(_Loss):\n",
    "    def __init__(self, alpha = 1 , gamma = 1 , logits = False, reduce = False, ignore_index=10000, from_logits=False):\n",
    "        super(Focal_Loss, self).__init__()\n",
    "        self.alpha = alpha\n",
    "        self.gamma = gamma\n",
    "        self.ignore_index = ignore_index\n",
    "        self.logits = logits\n",
    "        self.reduce = reduce\n",
    "        self.loss  = nn.BCELoss(weight = torch.Tensor([3.0, 1.0]).to(device))\n",
    "    def forward(self, inputs, targets):\n",
    "        #CE = F.cross_entropy(inputs, targets, weight = torch.Tensor([1.0, 4.0]).to(device), ignore_index=self.ignore_index)\n",
    "        inputs = torch.sigmoid(inputs)\n",
    "        #print(inputs.shape, targets.shape)\n",
    "        CE = self.loss(inputs, targets)\n",
    "        pt = torch.exp(-CE)\n",
    "        F_loss = self.alpha * (1-pt)**self.gamma * CE\n",
    "\n",
    "        if self.reduce:\n",
    "            return torch.mean(F_loss)\n",
    "        else:\n",
    "            return F_loss\n",
    "\n",
    "class Hswish(nn.Module):\n",
    "    def forward(self, x):\n",
    "        swish = F.relu6(x + 3 , inplace = True)\n",
    "        return x* swish/6.\n",
    "\n",
    "class conv_set(nn.Module):\n",
    "    \"\"\"docstring for conv_set\"\"\"\n",
    "    def __init__(self, in_ch, out_ch, kernel_size, stride, padding):\n",
    "        super(conv_set, self).__init__()\n",
    "        self.conv = nn.Sequential(\n",
    "            nn.Conv2d(in_ch, out_ch, kernel_size, stride, padding, bias = False),\n",
    "            nn.BatchNorm2d(out_ch),\n",
    "            Hswish()\n",
    "            )\n",
    "    def forward(self, x):\n",
    "        out = self.conv(x)\n",
    "        return out\n",
    "\n",
    "class A_net(nn.Module):\n",
    "\n",
    "    def __init__(self, classes):\n",
    "        super(A_net, self).__init__()\n",
    "        self.classes = classes\n",
    "        self.conv  = nn.Conv2d(1, 3, 1, 1, 0)\n",
    "        self.conv1 = conv_set(3,12,3,1,0)\n",
    "        self.conv2 = conv_set(12,16,3,1,0)\n",
    "        self.conv3 = conv_set(16,32,3,1,0)\n",
    "        self.conv4 = conv_set(32,classes,3,1,2)\n",
    "        #self.conv5 = conv_set(64,classes,3,1,0)\n",
    "    def forward(self, x):\n",
    "        x = self.conv(x)\n",
    "        out = self.conv1(x)\n",
    "        out = F.max_pool2d(out, 2,2)\n",
    "        out = self.conv2(out)\n",
    "        out = F.max_pool2d(out, 2,2)\n",
    "        out = self.conv3(out)\n",
    "        out = F.max_pool2d(out, 2,2)\n",
    "        out = self.conv4(out)\n",
    "        return out \n",
    "\n",
    "class CNNX3(nn.Module):\n",
    "    \n",
    "    def __init__(self, backbone = 'drn', out_stride = 16, num_class = 2):\n",
    "        super(CNNX3, self).__init__()\n",
    "        \n",
    "        if backbone == 'drn':\n",
    "            output_stride = 8\n",
    "        #self.drn = drn_d_base(nn.BatchNorm2d)\n",
    "        #self.drn = gc_drn_54(nn.BatchNorm2d)\n",
    "        #self.model = mixnet_l()\n",
    "        self.model_d = drn_d_CBAM(nn.BatchNorm2d)\n",
    "        self.model_l = drn_d_CBAM(nn.BatchNorm2d)\n",
    "        self.model_m = drn_d_CBAM(nn.BatchNorm2d)\n",
    "        #self.attention = A_net(512)\n",
    "        #self.conv_out = nn.Conv2d(512,2,1)\n",
    "        self.avgpool = nn.AdaptiveAvgPool2d(2)\n",
    "        self._dropout = nn.Dropout(0.25)\n",
    "        #self.fc = nn.Linear(2048, 2)\n",
    "        self.fc = nn.Linear(6144, 2)\n",
    "        \n",
    "\n",
    "\n",
    "    def forward(self, input_def, input_lung,input_m):\n",
    "        d = self.model_d(input_def)\n",
    "        d = self.avgpool(d)\n",
    "        l = self.model_l(input_lung)\n",
    "        l = self.avgpool(l)\n",
    "        m = self.model_m(input_m)\n",
    "        m = self.avgpool(m)\n",
    "        x = torch.cat((d.view(d.size(0), -1),\n",
    "                          l.view(l.size(0), -1),m.view(m.size(0), -1)), dim=1)\n",
    "       #atten = self.attention(input)\n",
    "       #atten = torch.sigmoid(atten)\n",
    "       #x = torch.mul(x, atten)\n",
    "        #x = self.conv_out(x)\n",
    "        #x = self.avgpool(x)\n",
    "        #x = x.view(x.size(0), -1)\n",
    "        x = self.fc(x)\n",
    "        x = self._dropout(x)\n",
    "\n",
    "        return x    \n",
    "    \n",
    "class CNNX1(nn.Module):\n",
    "    \n",
    "    def __init__(self, backbone = 'drn', out_stride = 16, num_class = 2):\n",
    "        super(CNNX1, self).__init__()\n",
    "        \n",
    "        if backbone == 'drn':\n",
    "            output_stride = 8\n",
    "        #self.drn = drn_d_base(nn.BatchNorm2d)\n",
    "        #self.drn = gc_drn_54(nn.BatchNorm2d)\n",
    "        #self.model = mixnet_l()\n",
    "        self.model_d = drn_d_CBAM(nn.BatchNorm2d)\n",
    "        self.model_l = drn_d_CBAM(nn.BatchNorm2d)\n",
    "        #self.model_m = drn_d_CBAM(nn.BatchNorm2d)\n",
    "        #self.attention = A_net(512)\n",
    "        #self.conv_out = nn.Conv2d(512,2,1)\n",
    "        self.avgpool = nn.AdaptiveAvgPool2d(2)\n",
    "        self._dropout = nn.Dropout(0.25)\n",
    "        #self.fc = nn.Linear(2048, 2)\n",
    "        self.fc = nn.Linear(4096, 2)\n",
    "        \n",
    "\n",
    "\n",
    "    def forward(self, input_def, input_lung):\n",
    "        d = self.model_d(input_def)\n",
    "        d = self.avgpool(d)\n",
    "        l = self.model_l(input_lung)\n",
    "        l = self.avgpool(l)\n",
    "        #m = self.model_m(input_m)\n",
    "        #m = self.avgpool(m)\n",
    "        x = torch.cat((d.view(d.size(0), -1),\n",
    "                          l.view(l.size(0), -1)), dim=1)\n",
    "       #atten = self.attention(input)\n",
    "       #atten = torch.sigmoid(atten)\n",
    "       #x = torch.mul(x, atten)\n",
    "        #x = self.conv_out(x)\n",
    "        #x = self.avgpool(x)\n",
    "        #x = x.view(x.size(0), -1)\n",
    "        x = self.fc(x)\n",
    "        x = self._dropout(x)\n",
    "\n",
    "        return x\n",
    "\n",
    "class CNNX_P(nn.Module):\n",
    "    \n",
    "    def __init__(self, backbone = 'drn', out_stride = 16, num_class = 2):\n",
    "        super(CNNX_P, self).__init__()\n",
    "        \n",
    "        if backbone == 'drn':\n",
    "            output_stride = 8\n",
    "        #self.drn = drn_d_base(nn.BatchNorm2d)\n",
    "        #self.drn = gc_drn_54(nn.BatchNorm2d)\n",
    "        #self.model = mixnet_l()\n",
    "        self.model = drn_d_CBAM_P(nn.BatchNorm2d)\n",
    "        #self.attention = A_net(512)\n",
    "        #self.conv_out = nn.Conv2d(512,2,1)\n",
    "        self.avgpool = nn.AdaptiveAvgPool2d(2)\n",
    "        self._dropout = nn.Dropout(0.25)\n",
    "        #self.fc = nn.Linear(2048, 2)\n",
    "        self.fc = nn.Linear(2048, 2)\n",
    "        \n",
    "\n",
    "\n",
    "    def forward(self, input):\n",
    "        x = self.model(input)\n",
    "       #atten = self.attention(input)\n",
    "       #atten = torch.sigmoid(atten)\n",
    "       #x = torch.mul(x, atten)\n",
    "        #x = self.conv_out(x)\n",
    "        x = self.avgpool(x)\n",
    "        x = x.view(x.size(0), -1)\n",
    "        x = self.fc(x)\n",
    "        #x = self._dropout(x)\n",
    "\n",
    "        return x    \n",
    "    \n",
    "class EFFN(nn.Module):\n",
    "    \n",
    "    def __init__(self, backbone = 'drn', out_stride = 16, num_class = 2):\n",
    "        super(EFFN, self).__init__()\n",
    "        \n",
    "        if backbone == 'drn':\n",
    "            output_stride = 8\n",
    "        #self.drn = drn_d_base(nn.BatchNorm2d)\n",
    "        #self.drn = gc_drn_54(nn.BatchNorm2d)\n",
    "        #self.model = mixnet_l()\n",
    "        #self.model = drn_d_CBAM(nn.BatchNorm2d)\n",
    "        self.model = efficientnet_el()\n",
    "        #self.attention = A_net(512)\n",
    "        #self.conv_out = nn.Conv2d(512,2,1)\n",
    "        self.avgpool = nn.AdaptiveAvgPool2d(2)\n",
    "        self._dropout = nn.Dropout(0.25)\n",
    "        #self.fc = nn.Linear(2048, 2)\n",
    "        self.fc = nn.Linear(2048, 2)\n",
    "        \n",
    "\n",
    "\n",
    "    def forward(self, input):\n",
    "        x = self.model(input)\n",
    "       #atten = self.attention(input)\n",
    "       #atten = torch.sigmoid(atten)\n",
    "       #x = torch.mul(x, atten)\n",
    "        #x = self.conv_out(x)\n",
    "        #x = self.avgpool(x)\n",
    "        #x = x.view(x.size(0), -1)\n",
    "        #x = self.fc(x)\n",
    "        #x = self._dropout(x)\n",
    "\n",
    "        return x\n",
    "    \n",
    "class CNNX(nn.Module):\n",
    "    \n",
    "    def __init__(self, backbone = 'drn', out_stride = 16, num_class = 2):\n",
    "        super(CNNX, self).__init__()\n",
    "        \n",
    "        if backbone == 'drn':\n",
    "            output_stride = 8\n",
    "        #self.drn = drn_d_base(nn.BatchNorm2d)\n",
    "        #self.drn = gc_drn_54(nn.BatchNorm2d)\n",
    "        #self.model = mixnet_l()\n",
    "        self.model_d = resnet()\n",
    "        self.model_l = resnet()\n",
    "        self.model_m = resnet()\n",
    "        self.model = resnet()\n",
    "        #self.model = drn_d_CBAM(nn.BatchNorm2d)\n",
    "        self.attention = A_net(512)\n",
    "        self.conv_out = nn.Conv2d(512,2,1)\n",
    "        self.avgpool = nn.AdaptiveAvgPool2d(1)\n",
    "        self._dropout = nn.Dropout(0.25)\n",
    "        #self.fc = nn.Linear(2048, 2)\n",
    "        self.fc = nn.Linear(6144, 2)\n",
    "        \n",
    "    \n",
    "    def forward(self, input_def, input_lung, input_m):\n",
    "        d = self.model_d(input_def)\n",
    "        d = self.avgpool(d)\n",
    "        l = self.model_l(input_lung)\n",
    "        l = self.avgpool(l)\n",
    "        m = self.model_m(input_m)\n",
    "        m = self.avgpool(m)\n",
    "        x = torch.cat((d.view(d.size(0), -1),\n",
    "                          l.view(l.size(0), -1),m.view(m.size(0), -1)), dim=1)\n",
    "        #atten = self.attention(x)\n",
    "        #atten = torch.sigmoid(atten)\n",
    "        #x = torch.mul(x, atten)\n",
    "        #x = self.conv_out(x)\n",
    "        \n",
    "        #x = x.view(x.size(0), -1)\n",
    "        #x = self.avgpool(x)\n",
    "        x = self.fc(x)\n",
    "        x = self._dropout(x)\n",
    "\n",
    "        return x\n",
    "\n",
    "def save_model(state,save_model_path,modelname):\n",
    "    filename = os.path.join(save_model_path,modelname+'_'+str(state['epoch']+1)+'.pth')\n",
    "    torch.save(state,filename)\n",
    "\n",
    "def save_best(state,save_model_path,modelname):\n",
    "    filename = os.path.join(save_model_path,modelname+'_'+'.pth')\n",
    "    torch.save(state,filename)\n",
    "\n",
    "def load_model(Net, optimizer, model_file):\n",
    "    assert os.path.exists(model_file),'There is no model file from'+model_file\n",
    "    checkpoint = torch.load(model_file)\n",
    "    print('load', model_file)\n",
    "    Net.load_state_dict(checkpoint['model_state_dict'])\n",
    "    start_epoch = checkpoint['epoch']+1\n",
    "    if optimizer is not None:\n",
    "        optimizer.load_state_dict(checkpoint['optimizer_state_dict'])\n",
    "    return Net, optimizer, start_epoch\n",
    "\n",
    "def train(model, data_loader, opt, loss, epoch,verbose = True):\n",
    "    model.train()\n",
    "    loss_avg = 0.0\n",
    "    correct = 0\n",
    "    for batch_idx, (data_def, data_lung, m, target) in enumerate(data_loader):\n",
    "        #print(data.shape)\n",
    "        data_def, data_lung, m, target = data_def.to(device), data_lung.to(device), m.to(device), target.to(device)\n",
    "        optimizer.zero_grad()\n",
    "        output = model(data_def, data_lung, m)\n",
    "        loss = loss_fn(output, target)\n",
    "        loss_avg = loss_avg + loss.item()\n",
    "        loss.backward()\n",
    "        optimizer.step()\n",
    "        pred = output.data.max(1, keepdim=True)[1] # get the index of the max log-probability\n",
    "        target = target[:,1].long()\n",
    "        correct += pred.eq(target.data.view_as(pred)).cpu().sum().item()\n",
    "        verbose_step = len(data_loader) \n",
    "        if (batch_idx+1)  % verbose_step == 0 and verbose:\n",
    "            print('Train Epoch: {}  Step [{}/{} ({:.0f}%)]  Loss: {:.6f}, Accuracy: {}/{} ({:.0f}%)\\n'.format(\n",
    "                epoch, batch_idx * len(data_def), len(train_idx),\n",
    "                100. * batch_idx / len(train_idx), loss.item(), correct, len(train_idx),\n",
    "            100. * correct / (len(train_idx))))\n",
    "    return loss_avg / (len(train_idx))\n",
    "\n",
    "def test(model, data_loader, loss):\n",
    "    with torch.no_grad():\n",
    "        model.eval()\n",
    "        test_loss = 0\n",
    "        correct = 0\n",
    "        correct_Triage = 0\n",
    "        correct_WNL = 0\n",
    "        y = []\n",
    "        y_score = []\n",
    "        y_pred = []\n",
    "        y_score = []\n",
    "        for data_def, data_lung, m, target in data_loader:\n",
    "            data_def, data_lung, m , target = data_def.to(device), data_lung.to(device), m.to(device), target.to(device)\n",
    "            #print(target.shape)\n",
    "            output = model(data_def, data_lung, m)\n",
    "            test_loss += loss_fn(output, target).item() # sum up batch loss\n",
    "            pred = output.data.max(1, keepdim=True)[1] # get the index of the max log-probability\n",
    "            #print(pred)\n",
    "            target = target[:,1].long()\n",
    "            correct += pred.eq(target.data.view_as(pred)).cpu().sum().item()\n",
    "            score = F.softmax(output, dim = 1)\n",
    "            for i in range(target.shape[0]):\n",
    "                y.append(target[i].cpu().numpy())\n",
    "                y_score.append(score[i,1].cpu().numpy())\n",
    "                y_pred.append(pred[i].cpu().numpy())\n",
    "                if target[i] == 1:\n",
    "                    correct_Triage += pred[i].eq(target[i].data.view_as(pred[i])).cpu().sum().item()\n",
    "    \n",
    "                if target[i] == 0:\n",
    "                    correct_WNL += pred[i].eq(target[i].data.view_as(pred[i])).cpu().sum().item()\n",
    "\n",
    "        test_loss /= len(data_loader.dataset)\n",
    "        print('\\nTest set: Average loss: {:.4f}, Accuracy: {}/{} ({:.0f}%), Triage_acc: ({}), WNL_acc: ({})\\n'.format(\n",
    "            test_loss, correct, len(data_loader.dataset),\n",
    "            100. * correct / len(data_loader.dataset), correct_Triage, correct_WNL))   \n",
    "    #return float(correct) / len(data_loader.dataset),y, y_score, y_pred\n",
    "    return float(correct) / len(data_loader.dataset)\n",
    "\n",
    "\n",
    "#net = EFFN().to(device)\n",
    "\n",
    "class TripletLoss(nn.Module):\n",
    "    \"\"\"Triplet loss with hard positive/negative mining.\n",
    "    Reference:\n",
    "    Hermans et al. In Defense of the Triplet Loss for Person Re-Identification. arXiv:1703.07737.\n",
    "    Code imported from https://github.com/Cysu/open-reid/blob/master/reid/loss/triplet.py.\n",
    "    Args:\n",
    "        margin (float): margin for triplet.\n",
    "    \"\"\"\n",
    "\n",
    "    def __init__(self, margin=0.6, mutual_flag=False):\n",
    "        super(TripletLoss, self).__init__()\n",
    "        self.margin = margin\n",
    "        self.ranking_loss = nn.MarginRankingLoss(margin=margin)\n",
    "        self.mutual = mutual_flag\n",
    "\n",
    "    def forward(self, inputs, targets):\n",
    "        \"\"\"\n",
    "        Args:\n",
    "            inputs: feature matrix with shape (batch_size, feat_dim)\n",
    "            targets: ground truth labels with shape (num_classes)\n",
    "        \"\"\"\n",
    "        n = inputs.size(0)\n",
    "        # inputs = 1. * inputs / (torch.norm(inputs, 2, dim=-1, keepdim=True).expand_as(inputs) + 1e-12)\n",
    "        # Compute pairwise distance, replace by the official when merged\n",
    "        dist = torch.pow(inputs, 2).sum(dim=1, keepdim=True).expand(n, n)\n",
    "        dist = dist + dist.t()\n",
    "        dist.addmm_(1, -2, inputs, inputs.t())\n",
    "        dist = dist.clamp(min=1e-12).sqrt()  # for numerical stability\n",
    "        # For each anchor, find the hardest positive and negative\n",
    "        targets = targets[:,1]\n",
    "        mask = targets.expand(n, n).eq(targets.expand(n, n).t())\n",
    "        dist_ap, dist_an = [], []\n",
    "        for i in range(n):\n",
    "            dist_ap.append(dist[i][mask[i]].max().unsqueeze(0))\n",
    "            dist_an.append(dist[i][mask[i] == 0].min().unsqueeze(0))\n",
    "        dist_ap = torch.cat(dist_ap)\n",
    "        dist_an = torch.cat(dist_an)\n",
    "        # Compute ranking hinge loss\n",
    "        y = torch.ones_like(dist_an)\n",
    "        loss = self.ranking_loss(dist_an, dist_ap, y)\n",
    "        if self.mutual:\n",
    "            return loss, dist\n",
    "        return loss\n",
    "\n",
    "class remix_loss(nn.Module):\n",
    "    \"\"\"docstring for remix_loss\"\"\"\n",
    "    def __init__(self):\n",
    "        super(remix_loss, self).__init__()\n",
    "        self.loss1 = Focal_Loss()\n",
    "        self.loss2 = TripletLoss()\n",
    "    def forward(self, inputs, targets):\n",
    "        loss = self.loss1(inputs, targets) + self.loss2(inputs, np.argmax(targets))\n",
    "\n",
    "        return loss "
   ]
  },
  {
   "cell_type": "markdown",
   "id": "alien-watts",
   "metadata": {},
   "source": [
    "## Data process"
   ]
  },
  {
   "cell_type": "code",
   "execution_count": 5,
   "id": "acute-visibility",
   "metadata": {
    "scrolled": true
   },
   "outputs": [
    {
     "name": "stdout",
     "output_type": "stream",
     "text": [
      "['/home/ubuntu/Andrew/lung_datatset/']\n",
      "655 238\n"
     ]
    }
   ],
   "source": [
    "import glob\n",
    "\n",
    "folder_name =list(glob.glob('/home/ubuntu/Andrew/lung_datatset/'))\n",
    "print(folder_name)\n",
    "num_pic_1 = len(list(glob.glob('/home/ubuntu/Andrew/lung_datatset/PE/*'))+list(glob.glob('/home/ubuntu/Andrew/lung_datatset/PE_new/*')))\n",
    "num_pic_0 = len(list(glob.glob('/home/ubuntu/Andrew/lung_datatset/no_PE/*')))\n",
    "print(num_pic_0,num_pic_1)"
   ]
  },
  {
   "cell_type": "code",
   "execution_count": 6,
   "id": "western-sunday",
   "metadata": {},
   "outputs": [
    {
     "name": "stdout",
     "output_type": "stream",
     "text": [
      "655 238\n",
      "327 119 196 71\n",
      "327 119 196 71 132 48\n"
     ]
    }
   ],
   "source": [
    "CT_0 = list(glob.glob('/home/ubuntu/Andrew/lung_datatset/no_PE/*'))\n",
    "CT_1 = list(glob.glob('/home/ubuntu/Andrew/lung_datatset/PE/*') + list(glob.glob('/home/ubuntu/Andrew/lung_datatset/PE_new/*')))\n",
    "#CT_1_1 = list(glob.glob('/home/ubuntu/Andrew/lung_datatset/no_PE/*'))\n",
    "#CT_1.append(CT_1_1)\n",
    "num_0 = len(CT_0)\n",
    "num_1 = len(CT_1)\n",
    "print(num_0,num_1)\n",
    "random.shuffle (CT_1)\n",
    "split_t_0 = int(train_size*num_pic_0)\n",
    "split_t_1 = int(train_size*num_pic_1)\n",
    "split_v_0 = int(valid_size*num_pic_0)\n",
    "split_v_1 = int(valid_size*num_pic_1)\n",
    "split_te_0 = int(test_size*num_pic_0)\n",
    "split_te_0 = int(test_size*num_pic_1)\n",
    "print(split_t_0,split_t_1,split_v_0,split_v_1)\n",
    "train_0 = CT_0[0:split_t_0]\n",
    "train_1 = CT_1[0:split_t_1]\n",
    "valid_0 = CT_0[split_t_0:split_t_0+split_v_0]\n",
    "valid_1 = CT_1[split_t_1:split_t_1+split_v_1]\n",
    "test_0 = CT_0[split_t_0+split_v_0:]\n",
    "test_1 = CT_1[split_t_1+split_v_1:]\n",
    "#test_0 = list(glob.glob('/home/ubuntu/Andrew/CT_CLA/v0/*'))\n",
    "#test_1 = list(glob.glob('/home/ubuntu/Andrew/CT_CLA/v1/*'))\n",
    "print(len(train_0),len(train_1),len(valid_0),len(valid_1),len(test_0),len(test_1))"
   ]
  },
  {
   "cell_type": "code",
   "execution_count": 7,
   "id": "working-spice",
   "metadata": {},
   "outputs": [],
   "source": [
    "def get_data(folder0, folder1, repeat):\n",
    "    class0_path = []\n",
    "    class1_path = []\n",
    "    target0 = []\n",
    "    target1 = []\n",
    "    for x in folder0:\n",
    "        #print(x)\n",
    "        class0 = x\n",
    "        #print(class0)\n",
    "        class0_path.append(class0)\n",
    "        target0.append(torch.tensor([1.0,0.0]).long())\n",
    "    for x in folder1:\n",
    "        #class1 = glob.glob(x + '/*dcm')\n",
    "        class1 = x\n",
    "        class1_path.append(class1)\n",
    "        target1.append(torch.tensor([0.0,1.0]).long())\n",
    "\n",
    "    #class0_path = random.sample(class0_path, k = len(class1_path))\n",
    "    #target0 = random.sample(target0, k = len(target1))\n",
    "    print(len(class0_path), len(class1_path))\n",
    "    file_path = class0_path + class1_path\n",
    "    target = target0 + target1\n",
    "    #print(file_path, target)\n",
    "    data = zip(file_path, target)\n",
    "    return data, len(class0_path), len(class1_path)"
   ]
  },
  {
   "cell_type": "code",
   "execution_count": 8,
   "id": "treated-cause",
   "metadata": {},
   "outputs": [
    {
     "name": "stdout",
     "output_type": "stream",
     "text": [
      "327 119\n",
      "196 71\n",
      "132 48\n"
     ]
    }
   ],
   "source": [
    "train_data, _, _ = get_data(train_0, train_1, 1)\n",
    "valid_data,pe0, pe1 = get_data(valid_0, valid_1, 1)\n",
    "test_data, _, _ = get_data(test_0, test_1, 1)"
   ]
  },
  {
   "cell_type": "code",
   "execution_count": 9,
   "id": "sustained-adrian",
   "metadata": {},
   "outputs": [
    {
     "name": "stdout",
     "output_type": "stream",
     "text": [
      "<class 'zip'>\n"
     ]
    }
   ],
   "source": [
    "print(type(train_data))"
   ]
  },
  {
   "cell_type": "code",
   "execution_count": 10,
   "id": "complex-baseball",
   "metadata": {},
   "outputs": [],
   "source": [
    "from load_data import *\n",
    "\n",
    "Train_Set = mv_loader(list(train_data), transform = None)\n",
    "Valid_Set = mv_loader(list(valid_data), transform = None)\n",
    "Test_Set = mv_loader(list(test_data), transform = None)"
   ]
  },
  {
   "cell_type": "code",
   "execution_count": 11,
   "id": "simple-anime",
   "metadata": {},
   "outputs": [],
   "source": [
    "num_train = len(list(Train_Set))\n",
    "num_valid = len(list(Valid_Set))\n",
    "indices = list(range(num_train))\n",
    "v_indices = list(range(num_valid))\n",
    "train_idx, valid_idx = indices, v_indices"
   ]
  },
  {
   "cell_type": "code",
   "execution_count": 12,
   "id": "limited-measure",
   "metadata": {},
   "outputs": [],
   "source": [
    "train_loader = DataLoader(Train_Set, batch_size=batch_size, shuffle = True,\n",
    "                        num_workers=8, pin_memory=True)\n",
    "valid_loader = DataLoader(Valid_Set, batch_size=test_bs, shuffle = False,\n",
    "                      num_workers=8, pin_memory=True)\n",
    "test_loader = DataLoader(Test_Set, batch_size=test_bs, shuffle = False,\n",
    "                      num_workers=8, pin_memory=True)"
   ]
  },
  {
   "cell_type": "code",
   "execution_count": 20,
   "id": "atmospheric-injury",
   "metadata": {},
   "outputs": [
    {
     "name": "stdout",
     "output_type": "stream",
     "text": [
      "Train Epoch: 0  Step [222/446 (25%)]  Loss: 0.161135, Accuracy: 334/446 (75%)\n",
      "\n",
      "\n",
      "Test set: Average loss: 0.1361, Accuracy: 225/267 (84%), Triage_acc: (40), WNL_acc: (185)\n",
      "\n",
      "0.8426966292134831\n",
      "Train Epoch: 1  Step [222/446 (25%)]  Loss: 0.747489, Accuracy: 370/446 (83%)\n",
      "\n",
      "\n",
      "Test set: Average loss: 0.2463, Accuracy: 189/267 (71%), Triage_acc: (64), WNL_acc: (125)\n",
      "\n",
      "Train Epoch: 2  Step [222/446 (25%)]  Loss: 0.939041, Accuracy: 370/446 (83%)\n",
      "\n",
      "\n",
      "Test set: Average loss: 0.0655, Accuracy: 250/267 (94%), Triage_acc: (63), WNL_acc: (187)\n",
      "\n",
      "0.9363295880149812\n",
      "Train Epoch: 3  Step [222/446 (25%)]  Loss: 0.303060, Accuracy: 399/446 (89%)\n",
      "\n",
      "\n",
      "Test set: Average loss: 0.0731, Accuracy: 239/267 (90%), Triage_acc: (71), WNL_acc: (168)\n",
      "\n",
      "Train Epoch: 4  Step [222/446 (25%)]  Loss: 0.132197, Accuracy: 406/446 (91%)\n",
      "\n",
      "\n",
      "Test set: Average loss: 0.0673, Accuracy: 236/267 (88%), Triage_acc: (58), WNL_acc: (178)\n",
      "\n",
      "Train Epoch: 5  Step [222/446 (25%)]  Loss: 0.122180, Accuracy: 387/446 (87%)\n",
      "\n",
      "\n",
      "Test set: Average loss: 0.0414, Accuracy: 252/267 (94%), Triage_acc: (62), WNL_acc: (190)\n",
      "\n",
      "0.9438202247191011\n",
      "Train Epoch: 6  Step [222/446 (25%)]  Loss: 0.796153, Accuracy: 422/446 (95%)\n",
      "\n",
      "\n",
      "Test set: Average loss: 0.2973, Accuracy: 178/267 (67%), Triage_acc: (68), WNL_acc: (110)\n",
      "\n",
      "Train Epoch: 7  Step [222/446 (25%)]  Loss: 0.063301, Accuracy: 403/446 (90%)\n",
      "\n",
      "\n",
      "Test set: Average loss: 0.0478, Accuracy: 251/267 (94%), Triage_acc: (65), WNL_acc: (186)\n",
      "\n",
      "Train Epoch: 8  Step [222/446 (25%)]  Loss: 0.000009, Accuracy: 414/446 (93%)\n",
      "\n",
      "\n",
      "Test set: Average loss: 0.0375, Accuracy: 256/267 (96%), Triage_acc: (66), WNL_acc: (190)\n",
      "\n",
      "0.9588014981273408\n",
      "Train Epoch: 9  Step [222/446 (25%)]  Loss: 0.619499, Accuracy: 413/446 (93%)\n",
      "\n",
      "\n",
      "Test set: Average loss: 0.0524, Accuracy: 246/267 (92%), Triage_acc: (59), WNL_acc: (187)\n",
      "\n",
      "Train Epoch: 10  Step [222/446 (25%)]  Loss: 0.056778, Accuracy: 414/446 (93%)\n",
      "\n",
      "\n",
      "Test set: Average loss: 0.0258, Accuracy: 257/267 (96%), Triage_acc: (71), WNL_acc: (186)\n",
      "\n",
      "0.9625468164794008\n",
      "Train Epoch: 11  Step [222/446 (25%)]  Loss: 0.688763, Accuracy: 418/446 (94%)\n",
      "\n",
      "\n",
      "Test set: Average loss: 0.0206, Accuracy: 259/267 (97%), Triage_acc: (68), WNL_acc: (191)\n",
      "\n",
      "0.9700374531835206\n",
      "Train Epoch: 12  Step [222/446 (25%)]  Loss: 0.385480, Accuracy: 411/446 (92%)\n",
      "\n",
      "\n",
      "Test set: Average loss: 0.0251, Accuracy: 257/267 (96%), Triage_acc: (67), WNL_acc: (190)\n",
      "\n",
      "Train Epoch: 13  Step [222/446 (25%)]  Loss: 0.027948, Accuracy: 414/446 (93%)\n",
      "\n",
      "\n",
      "Test set: Average loss: 0.0429, Accuracy: 256/267 (96%), Triage_acc: (61), WNL_acc: (195)\n",
      "\n",
      "Train Epoch: 14  Step [222/446 (25%)]  Loss: 0.238376, Accuracy: 413/446 (93%)\n",
      "\n",
      "\n",
      "Test set: Average loss: 0.0769, Accuracy: 238/267 (89%), Triage_acc: (68), WNL_acc: (170)\n",
      "\n",
      "Train Epoch: 15  Step [222/446 (25%)]  Loss: 0.367465, Accuracy: 410/446 (92%)\n",
      "\n",
      "\n",
      "Test set: Average loss: 0.0290, Accuracy: 255/267 (96%), Triage_acc: (68), WNL_acc: (187)\n",
      "\n",
      "Train Epoch: 16  Step [222/446 (25%)]  Loss: 0.044532, Accuracy: 423/446 (95%)\n",
      "\n",
      "\n",
      "Test set: Average loss: 0.0426, Accuracy: 250/267 (94%), Triage_acc: (70), WNL_acc: (180)\n",
      "\n",
      "Train Epoch: 17  Step [222/446 (25%)]  Loss: 0.000717, Accuracy: 429/446 (96%)\n",
      "\n",
      "\n",
      "Test set: Average loss: 0.0264, Accuracy: 256/267 (96%), Triage_acc: (64), WNL_acc: (192)\n",
      "\n",
      "Train Epoch: 18  Step [222/446 (25%)]  Loss: 0.120318, Accuracy: 426/446 (96%)\n",
      "\n",
      "\n",
      "Test set: Average loss: 0.0135, Accuracy: 261/267 (98%), Triage_acc: (70), WNL_acc: (191)\n",
      "\n",
      "0.9775280898876404\n",
      "Train Epoch: 19  Step [222/446 (25%)]  Loss: 0.001608, Accuracy: 428/446 (96%)\n",
      "\n",
      "\n",
      "Test set: Average loss: 0.0501, Accuracy: 248/267 (93%), Triage_acc: (54), WNL_acc: (194)\n",
      "\n",
      "Train Epoch: 20  Step [222/446 (25%)]  Loss: 0.861770, Accuracy: 417/446 (93%)\n",
      "\n",
      "\n",
      "Test set: Average loss: 0.0353, Accuracy: 253/267 (95%), Triage_acc: (63), WNL_acc: (190)\n",
      "\n",
      "Train Epoch: 21  Step [222/446 (25%)]  Loss: 0.219955, Accuracy: 416/446 (93%)\n",
      "\n",
      "\n",
      "Test set: Average loss: 0.0540, Accuracy: 247/267 (93%), Triage_acc: (51), WNL_acc: (196)\n",
      "\n",
      "Train Epoch: 22  Step [222/446 (25%)]  Loss: 0.643141, Accuracy: 423/446 (95%)\n",
      "\n",
      "\n",
      "Test set: Average loss: 0.0691, Accuracy: 247/267 (93%), Triage_acc: (68), WNL_acc: (179)\n",
      "\n",
      "Train Epoch: 23  Step [222/446 (25%)]  Loss: 2.149166, Accuracy: 416/446 (93%)\n",
      "\n",
      "\n",
      "Test set: Average loss: 0.0651, Accuracy: 249/267 (93%), Triage_acc: (55), WNL_acc: (194)\n",
      "\n",
      "Train Epoch: 24  Step [222/446 (25%)]  Loss: 0.055654, Accuracy: 409/446 (92%)\n",
      "\n",
      "\n",
      "Test set: Average loss: 0.0615, Accuracy: 240/267 (90%), Triage_acc: (64), WNL_acc: (176)\n",
      "\n",
      "Train Epoch: 25  Step [222/446 (25%)]  Loss: 0.006628, Accuracy: 424/446 (95%)\n",
      "\n",
      "\n",
      "Test set: Average loss: 0.0092, Accuracy: 263/267 (99%), Triage_acc: (69), WNL_acc: (194)\n",
      "\n",
      "0.9850187265917603\n",
      "Train Epoch: 26  Step [222/446 (25%)]  Loss: 0.000079, Accuracy: 435/446 (98%)\n",
      "\n",
      "\n",
      "Test set: Average loss: 0.0182, Accuracy: 261/267 (98%), Triage_acc: (70), WNL_acc: (191)\n",
      "\n",
      "Train Epoch: 27  Step [222/446 (25%)]  Loss: 0.349255, Accuracy: 438/446 (98%)\n",
      "\n",
      "\n",
      "Test set: Average loss: 0.0412, Accuracy: 252/267 (94%), Triage_acc: (67), WNL_acc: (185)\n",
      "\n"
     ]
    },
    {
     "ename": "KeyboardInterrupt",
     "evalue": "",
     "output_type": "error",
     "traceback": [
      "\u001b[0;31m---------------------------------------------------------------------------\u001b[0m",
      "\u001b[0;31mKeyboardInterrupt\u001b[0m                         Traceback (most recent call last)",
      "\u001b[0;32m<ipython-input-20-fc08d276b0bc>\u001b[0m in \u001b[0;36m<module>\u001b[0;34m\u001b[0m\n\u001b[1;32m     45\u001b[0m     \u001b[0;31m#                    num_workers=4, pin_memory=True)\u001b[0m\u001b[0;34m\u001b[0m\u001b[0;34m\u001b[0m\u001b[0;34m\u001b[0m\u001b[0m\n\u001b[1;32m     46\u001b[0m     \u001b[0;31m#lr = adjust_learning_rate(learning_rate, optimizer, epoch, epoch_list=[80, 170])\u001b[0m\u001b[0;34m\u001b[0m\u001b[0;34m\u001b[0m\u001b[0;34m\u001b[0m\u001b[0m\n\u001b[0;32m---> 47\u001b[0;31m     \u001b[0mtrain_loss\u001b[0m \u001b[0;34m=\u001b[0m \u001b[0mtrain\u001b[0m\u001b[0;34m(\u001b[0m\u001b[0mnet\u001b[0m\u001b[0;34m,\u001b[0m \u001b[0mtrain_loader\u001b[0m\u001b[0;34m,\u001b[0m \u001b[0moptimizer\u001b[0m\u001b[0;34m,\u001b[0m \u001b[0mloss_fn\u001b[0m\u001b[0;34m,\u001b[0m \u001b[0mepoch\u001b[0m\u001b[0;34m,\u001b[0m \u001b[0mverbose\u001b[0m\u001b[0;34m=\u001b[0m\u001b[0;32mTrue\u001b[0m\u001b[0;34m)\u001b[0m\u001b[0;34m\u001b[0m\u001b[0;34m\u001b[0m\u001b[0m\n\u001b[0m\u001b[1;32m     48\u001b[0m     \u001b[0mvalid_acc\u001b[0m \u001b[0;34m=\u001b[0m \u001b[0mtest\u001b[0m\u001b[0;34m(\u001b[0m\u001b[0mnet\u001b[0m\u001b[0;34m,\u001b[0m \u001b[0mvalid_loader\u001b[0m\u001b[0;34m,\u001b[0m \u001b[0mloss_fn\u001b[0m\u001b[0;34m)\u001b[0m\u001b[0;34m\u001b[0m\u001b[0;34m\u001b[0m\u001b[0m\n\u001b[1;32m     49\u001b[0m     \u001b[0;31m#valid_acc, tp, tn = test(net, valid_loader, loss_fn)\u001b[0m\u001b[0;34m\u001b[0m\u001b[0;34m\u001b[0m\u001b[0;34m\u001b[0m\u001b[0m\n",
      "\u001b[0;32m<ipython-input-19-4f47d88537e7>\u001b[0m in \u001b[0;36mtrain\u001b[0;34m(model, data_loader, opt, loss, epoch, verbose)\u001b[0m\n\u001b[1;32m    286\u001b[0m         \u001b[0mloss_avg\u001b[0m \u001b[0;34m=\u001b[0m \u001b[0mloss_avg\u001b[0m \u001b[0;34m+\u001b[0m \u001b[0mloss\u001b[0m\u001b[0;34m.\u001b[0m\u001b[0mitem\u001b[0m\u001b[0;34m(\u001b[0m\u001b[0;34m)\u001b[0m\u001b[0;34m\u001b[0m\u001b[0;34m\u001b[0m\u001b[0m\n\u001b[1;32m    287\u001b[0m         \u001b[0mloss\u001b[0m\u001b[0;34m.\u001b[0m\u001b[0mbackward\u001b[0m\u001b[0;34m(\u001b[0m\u001b[0;34m)\u001b[0m\u001b[0;34m\u001b[0m\u001b[0;34m\u001b[0m\u001b[0m\n\u001b[0;32m--> 288\u001b[0;31m         \u001b[0moptimizer\u001b[0m\u001b[0;34m.\u001b[0m\u001b[0mstep\u001b[0m\u001b[0;34m(\u001b[0m\u001b[0;34m)\u001b[0m\u001b[0;34m\u001b[0m\u001b[0;34m\u001b[0m\u001b[0m\n\u001b[0m\u001b[1;32m    289\u001b[0m         \u001b[0mpred\u001b[0m \u001b[0;34m=\u001b[0m \u001b[0moutput\u001b[0m\u001b[0;34m.\u001b[0m\u001b[0mdata\u001b[0m\u001b[0;34m.\u001b[0m\u001b[0mmax\u001b[0m\u001b[0;34m(\u001b[0m\u001b[0;36m1\u001b[0m\u001b[0;34m,\u001b[0m \u001b[0mkeepdim\u001b[0m\u001b[0;34m=\u001b[0m\u001b[0;32mTrue\u001b[0m\u001b[0;34m)\u001b[0m\u001b[0;34m[\u001b[0m\u001b[0;36m1\u001b[0m\u001b[0;34m]\u001b[0m \u001b[0;31m# get the index of the max log-probability\u001b[0m\u001b[0;34m\u001b[0m\u001b[0;34m\u001b[0m\u001b[0m\n\u001b[1;32m    290\u001b[0m         \u001b[0mtarget\u001b[0m \u001b[0;34m=\u001b[0m \u001b[0mtarget\u001b[0m\u001b[0;34m[\u001b[0m\u001b[0;34m:\u001b[0m\u001b[0;34m,\u001b[0m\u001b[0;36m1\u001b[0m\u001b[0;34m]\u001b[0m\u001b[0;34m.\u001b[0m\u001b[0mlong\u001b[0m\u001b[0;34m(\u001b[0m\u001b[0;34m)\u001b[0m\u001b[0;34m\u001b[0m\u001b[0;34m\u001b[0m\u001b[0m\n",
      "\u001b[0;32m~/Andrew/PE_research/optimizer.py\u001b[0m in \u001b[0;36mstep\u001b[0;34m(self, closure)\u001b[0m\n\u001b[1;32m    192\u001b[0m                 \u001b[0;32mif\u001b[0m \u001b[0mN_sma\u001b[0m \u001b[0;34m>\u001b[0m \u001b[0;36m4\u001b[0m\u001b[0;34m:\u001b[0m\u001b[0;34m\u001b[0m\u001b[0;34m\u001b[0m\u001b[0m\n\u001b[1;32m    193\u001b[0m                     \u001b[0mdenom\u001b[0m \u001b[0;34m=\u001b[0m \u001b[0mexp_avg_sq\u001b[0m\u001b[0;34m.\u001b[0m\u001b[0msqrt\u001b[0m\u001b[0;34m(\u001b[0m\u001b[0;34m)\u001b[0m\u001b[0;34m.\u001b[0m\u001b[0madd_\u001b[0m\u001b[0;34m(\u001b[0m\u001b[0mgroup\u001b[0m\u001b[0;34m[\u001b[0m\u001b[0;34m'eps'\u001b[0m\u001b[0;34m]\u001b[0m\u001b[0;34m)\u001b[0m\u001b[0;34m\u001b[0m\u001b[0;34m\u001b[0m\u001b[0m\n\u001b[0;32m--> 194\u001b[0;31m                     \u001b[0mp_data_fp32\u001b[0m\u001b[0;34m.\u001b[0m\u001b[0maddcdiv_\u001b[0m\u001b[0;34m(\u001b[0m\u001b[0;34m-\u001b[0m\u001b[0mstep_size\u001b[0m\u001b[0;34m,\u001b[0m \u001b[0mexp_avg\u001b[0m\u001b[0;34m,\u001b[0m \u001b[0mdenom\u001b[0m\u001b[0;34m)\u001b[0m\u001b[0;34m\u001b[0m\u001b[0;34m\u001b[0m\u001b[0m\n\u001b[0m\u001b[1;32m    195\u001b[0m                 \u001b[0;32melse\u001b[0m\u001b[0;34m:\u001b[0m\u001b[0;34m\u001b[0m\u001b[0;34m\u001b[0m\u001b[0m\n\u001b[1;32m    196\u001b[0m                     \u001b[0mp_data_fp32\u001b[0m\u001b[0;34m.\u001b[0m\u001b[0madd_\u001b[0m\u001b[0;34m(\u001b[0m\u001b[0;34m-\u001b[0m\u001b[0mstep_size\u001b[0m\u001b[0;34m,\u001b[0m \u001b[0mexp_avg\u001b[0m\u001b[0;34m)\u001b[0m\u001b[0;34m\u001b[0m\u001b[0;34m\u001b[0m\u001b[0m\n",
      "\u001b[0;31mKeyboardInterrupt\u001b[0m: "
     ]
    }
   ],
   "source": [
    "net = CNNX3().to(device)\n",
    "learning_rate = 0.0001\n",
    "#optimizer = optim.SGD(net.parameters(), lr=learning_rate, momentum=0.9, weight_decay=1e-4)\n",
    "optimizer = Ranger(net.parameters())\n",
    "\n",
    "# Train the model\n",
    "num_epochs = 250\n",
    "model_name = 'dinamic_M3V_drn'\n",
    "#model_name = 'EFF_0608_r'\n",
    "#loss_fn = nn.BCELoss()\n",
    "loss_fn = Focal_Loss()\n",
    "output_path = 'log'\n",
    "resume = 'None'\n",
    "\n",
    "#resume = '/home/ubuntu/Andrew/PE_research/log/savemodel/CT_class_0606_a_.pth'\n",
    "#resume = '/home/ubuntu/Andrew/PE_research/log/savemodel/CT_class_resbest_acc_.pth'\n",
    "StartTime = time.time()\n",
    "loss, val_acc, lr_curve = [], [], []\n",
    "'''\n",
    "if resume is not None:\n",
    "    net, optimizer, _ = load_model(net, optimizer, resume)\n",
    "    #print('load', resume)\n",
    "'''\n",
    "\n",
    "best_acc = 0.0\n",
    "best = 0\n",
    "for epoch in range(num_epochs):\n",
    "\n",
    "    \n",
    "    #if (epoch+1)%5 == 0:\n",
    "    #    random.seed(epoch)\n",
    "    #    train_data = get_train_data(train_folder)\n",
    "    #    Train_Set = PE(list(train_data), transform = None)\n",
    "    #    train_loader = DataLoader(Train_Set, batch_size=batch_size, shuffle = True,\n",
    "    #                    num_workers=8, pin_memory=True)\n",
    "    #    class0_path = random.sample(class0_path, k = 3*len(class1_path))\n",
    "    #    target0 = random.sample(target0, k = 3*len(target1))\n",
    "    #    print(len(class0_path), len(class1_path))\n",
    "    #    file_path = class0_path + class1_path\n",
    "    #    target = target0 + target1\n",
    "    #    #print(file_path, target)\n",
    "    #    train_data = zip(file_path, target)\n",
    "    #    Train_Set = PE(list(train_data), transform = True)\n",
    "    #    train_loader = DataLoader(Train_Set, batch_size=batch_size, shuffle = True,\n",
    "    #                    num_workers=4, pin_memory=True)\n",
    "    #lr = adjust_learning_rate(learning_rate, optimizer, epoch, epoch_list=[80, 170])\n",
    "    train_loss = train(net, train_loader, optimizer, loss_fn, epoch, verbose=True)\n",
    "    valid_acc = test(net, valid_loader, loss_fn)\n",
    "    #valid_acc, tp, tn = test(net, valid_loader, loss_fn)\n",
    "    loss.append(train_loss)\n",
    "    #print((tn/pe0), tp/pe1)\n",
    "    val_acc.append(valid_acc)\n",
    "    if (epoch+1)%10 == 0 or epoch==num_epochs-1:\n",
    "        save_model({'epoch':epoch,\n",
    "                    'model_state_dict':net.state_dict(),\n",
    "                    'optimizer_state_dict':optimizer.state_dict(),\n",
    "                    },\n",
    "                    os.path.join(output_path,'savemodel'),model_name)\n",
    "    \n",
    "    #if tp/pe1 > 0.7 and tn>best:\n",
    "    if valid_acc >= best_acc:\n",
    "        #print((tn//pe0), tp//pe1)\n",
    "        print(valid_acc)\n",
    "        save_best({'epoch':epoch,\n",
    "                    'model_state_dict':net.state_dict(),\n",
    "                    'optimizer_state_dict':optimizer.state_dict(),\n",
    "                    },\n",
    "                    os.path.join(output_path,'savemodel'),'CT_class_dinamic_M3V_drn')\n",
    "        best_acc = valid_acc\n",
    "        #best = tn\n"
   ]
  },
  {
   "cell_type": "code",
   "execution_count": 21,
   "id": "inside-authentication",
   "metadata": {},
   "outputs": [
    {
     "name": "stdout",
     "output_type": "stream",
     "text": [
      "load /home/ubuntu/Andrew/PE_research/log/savemodel/CT_class_dinamic_M3V_drn_.pth\n",
      "set state called\n",
      "\n",
      "Test set: Average loss: 0.0365, Accuracy: 174/180 (97%), Triage_acc: (44), WNL_acc: (130)\n",
      "\n",
      "Time Usage:  0:55:21\n"
     ]
    },
    {
     "data": {
      "image/png": "[encoded data removed]",
      "text/plain": [
       "<Figure size 432x288 with 1 Axes>"
      ]
     },
     "metadata": {
      "needs_background": "light"
     },
     "output_type": "display_data"
    },
    {
     "data": {
      "image/png": "[encoded data removed]",
      "text/plain": [
       "<Figure size 432x288 with 1 Axes>"
      ]
     },
     "metadata": {
      "needs_background": "light"
     },
     "output_type": "display_data"
    },
    {
     "data": {
      "image/png": "[encoded data removed]",
      "text/plain": [
       "<Figure size 432x288 with 1 Axes>"
      ]
     },
     "metadata": {
      "needs_background": "light"
     },
     "output_type": "display_data"
    }
   ],
   "source": [
    "net, _, _ = load_model(net, optimizer, '/home/ubuntu/Andrew/PE_research/log/savemodel/CT_class_dinamic_M3V_drn_.pth')\n",
    "test_acc = test(net, test_loader, loss_fn)\n",
    "EndTime = time.time()\n",
    "print('Time Usage: ', str(datetime.timedelta(seconds=int(round(EndTime-StartTime)))))\n",
    "\n",
    "\n",
    "\n",
    "plt.figure()\n",
    "plt.plot(loss)\n",
    "plt.title('Train Loss')\n",
    "plt.xlabel('epochs')\n",
    "plt.ylabel('loss')\n",
    "plt.show()\n",
    "plt.figure()\n",
    "\n",
    "plt.plot(valid_acc)\n",
    "plt.title('accuracy')\n",
    "plt.xlabel('epochs')\n",
    "plt.ylabel('acc')\n",
    "plt.show()\n",
    "\n",
    "plt.figure()\n",
    "plt.plot(val_acc)\n",
    "plt.title('Valid Acc')\n",
    "plt.xlabel('epochs')\n",
    "plt.ylabel('accuracy')\n",
    "plt.show()"
   ]
  },
  {
   "cell_type": "markdown",
   "id": "novel-hotel",
   "metadata": {},
   "source": [
    "# Grad Cam"
   ]
  },
  {
   "cell_type": "code",
   "execution_count": 11,
   "id": "acknowledged-memory",
   "metadata": {},
   "outputs": [
    {
     "name": "stdout",
     "output_type": "stream",
     "text": [
      "load /home/ubuntu/Andrew/PE_research/log/savemodel/CT_class_dinamic_MV_drn_.pth\n",
      "set state called\n",
      "test model ready\n",
      "13 6\n",
      "testing set ready\n",
      "\n",
      "Test set: Average loss: 0.0263, Accuracy: 18/19 (95%), Triage_acc: (6), WNL_acc: (12)\n",
      "\n",
      "slice: 0\n",
      "tensor([[0],\n",
      "        [0],\n",
      "        [0],\n",
      "        [0]], device='cuda:0')\n",
      "slice: 1\n",
      "tensor([[0],\n",
      "        [0],\n",
      "        [0],\n",
      "        [0]], device='cuda:0')\n",
      "slice: 2\n",
      "tensor([[0],\n",
      "        [0],\n",
      "        [0],\n",
      "        [0]], device='cuda:0')\n",
      "slice: 3\n",
      "tensor([[1],\n",
      "        [1],\n",
      "        [1],\n",
      "        [1]], device='cuda:0')\n",
      "slice: 4\n",
      "tensor([[1],\n",
      "        [1],\n",
      "        [1]], device='cuda:0')\n"
     ]
    }
   ],
   "source": [
    "count = 0\n",
    "net = CNNX1().to(device)\n",
    "learning_rate = 0.0001\n",
    "optimizer = Ranger(net.parameters())\n",
    "loss_fn = Focal_Loss()\n",
    "net, _, _ = load_model(net, optimizer, '/home/ubuntu/Andrew/PE_research/log/savemodel/CT_class_dinamic_MV_drn_.pth')\n",
    "print('test model ready')\n",
    "\n",
    "from load_data import *\n",
    "\n",
    "testing_0 = list(glob.glob('/home/ubuntu/Andrew/lung_datatset/test/noPE/19743272/*'))\n",
    "testing_1 = list(glob.glob('/home/ubuntu/Andrew/lung_datatset/test/PE/04517051/*'))\n",
    "testing_data, _, _ = get_data(testing_0, testing_1, 1)\n",
    "Testing_Set = mv_loader(list(testing_data), transform = None)\n",
    "print('testing set ready')\n",
    "testing_loader = DataLoader(Testing_Set, batch_size=test_bs, shuffle = False,\n",
    "                      num_workers=8, pin_memory=True)\n",
    "test_acc = test(net, testing_loader, loss_fn)\n",
    "\n",
    "\n",
    "for data_def, data_lung, m, target in testing_loader:\n",
    "    print(\"slice:\",count)\n",
    "    count = count+1\n",
    "    data_def, data_lung, target = data_def.to(device), data_lung.to(device), target.to(device)\n",
    "    output = net(data_def, data_lung).data\n",
    "    pred = output.data.max(1, keepdim=True)[1]\n",
    "    print(pred)"
   ]
  },
  {
   "cell_type": "code",
   "execution_count": 42,
   "id": "demographic-design",
   "metadata": {},
   "outputs": [
    {
     "ename": "TypeError",
     "evalue": "forward() missing 1 required positional argument: 'input_lung'",
     "output_type": "error",
     "traceback": [
      "\u001b[0;31m---------------------------------------------------------------------------\u001b[0m",
      "\u001b[0;31mTypeError\u001b[0m                                 Traceback (most recent call last)",
      "\u001b[0;32m<ipython-input-42-569ac9234150>\u001b[0m in \u001b[0;36m<module>\u001b[0;34m\u001b[0m\n\u001b[1;32m     18\u001b[0m \u001b[0;34m\u001b[0m\u001b[0m\n\u001b[1;32m     19\u001b[0m \u001b[0;31m# You can also pass aug_smooth=True and eigen_smooth=True, to apply smoothing.\u001b[0m\u001b[0;34m\u001b[0m\u001b[0;34m\u001b[0m\u001b[0;34m\u001b[0m\u001b[0m\n\u001b[0;32m---> 20\u001b[0;31m \u001b[0mgrayscale_cam\u001b[0m \u001b[0;34m=\u001b[0m \u001b[0mcam\u001b[0m\u001b[0;34m(\u001b[0m\u001b[0minput_tensor\u001b[0m\u001b[0;34m=\u001b[0m\u001b[0minput_tensor\u001b[0m\u001b[0;34m,\u001b[0m  \u001b[0mtarget_category\u001b[0m\u001b[0;34m=\u001b[0m\u001b[0mtarget_category\u001b[0m\u001b[0;34m)\u001b[0m\u001b[0;34m\u001b[0m\u001b[0;34m\u001b[0m\u001b[0m\n\u001b[0m\u001b[1;32m     21\u001b[0m \u001b[0;34m\u001b[0m\u001b[0m\n\u001b[1;32m     22\u001b[0m \u001b[0;31m# In this example grayscale_cam has only one image in the batch:\u001b[0m\u001b[0;34m\u001b[0m\u001b[0;34m\u001b[0m\u001b[0;34m\u001b[0m\u001b[0m\n",
      "\u001b[0;32m~/tensorflow/anaconda3/lib/python3.7/site-packages/pytorch_grad_cam/base_cam.py\u001b[0m in \u001b[0;36m__call__\u001b[0;34m(self, input_tensor, target_category, aug_smooth, eigen_smooth)\u001b[0m\n\u001b[1;32m    127\u001b[0m \u001b[0;34m\u001b[0m\u001b[0m\n\u001b[1;32m    128\u001b[0m         return self.forward(input_tensor,\n\u001b[0;32m--> 129\u001b[0;31m             target_category, eigen_smooth)\n\u001b[0m",
      "\u001b[0;32m~/tensorflow/anaconda3/lib/python3.7/site-packages/pytorch_grad_cam/base_cam.py\u001b[0m in \u001b[0;36mforward\u001b[0;34m(self, input_tensor, target_category, eigen_smooth)\u001b[0m\n\u001b[1;32m     57\u001b[0m             \u001b[0minput_tensor\u001b[0m \u001b[0;34m=\u001b[0m \u001b[0minput_tensor\u001b[0m\u001b[0;34m.\u001b[0m\u001b[0mcuda\u001b[0m\u001b[0;34m(\u001b[0m\u001b[0;34m)\u001b[0m\u001b[0;34m\u001b[0m\u001b[0;34m\u001b[0m\u001b[0m\n\u001b[1;32m     58\u001b[0m \u001b[0;34m\u001b[0m\u001b[0m\n\u001b[0;32m---> 59\u001b[0;31m         \u001b[0moutput\u001b[0m \u001b[0;34m=\u001b[0m \u001b[0mself\u001b[0m\u001b[0;34m.\u001b[0m\u001b[0mactivations_and_grads\u001b[0m\u001b[0;34m(\u001b[0m\u001b[0minput_tensor\u001b[0m\u001b[0;34m)\u001b[0m\u001b[0;34m\u001b[0m\u001b[0;34m\u001b[0m\u001b[0m\n\u001b[0m\u001b[1;32m     60\u001b[0m \u001b[0;34m\u001b[0m\u001b[0m\n\u001b[1;32m     61\u001b[0m         \u001b[0;32mif\u001b[0m \u001b[0mtype\u001b[0m\u001b[0;34m(\u001b[0m\u001b[0mtarget_category\u001b[0m\u001b[0;34m)\u001b[0m \u001b[0;32mis\u001b[0m \u001b[0mint\u001b[0m\u001b[0;34m:\u001b[0m\u001b[0;34m\u001b[0m\u001b[0;34m\u001b[0m\u001b[0m\n",
      "\u001b[0;32m~/tensorflow/anaconda3/lib/python3.7/site-packages/pytorch_grad_cam/activations_and_gradients.py\u001b[0m in \u001b[0;36m__call__\u001b[0;34m(self, x)\u001b[0m\n\u001b[1;32m     28\u001b[0m         \u001b[0mself\u001b[0m\u001b[0;34m.\u001b[0m\u001b[0mgradients\u001b[0m \u001b[0;34m=\u001b[0m \u001b[0;34m[\u001b[0m\u001b[0;34m]\u001b[0m\u001b[0;34m\u001b[0m\u001b[0;34m\u001b[0m\u001b[0m\n\u001b[1;32m     29\u001b[0m         \u001b[0mself\u001b[0m\u001b[0;34m.\u001b[0m\u001b[0mactivations\u001b[0m \u001b[0;34m=\u001b[0m \u001b[0;34m[\u001b[0m\u001b[0;34m]\u001b[0m\u001b[0;34m\u001b[0m\u001b[0;34m\u001b[0m\u001b[0m\n\u001b[0;32m---> 30\u001b[0;31m         \u001b[0;32mreturn\u001b[0m \u001b[0mself\u001b[0m\u001b[0;34m.\u001b[0m\u001b[0mmodel\u001b[0m\u001b[0;34m(\u001b[0m\u001b[0mx\u001b[0m\u001b[0;34m)\u001b[0m\u001b[0;34m\u001b[0m\u001b[0;34m\u001b[0m\u001b[0m\n\u001b[0m",
      "\u001b[0;32m~/tensorflow/anaconda3/lib/python3.7/site-packages/torch/nn/modules/module.py\u001b[0m in \u001b[0;36m__call__\u001b[0;34m(self, *input, **kwargs)\u001b[0m\n\u001b[1;32m    548\u001b[0m             \u001b[0mresult\u001b[0m \u001b[0;34m=\u001b[0m \u001b[0mself\u001b[0m\u001b[0;34m.\u001b[0m\u001b[0m_slow_forward\u001b[0m\u001b[0;34m(\u001b[0m\u001b[0;34m*\u001b[0m\u001b[0minput\u001b[0m\u001b[0;34m,\u001b[0m \u001b[0;34m**\u001b[0m\u001b[0mkwargs\u001b[0m\u001b[0;34m)\u001b[0m\u001b[0;34m\u001b[0m\u001b[0;34m\u001b[0m\u001b[0m\n\u001b[1;32m    549\u001b[0m         \u001b[0;32melse\u001b[0m\u001b[0;34m:\u001b[0m\u001b[0;34m\u001b[0m\u001b[0;34m\u001b[0m\u001b[0m\n\u001b[0;32m--> 550\u001b[0;31m             \u001b[0mresult\u001b[0m \u001b[0;34m=\u001b[0m \u001b[0mself\u001b[0m\u001b[0;34m.\u001b[0m\u001b[0mforward\u001b[0m\u001b[0;34m(\u001b[0m\u001b[0;34m*\u001b[0m\u001b[0minput\u001b[0m\u001b[0;34m,\u001b[0m \u001b[0;34m**\u001b[0m\u001b[0mkwargs\u001b[0m\u001b[0;34m)\u001b[0m\u001b[0;34m\u001b[0m\u001b[0;34m\u001b[0m\u001b[0m\n\u001b[0m\u001b[1;32m    551\u001b[0m         \u001b[0;32mfor\u001b[0m \u001b[0mhook\u001b[0m \u001b[0;32min\u001b[0m \u001b[0mself\u001b[0m\u001b[0;34m.\u001b[0m\u001b[0m_forward_hooks\u001b[0m\u001b[0;34m.\u001b[0m\u001b[0mvalues\u001b[0m\u001b[0;34m(\u001b[0m\u001b[0;34m)\u001b[0m\u001b[0;34m:\u001b[0m\u001b[0;34m\u001b[0m\u001b[0;34m\u001b[0m\u001b[0m\n\u001b[1;32m    552\u001b[0m             \u001b[0mhook_result\u001b[0m \u001b[0;34m=\u001b[0m \u001b[0mhook\u001b[0m\u001b[0;34m(\u001b[0m\u001b[0mself\u001b[0m\u001b[0;34m,\u001b[0m \u001b[0minput\u001b[0m\u001b[0;34m,\u001b[0m \u001b[0mresult\u001b[0m\u001b[0;34m)\u001b[0m\u001b[0;34m\u001b[0m\u001b[0;34m\u001b[0m\u001b[0m\n",
      "\u001b[0;31mTypeError\u001b[0m: forward() missing 1 required positional argument: 'input_lung'"
     ]
    }
   ],
   "source": [
    "from pytorch_grad_cam import GradCAM, ScoreCAM, GradCAMPlusPlus, AblationCAM, XGradCAM, EigenCAM\n",
    "from pytorch_grad_cam.utils.image import show_cam_on_image\n",
    "from torchvision.models import resnet50\n",
    "\n",
    "model = net.to(device)\n",
    "target_layer = model.model_d.layer8[-1]\n",
    "input_tensor = Testing_Set# Create an input tensor image for your model..\n",
    "# Note: input_tensor can be a batch tensor with several images!\n",
    "\n",
    "# Construct the CAM object once, and then re-use it on many images:\n",
    "cam = GradCAM(model=model, target_layer=target_layer)\n",
    "\n",
    "# If target_category is None, the highest scoring category\n",
    "# will be used for every image in the batch.\n",
    "# target_category can also be an integer, or a list of different integers\n",
    "# for every image in the batch.\n",
    "target_category = 2\n",
    "\n",
    "# You can also pass aug_smooth=True and eigen_smooth=True, to apply smoothing.\n",
    "grayscale_cam = cam(input_tensor=input_tensor,  target_category=target_category)\n",
    "\n",
    "# In this example grayscale_cam has only one image in the batch:\n",
    "grayscale_cam = grayscale_cam[0, :]\n",
    "visualization = show_cam_on_image(rgb_img, grayscale_cam)"
   ]
  },
  {
   "cell_type": "markdown",
   "id": "political-lloyd",
   "metadata": {},
   "source": [
    "# 2View DRN"
   ]
  },
  {
   "cell_type": "code",
   "execution_count": 16,
   "id": "protected-afternoon",
   "metadata": {},
   "outputs": [
    {
     "name": "stdout",
     "output_type": "stream",
     "text": [
      "load /home/ubuntu/Andrew/PE_research/log/savemodel/CT_class_dinamic_MV_drn_.pth\n",
      "set state called\n",
      "\n",
      "Test set: Average loss: 0.0089, Accuracy: 179/180 (99%), Triage_acc: (48), WNL_acc: (131)\n",
      "\n",
      "Time Usage:  0:25:07\n"
     ]
    },
    {
     "data": {
      "image/png": "[encoded data removed]",
      "text/plain": [
       "<Figure size 432x288 with 1 Axes>"
      ]
     },
     "metadata": {
      "needs_background": "light"
     },
     "output_type": "display_data"
    },
    {
     "data": {
      "image/png": "[encoded data removed]",
      "text/plain": [
       "<Figure size 432x288 with 1 Axes>"
      ]
     },
     "metadata": {
      "needs_background": "light"
     },
     "output_type": "display_data"
    },
    {
     "data": {
      "image/png": "[encoded data removed]",
      "text/plain": [
       "<Figure size 432x288 with 1 Axes>"
      ]
     },
     "metadata": {
      "needs_background": "light"
     },
     "output_type": "display_data"
    }
   ],
   "source": [
    "net, _, _ = load_model(net, optimizer, '/home/ubuntu/Andrew/PE_research/log/savemodel/CT_class_dinamic_MV_drn_.pth')\n",
    "test_acc = test(net, test_loader, loss_fn)\n",
    "EndTime = time.time()\n",
    "print('Time Usage: ', str(datetime.timedelta(seconds=int(round(EndTime-StartTime)))))\n",
    "\n",
    "\n",
    "\n",
    "plt.figure()\n",
    "plt.plot(loss)\n",
    "plt.title('Train Loss')\n",
    "plt.xlabel('epochs')\n",
    "plt.ylabel('loss')\n",
    "plt.show()\n",
    "plt.figure()\n",
    "\n",
    "plt.plot(valid_acc)\n",
    "plt.title('accuracy')\n",
    "plt.xlabel('epochs')\n",
    "plt.ylabel('acc')\n",
    "plt.show()\n",
    "\n",
    "plt.figure()\n",
    "plt.plot(val_acc)\n",
    "plt.title('Valid Acc')\n",
    "plt.xlabel('epochs')\n",
    "plt.ylabel('accuracy')\n",
    "plt.show()"
   ]
  },
  {
   "cell_type": "markdown",
   "id": "built-donor",
   "metadata": {},
   "source": [
    "# dinamic crop drn"
   ]
  },
  {
   "cell_type": "code",
   "execution_count": 28,
   "id": "coupled-tracker",
   "metadata": {},
   "outputs": [
    {
     "name": "stdout",
     "output_type": "stream",
     "text": [
      "load /home/ubuntu/Andrew/PE_research/log/savemodel/CT_class_dinamic_cut_drn_.pth\n",
      "set state called\n",
      "\n",
      "Test set: Average loss: 0.0213, Accuracy: 176/180 (98%), PE_acc: (46), noPE_acc: (130)\n",
      "\n",
      "Time Usage:  0:24:56\n"
     ]
    },
    {
     "data": {
      "image/png": "[encoded data removed]",
      "text/plain": [
       "<Figure size 432x288 with 1 Axes>"
      ]
     },
     "metadata": {
      "needs_background": "light"
     },
     "output_type": "display_data"
    },
    {
     "data": {
      "image/png": "[encoded data removed]",
      "text/plain": [
       "<Figure size 432x288 with 1 Axes>"
      ]
     },
     "metadata": {
      "needs_background": "light"
     },
     "output_type": "display_data"
    },
    {
     "data": {
      "image/png": "[encoded data removed]",
      "text/plain": [
       "<Figure size 432x288 with 1 Axes>"
      ]
     },
     "metadata": {
      "needs_background": "light"
     },
     "output_type": "display_data"
    }
   ],
   "source": [
    "net, _, _ = load_model(net, optimizer, '/home/ubuntu/Andrew/PE_research/log/savemodel/CT_class_dinamic_cut_drn_.pth')\n",
    "test_acc = test(net, test_loader, loss_fn)\n",
    "EndTime = time.time()\n",
    "print('Time Usage: ', str(datetime.timedelta(seconds=int(round(EndTime-StartTime)))))\n",
    "\n",
    "\n",
    "\n",
    "plt.figure()\n",
    "plt.plot(loss)\n",
    "plt.title('Train Loss')\n",
    "plt.xlabel('epochs')\n",
    "plt.ylabel('loss')\n",
    "plt.show()\n",
    "plt.figure()\n",
    "\n",
    "plt.plot(valid_acc)\n",
    "plt.title('accuracy')\n",
    "plt.xlabel('epochs')\n",
    "plt.ylabel('acc')\n",
    "plt.show()\n",
    "\n",
    "plt.figure()\n",
    "plt.plot(val_acc)\n",
    "plt.title('Valid Acc')\n",
    "plt.xlabel('epochs')\n",
    "plt.ylabel('accuracy')\n",
    "plt.show()"
   ]
  },
  {
   "cell_type": "code",
   "execution_count": null,
   "id": "independent-cheese",
   "metadata": {},
   "outputs": [],
   "source": []
  },
  {
   "cell_type": "markdown",
   "id": "downtown-grace",
   "metadata": {},
   "source": [
    "# Canny edge drn"
   ]
  },
  {
   "cell_type": "code",
   "execution_count": 59,
   "id": "german-leader",
   "metadata": {},
   "outputs": [
    {
     "name": "stdout",
     "output_type": "stream",
     "text": [
      "load /home/ubuntu/Andrew/PE_research/log/savemodel/CT_class_canny_drn_.pth\n",
      "set state called\n",
      "\n",
      "Test set: Average loss: 0.2019, Accuracy: 132/166 (80%), PE_acc: (0), noPE_acc: (132)\n",
      "\n",
      "Time Usage:  0:36:22\n"
     ]
    },
    {
     "data": {
      "image/png": "[encoded data removed]",
      "text/plain": [
       "<Figure size 432x288 with 1 Axes>"
      ]
     },
     "metadata": {
      "needs_background": "light"
     },
     "output_type": "display_data"
    },
    {
     "data": {
      "image/png": "[encoded data removed]",
      "text/plain": [
       "<Figure size 432x288 with 1 Axes>"
      ]
     },
     "metadata": {
      "needs_background": "light"
     },
     "output_type": "display_data"
    },
    {
     "data": {
      "image/png": "[encoded data removed]",
      "text/plain": [
       "<Figure size 432x288 with 1 Axes>"
      ]
     },
     "metadata": {
      "needs_background": "light"
     },
     "output_type": "display_data"
    }
   ],
   "source": [
    "net, _, _ = load_model(net, optimizer, '/home/ubuntu/Andrew/PE_research/log/savemodel/CT_class_canny_drn_.pth')\n",
    "test_acc = test(net, test_loader, loss_fn)\n",
    "EndTime = time.time()\n",
    "print('Time Usage: ', str(datetime.timedelta(seconds=int(round(EndTime-StartTime)))))\n",
    "\n",
    "\n",
    "\n",
    "plt.figure()\n",
    "plt.plot(loss)\n",
    "plt.title('Train Loss')\n",
    "plt.xlabel('epochs')\n",
    "plt.ylabel('loss')\n",
    "plt.show()\n",
    "plt.figure()\n",
    "\n",
    "plt.plot(valid_acc)\n",
    "plt.title('accuracy')\n",
    "plt.xlabel('epochs')\n",
    "plt.ylabel('acc')\n",
    "plt.show()\n",
    "\n",
    "plt.figure()\n",
    "plt.plot(val_acc)\n",
    "plt.title('Valid Acc')\n",
    "plt.xlabel('epochs')\n",
    "plt.ylabel('accuracy')\n",
    "plt.show()"
   ]
  },
  {
   "cell_type": "markdown",
   "id": "instant-semiconductor",
   "metadata": {},
   "source": [
    "## ResNet 50 (50epoch) "
   ]
  },
  {
   "cell_type": "code",
   "execution_count": null,
   "id": "allied-seating",
   "metadata": {},
   "outputs": [],
   "source": [
    "net, _, _ = load_model(net, optimizer, '/home/ubuntu/Andrew/PE_research/log/savemodel/CT_class_0606_.pth')\n",
    "test_acc = test(net, test_loader, loss_fn)\n",
    "'''\n",
    "net, _, _ = load_model(net, optimizer, '/home/ubuntu/Andrew/PE_research/log/savemodel/CT_class_resbest_acc_A1_.pth')\n",
    "test_acc = test(net, test_loader, loss_fn)\n",
    "net, _, _ = load_model(net, optimizer, '/home/ubuntu/Andrew/PE_research/log/savemodel/drn_10.pth')\n",
    "test_acc = test(net, test_loader, loss_fn)\n",
    "net, _, _ = load_model(net, optimizer, '/home/ubuntu/Andrew/PE_research/log/savemodel/drn_20.pth')\n",
    "test_acc = test(net, test_loader, loss_fn)\n",
    "net, _, _ = load_model(net, optimizer, '/home/ubuntu/Andrew/PE_research/log/savemodel/drn_30.pth')\n",
    "test_acc = test(net, test_loader, loss_fn)\n",
    "net, _, _ = load_model(net, optimizer, '/home/ubuntu/Andrew/PE_research/log/savemodel/drn_40.pth')\n",
    "test_acc = test(net, test_loader, loss_fn)\n",
    "net, _, _ = load_model(net, optimizer, '/home/ubuntu/Andrew/PE_research/log/savemodel/drn_50.pth')\n",
    "test_acc = test(net, test_loader, loss_fn)\n",
    "#test_acc, y, y_score, y_pred = test(net, test_loader, loss_fn)\n",
    "\n",
    "y = np.array(y)\n",
    "y_pred = np.array(y_pred)\n",
    "y_score = np.array(y_score)\n",
    "\n",
    "precision = precision_score(y, y_pred, average='weighted')\n",
    "recall = recall_score(y, y_pred, average='weighted')\n",
    "print('precision', precision, 'recall', recall)\n",
    "ftr, tpr, _ = roc_curve(y, y_pred)\n",
    "roc_auc = auc(ftr, tpr)\n",
    "print('auc', roc_auc)\n",
    "'''\n",
    "EndTime = time.time()\n",
    "print('Time Usage: ', str(datetime.timedelta(seconds=int(round(EndTime-StartTime)))))\n",
    "\n",
    "\n",
    "\n",
    "plt.figure()\n",
    "plt.plot(loss)\n",
    "plt.title('Train Loss')\n",
    "plt.xlabel('epochs')\n",
    "plt.ylabel('loss')\n",
    "plt.show()\n",
    "plt.figure()\n",
    "\n",
    "plt.plot(valid_acc)\n",
    "plt.title('accuracy')\n",
    "plt.xlabel('epochs')\n",
    "plt.ylabel('acc')\n",
    "plt.show()\n",
    "\n",
    "plt.figure()\n",
    "plt.plot(val_acc)\n",
    "plt.title('Valid Acc')\n",
    "plt.xlabel('epochs')\n",
    "plt.ylabel('accuracy')\n",
    "plt.show()"
   ]
  },
  {
   "cell_type": "markdown",
   "id": "visible-conviction",
   "metadata": {},
   "source": [
    "## ResNet 50 (250 epoch)"
   ]
  },
  {
   "cell_type": "code",
   "execution_count": null,
   "id": "automated-handling",
   "metadata": {},
   "outputs": [],
   "source": [
    "net, _, _ = load_model(net, optimizer, '/home/ubuntu/Andrew/PE_research/log/savemodel/CT_class_0606_1_.pth')\n",
    "test_acc = test(net, test_loader, loss_fn)\n",
    "EndTime = time.time()\n",
    "print('Time Usage: ', str(datetime.timedelta(seconds=int(round(EndTime-StartTime)))))\n",
    "\n",
    "\n",
    "\n",
    "plt.figure()\n",
    "plt.plot(loss)\n",
    "plt.title('Train Loss')\n",
    "plt.xlabel('epochs')\n",
    "plt.ylabel('loss')\n",
    "plt.show()\n",
    "\n",
    "plt.figure()\n",
    "plt.plot(valid_acc)\n",
    "plt.title('accuracy')\n",
    "plt.xlabel('epochs')\n",
    "plt.ylabel('acc')\n",
    "plt.show()\n",
    "\n",
    "plt.figure()\n",
    "plt.plot(val_acc)\n",
    "plt.title('Valid Acc')\n",
    "plt.xlabel('epochs')\n",
    "plt.ylabel('accuracy')\n",
    "plt.show()"
   ]
  },
  {
   "cell_type": "markdown",
   "id": "multiple-cologne",
   "metadata": {},
   "source": [
    "## DRN 150 epoch"
   ]
  },
  {
   "cell_type": "code",
   "execution_count": null,
   "id": "peaceful-relaxation",
   "metadata": {},
   "outputs": [],
   "source": [
    "net, _, _ = load_model(net, optimizer, '/home/ubuntu/Andrew/PE_research/log/savemodel/CT_class_0606_a_.pth')\n",
    "test_acc = test(net, test_loader, loss_fn)\n",
    "EndTime = time.time()\n",
    "print('Time Usage: ', str(datetime.timedelta(seconds=int(round(EndTime-StartTime)))))\n",
    "\n",
    "\n",
    "\n",
    "plt.figure()\n",
    "plt.plot(loss)\n",
    "plt.title('Train Loss')\n",
    "plt.xlabel('epochs')\n",
    "plt.ylabel('loss')\n",
    "plt.show()\n",
    "\n",
    "plt.figure()\n",
    "plt.plot(valid_acc)\n",
    "plt.title('accuracy')\n",
    "plt.xlabel('epochs')\n",
    "plt.ylabel('acc')\n",
    "plt.show()\n",
    "\n",
    "plt.figure()\n",
    "plt.plot(val_acc)\n",
    "plt.title('Valid Acc')\n",
    "plt.xlabel('epochs')\n",
    "plt.ylabel('accuracy')\n",
    "plt.show()"
   ]
  },
  {
   "cell_type": "markdown",
   "id": "configured-space",
   "metadata": {},
   "source": [
    "## DRN 250 epoch"
   ]
  },
  {
   "cell_type": "code",
   "execution_count": null,
   "id": "african-medicaid",
   "metadata": {},
   "outputs": [],
   "source": [
    "net, _, _ = load_model(net, optimizer, '/home/ubuntu/Andrew/PE_research/log/savemodel/CT_class_0607_drn_.pth')\n",
    "test_acc = test(net, test_loader, loss_fn)\n",
    "EndTime = time.time()\n",
    "print('Time Usage: ', str(datetime.timedelta(seconds=int(round(EndTime-StartTime)))))\n",
    "\n",
    "\n",
    "\n",
    "plt.figure()\n",
    "plt.plot(loss)\n",
    "plt.title('Train Loss')\n",
    "plt.xlabel('epochs')\n",
    "plt.ylabel('loss')\n",
    "plt.show()\n",
    "\n",
    "plt.figure()\n",
    "plt.plot(valid_acc)\n",
    "plt.title('accuracy')\n",
    "plt.xlabel('epochs')\n",
    "plt.ylabel('acc')\n",
    "plt.show()\n",
    "\n",
    "plt.figure()\n",
    "plt.plot(val_acc)\n",
    "plt.title('Valid Acc')\n",
    "plt.xlabel('epochs')\n",
    "plt.ylabel('accuracy')\n",
    "plt.show()"
   ]
  },
  {
   "cell_type": "markdown",
   "id": "joint-myanmar",
   "metadata": {},
   "source": [
    "## DRN 250 epoch ranger"
   ]
  },
  {
   "cell_type": "code",
   "execution_count": null,
   "id": "surprised-murray",
   "metadata": {},
   "outputs": [],
   "source": [
    "net, _, _ = load_model(net, optimizer, '/home/ubuntu/Andrew/PE_research/log/savemodel/CT_class_0607_drn_ranger_.pth')\n",
    "test_acc = test(net, test_loader, loss_fn)\n",
    "EndTime = time.time()\n",
    "print('Time Usage: ', str(datetime.timedelta(seconds=int(round(EndTime-StartTime)))))\n",
    "\n",
    "\n",
    "\n",
    "plt.figure()\n",
    "plt.plot(loss)\n",
    "plt.title('Train Loss')\n",
    "plt.xlabel('epochs')\n",
    "plt.ylabel('loss')\n",
    "plt.show()\n",
    "\n",
    "plt.figure()\n",
    "plt.plot(valid_acc)\n",
    "plt.title('accuracy')\n",
    "plt.xlabel('epochs')\n",
    "plt.ylabel('acc')\n",
    "plt.show()\n",
    "\n",
    "plt.figure()\n",
    "plt.plot(val_acc)\n",
    "plt.title('Valid Acc')\n",
    "plt.xlabel('epochs')\n",
    "plt.ylabel('accuracy')\n",
    "plt.show()"
   ]
  },
  {
   "cell_type": "markdown",
   "id": "intended-brazil",
   "metadata": {},
   "source": [
    "## EfficientNet V3"
   ]
  },
  {
   "cell_type": "code",
   "execution_count": null,
   "id": "arbitrary-times",
   "metadata": {},
   "outputs": [],
   "source": [
    "optimizer = Ranger(net.parameters())\n",
    "loss_fn = Focal_Loss()\n",
    "net, _, _ = load_model(net, optimizer, '/home/ubuntu/Andrew/PE_research/log/savemodel/CT_class_0608_eff_.pth')\n",
    "test_acc = test(net, test_loader, loss_fn)\n",
    "EndTime = time.time()\n",
    "print('Time Usage: ', str(datetime.timedelta(seconds=int(round(EndTime-StartTime)))))\n",
    "\n",
    "\n",
    "\n",
    "plt.figure()\n",
    "plt.plot(loss)\n",
    "plt.title('Train Loss')\n",
    "plt.xlabel('epochs')\n",
    "plt.ylabel('loss')\n",
    "plt.show()\n",
    "\n",
    "plt.figure()\n",
    "plt.plot(valid_acc)\n",
    "plt.title('accuracy')\n",
    "plt.xlabel('epochs')\n",
    "plt.ylabel('acc')\n",
    "plt.show()\n",
    "\n",
    "plt.figure()\n",
    "plt.plot(val_acc)\n",
    "plt.title('Valid Acc')\n",
    "plt.xlabel('epochs')\n",
    "plt.ylabel('accuracy')\n",
    "plt.show()"
   ]
  },
  {
   "cell_type": "markdown",
   "id": "peaceful-deployment",
   "metadata": {},
   "source": [
    "# PER patient BEST"
   ]
  },
  {
   "cell_type": "code",
   "execution_count": 11,
   "id": "intense-touch",
   "metadata": {},
   "outputs": [
    {
     "name": "stdout",
     "output_type": "stream",
     "text": [
      "load /home/ubuntu/Andrew/PE_research/log/savemodel/CT_class_dinamic_MV_drn_.pth\n",
      "set state called\n",
      "test model ready\n",
      "13 6\n",
      "testing set ready\n",
      "\n",
      "Test set: Average loss: 0.0263, Accuracy: 18/19 (95%), Triage_acc: (6), WNL_acc: (12)\n",
      "\n",
      "slice: 1\n",
      "tensor([[ 4.3475, -3.7646],\n",
      "        [ 6.4817, -6.0988],\n",
      "        [ 4.1567, -3.6320],\n",
      "        [ 6.2336, -5.7567]], device='cuda:0')\n",
      "slice: 2\n",
      "tensor([[ 4.3111, -3.8129],\n",
      "        [ 5.9058, -5.4295],\n",
      "        [ 6.7043, -6.1995],\n",
      "        [ 6.3591, -5.9095]], device='cuda:0')\n",
      "slice: 3\n",
      "tensor([[ 5.9246, -5.5462],\n",
      "        [ 3.0439, -2.5862],\n",
      "        [ 4.5652, -4.1455],\n",
      "        [ 6.4581, -6.0401]], device='cuda:0')\n",
      "slice: 4\n",
      "tensor([[-0.0447,  0.4595],\n",
      "        [-0.5637,  0.7888],\n",
      "        [-2.0896,  2.2456],\n",
      "        [-0.8957,  1.0669]], device='cuda:0')\n",
      "slice: 5\n",
      "tensor([[-1.8045,  1.9519],\n",
      "        [-2.7991,  2.8434],\n",
      "        [-2.3995,  2.4493]], device='cuda:0')\n"
     ]
    }
   ],
   "source": [
    "count = 1\n",
    "net = CNNX1().to(device)\n",
    "learning_rate = 0.0001\n",
    "optimizer = Ranger(net.parameters())\n",
    "loss_fn = Focal_Loss()\n",
    "net, _, _ = load_model(net, optimizer, '/home/ubuntu/Andrew/PE_research/log/savemodel/CT_class_dinamic_MV_drn_.pth')\n",
    "print('test model ready')\n",
    "\n",
    "from load_data import *\n",
    "\n",
    "testing_0 = list(glob.glob('/home/ubuntu/Andrew/lung_datatset/test/noPE/19743272/*'))\n",
    "testing_1 = list(glob.glob('/home/ubuntu/Andrew/lung_datatset/test/PE/04517051/*'))\n",
    "testing_data, _, _ = get_data(testing_0, testing_1, 1)\n",
    "Testing_Set = mv_loader(list(testing_data), transform = None)\n",
    "print('testing set ready')\n",
    "testing_loader = DataLoader(Testing_Set, batch_size=test_bs, shuffle = False,\n",
    "                      num_workers=8, pin_memory=True)\n",
    "test_acc = test(net, testing_loader, loss_fn)\n",
    "\n",
    "\n",
    "for data_def, data_lung, m, target in testing_loader:\n",
    "    print(\"slice:\",count)\n",
    "    count = count+1\n",
    "    data_def, data_lung, target = data_def.to(device), data_lung.to(device), target.to(device)\n",
    "    output = net(data_def, data_lung).data\n",
    "    #pred = output.data.max(1, keepdim=True)[1]\n",
    "    print(output)\n",
    "    "
   ]
  },
  {
   "cell_type": "markdown",
   "id": "extraordinary-width",
   "metadata": {},
   "source": [
    "# Per patient WNL1"
   ]
  },
  {
   "cell_type": "code",
   "execution_count": 29,
   "id": "automatic-inspiration",
   "metadata": {},
   "outputs": [
    {
     "name": "stdout",
     "output_type": "stream",
     "text": [
      "79 0\n"
     ]
    }
   ],
   "source": [
    "testing_0 = list(glob.glob('/home/ubuntu/Andrew/lung_datatset/test/WNL/*'))\n",
    "testing_1 = list(glob.glob('/home/ubuntu/Andrew/lung_datatset/test/noPE/*'))\n",
    "testing_data, _, _ = get_data(testing_0, testing_1, 1)\n",
    "Testing_Set = PE_transform(list(testing_data), transform = None)\n",
    "testing_loader = DataLoader(Testing_Set, batch_size=test_bs, shuffle = False,\n",
    "                      num_workers=8, pin_memory=True)"
   ]
  },
  {
   "cell_type": "code",
   "execution_count": null,
   "id": "positive-proposition",
   "metadata": {},
   "outputs": [],
   "source": [
    "net = CNNX1().to(device)\n",
    "learning_rate = 0.0001\n",
    "optimizer = optim.SGD(net.parameters(), lr=learning_rate, momentum=0.9, weight_decay=1e-4)\n",
    "#optimizer = Ranger(net.parameters())"
   ]
  },
  {
   "cell_type": "markdown",
   "id": "proof-melbourne",
   "metadata": {},
   "source": [
    "### DRN"
   ]
  },
  {
   "cell_type": "code",
   "execution_count": 30,
   "id": "optimum-refund",
   "metadata": {},
   "outputs": [
    {
     "name": "stdout",
     "output_type": "stream",
     "text": [
      "load /home/ubuntu/Andrew/PE_research/log/savemodel/CT_class_dinamic_cut_drn_.pth\n",
      "set state called\n",
      "\n",
      "Test set: Average loss: 0.0279, Accuracy: 73/79 (92%), PE_acc: (0), noPE_acc: (73)\n",
      "\n"
     ]
    }
   ],
   "source": [
    "net, _, _ = load_model(net, optimizer, '/home/ubuntu/Andrew/PE_research/log/savemodel/CT_class_dinamic_cut_drn_.pth')\n",
    "testing_acc = test(net, testing_loader, loss_fn)"
   ]
  },
  {
   "cell_type": "markdown",
   "id": "potential-animal",
   "metadata": {},
   "source": [
    "# Per patient no_PE"
   ]
  },
  {
   "cell_type": "code",
   "execution_count": 31,
   "id": "handmade-vegetable",
   "metadata": {},
   "outputs": [
    {
     "name": "stdout",
     "output_type": "stream",
     "text": [
      "93 10\n"
     ]
    }
   ],
   "source": [
    "testing_0 = list(glob.glob('/home/ubuntu/Andrew/lung_datatset/test/WNL/*'))\n",
    "testing_1 = list(glob.glob('/home/ubuntu/Andrew/lung_datatset/test/noPE/*'))\n",
    "testing_data, _, _ = get_data(testing_0, testing_1, 1)\n",
    "Testing_Set = PE_transform(list(testing_data), transform = None)\n",
    "testing_loader = DataLoader(Testing_Set, batch_size=test_bs, shuffle = False,\n",
    "                      num_workers=8, pin_memory=True)"
   ]
  },
  {
   "cell_type": "code",
   "execution_count": null,
   "id": "likely-portal",
   "metadata": {},
   "outputs": [],
   "source": []
  },
  {
   "cell_type": "code",
   "execution_count": null,
   "id": "analyzed-nicholas",
   "metadata": {},
   "outputs": [],
   "source": [
    " torch.cuda.empty_cache()"
   ]
  },
  {
   "cell_type": "code",
   "execution_count": null,
   "id": "statistical-genealogy",
   "metadata": {},
   "outputs": [],
   "source": [
    "testing_0 = list(glob.glob('/home/ubuntu/Andrew/CT_CLA/v0/*'))\n",
    "testing_1 = list(glob.glob('/home/ubuntu/Andrew/CT_CLA/v1/*'))\n",
    "testing_data, _, _ = get_data(testing_0, testing_1, 1)\n",
    "Testing_Set = PE_transform(list(testing_data), transform = None)\n",
    "testing_loader = DataLoader(Testing_Set, batch_size=test_bs, shuffle = False,\n",
    "                      num_workers=8, pin_memory=True)"
   ]
  },
  {
   "cell_type": "markdown",
   "id": "immune-charter",
   "metadata": {},
   "source": [
    "NEW_dataset/20210604"
   ]
  },
  {
   "cell_type": "code",
   "execution_count": null,
   "id": "assured-indianapolis",
   "metadata": {},
   "outputs": [],
   "source": [
    "testing_0 = list(glob.glob('/home/ubuntu/Andrew/lung_datatset/WNL/*'))\n",
    "testing_1 = list(glob.glob('/home/ubuntu/Andrew/lung_datatset/no_PE/*'))\n",
    "testing_data, _, _ = get_data(testing_0, testing_1, 1)\n",
    "Testing_Set = PE_transform(list(testing_data), transform = None)\n",
    "testing_loader = DataLoader(Testing_Set, batch_size=test_bs, shuffle = False,\n",
    "                      num_workers=8, pin_memory=True)"
   ]
  },
  {
   "cell_type": "code",
   "execution_count": null,
   "id": "removed-facility",
   "metadata": {},
   "outputs": [],
   "source": [
    "optimizer = optim.SGD(net.parameters(), lr=0.0001, momentum=0.9, weight_decay=1e-4)\n",
    "loss_fn = Focal_Loss()"
   ]
  },
  {
   "cell_type": "code",
   "execution_count": null,
   "id": "biblical-safety",
   "metadata": {},
   "outputs": [],
   "source": [
    "#net, _, _ = load_model(net, optimizer, '/home/ubuntu/Andrew/PE_research/log/savemodel/CT_class_resbest_acc_A1_.pth')\n",
    "#testing_acc = test(net, testing_loader, loss_fn)\n",
    "\n",
    "net, _, _ = load_model(net, optimizer, '/home/ubuntu/Andrew/PE_research/log/savemodel/drn_10.pth')\n",
    "testing_acc = test(net, testing_loader, loss_fn)\n",
    "'''\n",
    "net, _, _ = load_model(net, optimizer, '/home/ubuntu/Andrew/PE_research/log/savemodel/drn_20.pth')\n",
    "testing_acc = test(net, testing_loader, loss_fn)\n",
    "net, _, _ = load_model(net, optimizer, '/home/ubuntu/Andrew/PE_research/log/savemodel/drn_30.pth')\n",
    "testing_acc = test(net, testing_loader, loss_fn)\n",
    "net, _, _ = load_model(net, optimizer, '/home/ubuntu/Andrew/PE_research/log/savemodel/drn_40.pth')\n",
    "testing_acc = test(net, testing_loader, loss_fn)\n",
    "net, _, _ = load_model(net, optimizer, '/home/ubuntu/Andrew/PE_research/log/savemodel/drn_50.pth')\n",
    "testing_acc = test(net, testing_loader, loss_fn)\n",
    "'''"
   ]
  },
  {
   "cell_type": "code",
   "execution_count": null,
   "id": "suburban-inside",
   "metadata": {},
   "outputs": [],
   "source": []
  }
 ],
 "metadata": {
  "kernelspec": {
   "display_name": "Python 3",
   "language": "python",
   "name": "python3"
  },
  "language_info": {
   "codemirror_mode": {
    "name": "ipython",
    "version": 3
   },
   "file_extension": ".py",
   "mimetype": "text/x-python",
   "name": "python",
   "nbconvert_exporter": "python",
   "pygments_lexer": "ipython3",
   "version": "3.7.6"
  }
 },
 "nbformat": 4,
 "nbformat_minor": 5
}
