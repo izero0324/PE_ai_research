{
 "cells": [
  {
   "cell_type": "code",
   "execution_count": 15,
   "id": "acoustic-presentation",
   "metadata": {},
   "outputs": [],
   "source": [
    "import torch\n",
    "import torch.nn as nn\n",
    "import torch.nn.functional as F \n",
    "import time\n",
    "import random\n",
    "import datetime\n",
    "import os\n",
    "import numpy as np\n",
    "import torch.optim as optim\n",
    "import matplotlib.pyplot as plt\n",
    "from torch import Tensor\n",
    "import functools\n",
    "from torchvision import datasets, transforms\n",
    "from torch.nn.modules.loss import _Loss\n",
    "from torch.utils.data import DataLoader\n",
    "import torchvision\n",
    "from model.drn import drn_d_54, drn_d_base\n",
    "from model.CBAM import drn_d_CBAM\n",
    "from model.resnet import ResNet50 as resnet\n",
    "from load_data import *\n",
    "from optimizer import Ranger\n",
    "from collections import Counter\n",
    "from sklearn.metrics import roc_curve, auc\n",
    "from sklearn.metrics import recall_score,accuracy_score, precision_score,f1_score"
   ]
  },
  {
   "cell_type": "code",
   "execution_count": 16,
   "id": "controlling-bride",
   "metadata": {},
   "outputs": [],
   "source": [
    "from load_data import *"
   ]
  },
  {
   "cell_type": "code",
   "execution_count": 17,
   "id": "welcome-independence",
   "metadata": {},
   "outputs": [],
   "source": [
    "from torch.autograd import Variable\n",
    "from torch.autograd import Function\n",
    "from torchvision import models\n",
    "from torchvision import utils\n",
    "import cv2\n",
    "import sys"
   ]
  },
  {
   "cell_type": "code",
   "execution_count": 18,
   "id": "limiting-deputy",
   "metadata": {},
   "outputs": [],
   "source": [
    "device = torch.device(\"cuda\" if torch.cuda.is_available() else \"cpu\")\n",
    "torch.cuda.set_device(0)\n",
    "test_size = 0.2\n",
    "valid_size = 0.3\n",
    "train_size = 0.5\n",
    "batch_size = 4\n",
    "test_bs = 4\n",
    "random.seed(time.time())"
   ]
  },
  {
   "cell_type": "code",
   "execution_count": 19,
   "id": "falling-retreat",
   "metadata": {},
   "outputs": [],
   "source": [
    "class Focal_Loss(_Loss):\n",
    "    def __init__(self, alpha = 1 , gamma = 1 , logits = False, reduce = False, ignore_index=10000, from_logits=False):\n",
    "        super(Focal_Loss, self).__init__()\n",
    "        self.alpha = alpha\n",
    "        self.gamma = gamma\n",
    "        self.ignore_index = ignore_index\n",
    "        self.logits = logits\n",
    "        self.reduce = reduce\n",
    "        self.loss  = nn.BCELoss(weight = torch.Tensor([3.0, 1.0]).to(device))\n",
    "    def forward(self, inputs, targets):\n",
    "        #CE = F.cross_entropy(inputs, targets, weight = torch.Tensor([1.0, 4.0]).to(device), ignore_index=self.ignore_index)\n",
    "        inputs = torch.sigmoid(inputs)\n",
    "        #print(inputs.shape, targets.shape)\n",
    "        CE = self.loss(inputs, targets)\n",
    "        pt = torch.exp(-CE)\n",
    "        F_loss = self.alpha * (1-pt)**self.gamma * CE\n",
    "\n",
    "        if self.reduce:\n",
    "            return torch.mean(F_loss)\n",
    "        else:\n",
    "            return F_loss\n",
    "\n",
    "class Hswish(nn.Module):\n",
    "    def forward(self, x):\n",
    "        swish = F.relu6(x + 3 , inplace = True)\n",
    "        return x* swish/6.\n",
    "\n",
    "class conv_set(nn.Module):\n",
    "    \"\"\"docstring for conv_set\"\"\"\n",
    "    def __init__(self, in_ch, out_ch, kernel_size, stride, padding):\n",
    "        super(conv_set, self).__init__()\n",
    "        self.conv = nn.Sequential(\n",
    "            nn.Conv2d(in_ch, out_ch, kernel_size, stride, padding, bias = False),\n",
    "            nn.BatchNorm2d(out_ch),\n",
    "            Hswish()\n",
    "            )\n",
    "    def forward(self, x):\n",
    "        out = self.conv(x)\n",
    "        return out\n",
    "\n",
    "class A_net(nn.Module):\n",
    "\n",
    "    def __init__(self, classes):\n",
    "        super(A_net, self).__init__()\n",
    "        self.classes = classes\n",
    "        self.conv  = nn.Conv2d(1, 3, 1, 1, 0)\n",
    "        self.conv1 = conv_set(3,12,3,1,0)\n",
    "        self.conv2 = conv_set(12,16,3,1,0)\n",
    "        self.conv3 = conv_set(16,32,3,1,0)\n",
    "        self.conv4 = conv_set(32,classes,3,1,2)\n",
    "        #self.conv5 = conv_set(64,classes,3,1,0)\n",
    "    def forward(self, x):\n",
    "        x = self.conv(x)\n",
    "        out = self.conv1(x)\n",
    "        out = F.max_pool2d(out, 2,2)\n",
    "        out = self.conv2(out)\n",
    "        out = F.max_pool2d(out, 2,2)\n",
    "        out = self.conv3(out)\n",
    "        out = F.max_pool2d(out, 2,2)\n",
    "        out = self.conv4(out)\n",
    "        return out \n",
    "    \n",
    "class CNNX1(nn.Module):\n",
    "    \n",
    "    def __init__(self, backbone = 'drn', out_stride = 16, num_class = 2):\n",
    "        super(CNNX1, self).__init__()\n",
    "        \n",
    "        if backbone == 'drn':\n",
    "            output_stride = 8\n",
    "        #self.drn = drn_d_base(nn.BatchNorm2d)\n",
    "        #self.drn = gc_drn_54(nn.BatchNorm2d)\n",
    "        #self.model = mixnet_l()\n",
    "        self.model = drn_d_CBAM(nn.BatchNorm2d)\n",
    "        #self.attention = A_net(512)\n",
    "        #self.conv_out = nn.Conv2d(512,2,1)\n",
    "        self.avgpool = nn.AdaptiveAvgPool2d(2)\n",
    "        self._dropout = nn.Dropout(0.25)\n",
    "        #self.fc = nn.Linear(2048, 2)\n",
    "        self.fc = nn.Linear(2048, 2)\n",
    "        \n",
    "\n",
    "\n",
    "    def forward(self, input):\n",
    "        x = self.model(input)\n",
    "       #atten = self.attention(input)\n",
    "       #atten = torch.sigmoid(atten)\n",
    "       #x = torch.mul(x, atten)\n",
    "        #x = self.conv_out(x)\n",
    "        x = self.avgpool(x)\n",
    "        x = x.view(x.size(0), -1)\n",
    "        x = self.fc(x)\n",
    "        #x = self._dropout(x)\n",
    "\n",
    "        return x\n",
    "    \n",
    "class CNNX(nn.Module):\n",
    "    \n",
    "    def __init__(self, backbone = 'drn', out_stride = 16, num_class = 2):\n",
    "        super(CNNX, self).__init__()\n",
    "        \n",
    "        if backbone == 'drn':\n",
    "            output_stride = 8\n",
    "        #self.drn = drn_d_base(nn.BatchNorm2d)\n",
    "        #self.drn = gc_drn_54(nn.BatchNorm2d)\n",
    "        #self.model = mixnet_l()\n",
    "        self.model = resnet()\n",
    "        #self.model = drn_d_CBAM(nn.BatchNorm2d)\n",
    "        #self.attention = A_net(512)\n",
    "        #self.conv_out = nn.Conv2d(512,2,1)\n",
    "        self.avgpool = nn.AdaptiveAvgPool2d(1)\n",
    "        self._dropout = nn.Dropout(0.25)\n",
    "        #self.fc = nn.Linear(2048, 2)\n",
    "        self.fc = nn.Linear(2048, 2)\n",
    "        \n",
    "\n",
    "\n",
    "    def forward(self, input):\n",
    "        x = self.model(input)\n",
    "       #atten = self.attention(input)\n",
    "       #atten = torch.sigmoid(atten)\n",
    "       #x = torch.mul(x, atten)\n",
    "        #x = self.conv_out(x)\n",
    "        x = self.avgpool(x)\n",
    "        x = x.view(x.size(0), -1)\n",
    "        x = self.fc(x)\n",
    "        x = self._dropout(x)\n",
    "\n",
    "        return x\n",
    "\n",
    "def save_model(state,save_model_path,modelname):\n",
    "    filename = os.path.join(save_model_path,modelname+'_'+str(state['epoch']+1)+'.pth')\n",
    "    torch.save(state,filename)\n",
    "\n",
    "def save_best(state,save_model_path,modelname):\n",
    "    filename = os.path.join(save_model_path,modelname+'_'+'.pth')\n",
    "    torch.save(state,filename)\n",
    "\n",
    "def load_model(Net, optimizer, model_file):\n",
    "    assert os.path.exists(model_file),'There is no model file from'+model_file\n",
    "    checkpoint = torch.load(model_file)\n",
    "    print('load', model_file)\n",
    "    Net.load_state_dict(checkpoint['model_state_dict'])\n",
    "    start_epoch = checkpoint['epoch']+1\n",
    "    if optimizer is not None:\n",
    "        optimizer.load_state_dict(checkpoint['optimizer_state_dict'])\n",
    "    return Net, optimizer, start_epoch\n",
    "\n",
    "def train(model, data_loader, opt, loss, epoch,verbose = True):\n",
    "    model.train()\n",
    "    loss_avg = 0.0\n",
    "    correct = 0\n",
    "    for batch_idx, (data,target) in enumerate(data_loader):\n",
    "        #print(data.shape)\n",
    "        data, target = data.to(device), target.to(device)\n",
    "        optimizer.zero_grad()\n",
    "        output = model(data)\n",
    "        loss = loss_fn(output, target)\n",
    "        loss_avg = loss_avg + loss.item()\n",
    "        loss.backward()\n",
    "        optimizer.step()\n",
    "        pred = output.data.max(1, keepdim=True)[1] # get the index of the max log-probability\n",
    "        target = target[:,1].long()\n",
    "        correct += pred.eq(target.data.view_as(pred)).cpu().sum().item()\n",
    "        verbose_step = len(data_loader)\n",
    "        if (batch_idx+1)  % verbose_step == 0 and verbose:\n",
    "            print('Train Epoch: {}  Step [{}/{} ({:.0f}%)]  Loss: {:.6f}, Accuracy: {}/{} ({:.0f}%)\\n'.format(\n",
    "                epoch, batch_idx * len(data), len(train_idx),\n",
    "                100. * batch_idx / len(train_idx), loss.item(), correct, len(train_idx),\n",
    "            100. * correct / (len(train_idx))))\n",
    "    return loss_avg / (len(train_idx))\n",
    "\n",
    "def test(model, data_loader, loss):\n",
    "    with torch.no_grad():\n",
    "        model.eval()\n",
    "        test_loss = 0\n",
    "        correct = 0\n",
    "        correct_pe = 0\n",
    "        correct_normal = 0\n",
    "        y = []\n",
    "        y_score = []\n",
    "        y_pred = []\n",
    "        y_score = []\n",
    "        for data, target in data_loader:\n",
    "            data, target = data.to(device), target.to(device)\n",
    "            #print(target.shape)\n",
    "            output = model(data)\n",
    "            test_loss += loss_fn(output, target).item() # sum up batch loss\n",
    "            pred = output.data.max(1, keepdim=True)[1] # get the index of the max log-probability\n",
    "            #print(pred)\n",
    "            target = target[:,1].long()\n",
    "            correct += pred.eq(target.data.view_as(pred)).cpu().sum().item()\n",
    "            score = F.softmax(output, dim = 1)\n",
    "            for i in range(target.shape[0]):\n",
    "                y.append(target[i].cpu().numpy())\n",
    "                y_score.append(score[i,1].cpu().numpy())\n",
    "                y_pred.append(pred[i].cpu().numpy())\n",
    "                if target[i] == 1:\n",
    "                    correct_pe += pred[i].eq(target[i].data.view_as(pred[i])).cpu().sum().item()\n",
    "    \n",
    "                if target[i] == 0:\n",
    "                    correct_normal += pred[i].eq(target[i].data.view_as(pred[i])).cpu().sum().item()\n",
    "\n",
    "        test_loss /= len(data_loader.dataset)\n",
    "        print('\\nTest set: Average loss: {:.4f}, Accuracy: {}/{} ({:.0f}%), PE_acc: ({}), normal_acc: ({})\\n'.format(\n",
    "            test_loss, correct, len(data_loader.dataset),\n",
    "            100. * correct / len(data_loader.dataset), correct_pe, correct_normal))   \n",
    "    #return float(correct) / len(data_loader.dataset),y, y_score, y_pred\n",
    "    return float(correct) / len(data_loader.dataset)\n",
    "\n",
    "\n",
    "net = CNNX().to(device)\n",
    "\n",
    "class TripletLoss(nn.Module):\n",
    "    \"\"\"Triplet loss with hard positive/negative mining.\n",
    "    Reference:\n",
    "    Hermans et al. In Defense of the Triplet Loss for Person Re-Identification. arXiv:1703.07737.\n",
    "    Code imported from https://github.com/Cysu/open-reid/blob/master/reid/loss/triplet.py.\n",
    "    Args:\n",
    "        margin (float): margin for triplet.\n",
    "    \"\"\"\n",
    "\n",
    "    def __init__(self, margin=0.6, mutual_flag=False):\n",
    "        super(TripletLoss, self).__init__()\n",
    "        self.margin = margin\n",
    "        self.ranking_loss = nn.MarginRankingLoss(margin=margin)\n",
    "        self.mutual = mutual_flag\n",
    "\n",
    "    def forward(self, inputs, targets):\n",
    "        \"\"\"\n",
    "        Args:\n",
    "            inputs: feature matrix with shape (batch_size, feat_dim)\n",
    "            targets: ground truth labels with shape (num_classes)\n",
    "        \"\"\"\n",
    "        n = inputs.size(0)\n",
    "        # inputs = 1. * inputs / (torch.norm(inputs, 2, dim=-1, keepdim=True).expand_as(inputs) + 1e-12)\n",
    "        # Compute pairwise distance, replace by the official when merged\n",
    "        dist = torch.pow(inputs, 2).sum(dim=1, keepdim=True).expand(n, n)\n",
    "        dist = dist + dist.t()\n",
    "        dist.addmm_(1, -2, inputs, inputs.t())\n",
    "        dist = dist.clamp(min=1e-12).sqrt()  # for numerical stability\n",
    "        # For each anchor, find the hardest positive and negative\n",
    "        targets = targets[:,1]\n",
    "        mask = targets.expand(n, n).eq(targets.expand(n, n).t())\n",
    "        dist_ap, dist_an = [], []\n",
    "        for i in range(n):\n",
    "            dist_ap.append(dist[i][mask[i]].max().unsqueeze(0))\n",
    "            dist_an.append(dist[i][mask[i] == 0].min().unsqueeze(0))\n",
    "        dist_ap = torch.cat(dist_ap)\n",
    "        dist_an = torch.cat(dist_an)\n",
    "        # Compute ranking hinge loss\n",
    "        y = torch.ones_like(dist_an)\n",
    "        loss = self.ranking_loss(dist_an, dist_ap, y)\n",
    "        if self.mutual:\n",
    "            return loss, dist\n",
    "        return loss\n",
    "\n",
    "class remix_loss(nn.Module):\n",
    "    \"\"\"docstring for remix_loss\"\"\"\n",
    "    def __init__(self):\n",
    "        super(remix_loss, self).__init__()\n",
    "        self.loss1 = Focal_Loss()\n",
    "        self.loss2 = TripletLoss()\n",
    "    def forward(self, inputs, targets):\n",
    "        loss = self.loss1(inputs, targets) + self.loss2(inputs, np.argmax(targets))\n",
    "\n",
    "        return loss "
   ]
  },
  {
   "cell_type": "markdown",
   "id": "alien-watts",
   "metadata": {},
   "source": [
    "## Data process"
   ]
  },
  {
   "cell_type": "code",
   "execution_count": 20,
   "id": "acute-visibility",
   "metadata": {
    "scrolled": true
   },
   "outputs": [
    {
     "name": "stdout",
     "output_type": "stream",
     "text": [
      "['/home/ubuntu/Andrew/lung_datatset/']\n",
      "655 167 71\n"
     ]
    }
   ],
   "source": [
    "import glob\n",
    "\n",
    "folder_name =list(glob.glob('/home/ubuntu/Andrew/lung_datatset/'))\n",
    "print(folder_name)\n",
    "num_pic_1 = len(list(glob.glob('/home/ubuntu/Andrew/lung_datatset/PE/*')))\n",
    "num_pic_0 = len(list(glob.glob('/home/ubuntu/Andrew/lung_datatset/no_PE/*')))\n",
    "num_pic_3 = len(list(glob.glob('/home/ubuntu/Andrew/lung_datatset/PE_new/*')))\n",
    "print(num_pic_0,num_pic_1,num_pic_3)"
   ]
  },
  {
   "cell_type": "code",
   "execution_count": 21,
   "id": "western-sunday",
   "metadata": {},
   "outputs": [
    {
     "name": "stdout",
     "output_type": "stream",
     "text": [
      "655 238\n",
      "327 119 196 71\n",
      "327 119 196 71 132 48\n"
     ]
    }
   ],
   "source": [
    "CT_0 = list(glob.glob('/home/ubuntu/Andrew/lung_datatset/no_PE/*'))\n",
    "CT_1 = list(glob.glob('/home/ubuntu/Andrew/lung_datatset/PE/*'))+list(glob.glob('/home/ubuntu/Andrew/lung_datatset/PE_new/*'))\n",
    "#CT_1_1 = list(glob.glob('/home/ubuntu/Andrew/lung_datatset/no_PE/*'))\n",
    "#CT_1.append(CT_1_1)\n",
    "num_0 = len(CT_0)\n",
    "num_1 = len(CT_1)\n",
    "print(num_0,num_1)\n",
    "num_pic_0 = num_0\n",
    "num_pic_1 = num_1\n",
    "random.shuffle (CT_1)\n",
    "split_t_0 = int(train_size*num_pic_0)\n",
    "split_t_1 = int(train_size*num_pic_1)\n",
    "split_v_0 = int(valid_size*num_pic_0)\n",
    "split_v_1 = int(valid_size*num_pic_1)\n",
    "split_te_0 = int(test_size*num_pic_0)\n",
    "split_te_0 = int(test_size*num_pic_1)\n",
    "print(split_t_0,split_t_1,split_v_0,split_v_1)\n",
    "train_0 = CT_0[0:split_t_0]\n",
    "train_1 = CT_1[0:split_t_1]\n",
    "valid_0 = CT_0[split_t_0:split_t_0+split_v_0]\n",
    "valid_1 = CT_1[split_t_1:split_t_1+split_v_1]\n",
    "test_0 = CT_0[split_t_0+split_v_0:]\n",
    "test_1 = CT_1[split_t_1+split_v_1:]\n",
    "#test_0 = list(glob.glob('/home/ubuntu/Andrew/CT_CLA/v0/*'))\n",
    "#test_1 = list(glob.glob('/home/ubuntu/Andrew/CT_CLA/v1/*'))\n",
    "print(len(train_0),len(train_1),len(valid_0),len(valid_1),len(test_0),len(test_1))"
   ]
  },
  {
   "cell_type": "code",
   "execution_count": 22,
   "id": "working-spice",
   "metadata": {},
   "outputs": [],
   "source": [
    "def get_data(folder0, folder1, repeat):\n",
    "    class0_path = []\n",
    "    class1_path = []\n",
    "    target0 = []\n",
    "    target1 = []\n",
    "    for x in folder0:\n",
    "        #print(x)\n",
    "        class0 = x\n",
    "        #print(class0)\n",
    "        class0_path.append(class0)\n",
    "        target0.append(torch.tensor([1.0,0.0]).long())\n",
    "    for x in folder1:\n",
    "        #class1 = glob.glob(x + '/*dcm')\n",
    "        class1 = x\n",
    "        class1_path.append(class1)\n",
    "        target1.append(torch.tensor([0.0,1.0]).long())\n",
    "\n",
    "    #class0_path = random.sample(class0_path, k = len(class1_path))\n",
    "    #target0 = random.sample(target0, k = len(target1))\n",
    "    print(len(class0_path), len(class1_path))\n",
    "    file_path = class0_path + class1_path\n",
    "    target = target0 + target1\n",
    "    #print(file_path, target)\n",
    "    data = zip(file_path, target)\n",
    "    return data, len(class0_path), len(class1_path)"
   ]
  },
  {
   "cell_type": "code",
   "execution_count": 23,
   "id": "treated-cause",
   "metadata": {},
   "outputs": [
    {
     "name": "stdout",
     "output_type": "stream",
     "text": [
      "327 119\n",
      "196 71\n",
      "132 48\n"
     ]
    }
   ],
   "source": [
    "train_data, _, _ = get_data(train_0, train_1, 1)\n",
    "valid_data,pe0, pe1 = get_data(valid_0, valid_1, 1)\n",
    "test_data, _, _ = get_data(test_0, test_1, 1)"
   ]
  },
  {
   "cell_type": "code",
   "execution_count": 24,
   "id": "sustained-adrian",
   "metadata": {},
   "outputs": [
    {
     "name": "stdout",
     "output_type": "stream",
     "text": [
      "<class 'zip'>\n"
     ]
    }
   ],
   "source": [
    "print(type(train_data))"
   ]
  },
  {
   "cell_type": "code",
   "execution_count": 25,
   "id": "complex-baseball",
   "metadata": {},
   "outputs": [],
   "source": [
    "Train_Set = PE_transform(list(train_data), transform = None)\n",
    "Valid_Set = PE_transform(list(valid_data), transform = None)\n",
    "Test_Set = PE_transform(list(test_data), transform = None)"
   ]
  },
  {
   "cell_type": "code",
   "execution_count": 26,
   "id": "simple-anime",
   "metadata": {},
   "outputs": [],
   "source": [
    "num_train = len(list(Train_Set))\n",
    "num_valid = len(list(Valid_Set))\n",
    "indices = list(range(num_train))\n",
    "v_indices = list(range(num_valid))\n",
    "train_idx, valid_idx = indices, v_indices"
   ]
  },
  {
   "cell_type": "code",
   "execution_count": 27,
   "id": "limited-measure",
   "metadata": {},
   "outputs": [],
   "source": [
    "train_loader = DataLoader(Train_Set, batch_size=batch_size, shuffle = True,\n",
    "                        num_workers=8, pin_memory=True)\n",
    "valid_loader = DataLoader(Valid_Set, batch_size=test_bs, shuffle = False,\n",
    "                      num_workers=8, pin_memory=True)\n",
    "test_loader = DataLoader(Test_Set, batch_size=test_bs, shuffle = False,\n",
    "                      num_workers=8, pin_memory=True)"
   ]
  },
  {
   "cell_type": "code",
   "execution_count": 14,
   "id": "atmospheric-injury",
   "metadata": {},
   "outputs": [
    {
     "name": "stdout",
     "output_type": "stream",
     "text": [
      "Train Epoch: 0  Step [222/446 (25%)]  Loss: 0.900146, Accuracy: 315/446 (71%)\n",
      "\n",
      "\n",
      "Test set: Average loss: 0.2118, Accuracy: 196/267 (73%), PE_acc: (0), normal_acc: (196)\n",
      "\n",
      "0.7340823970037453\n"
     ]
    },
    {
     "ename": "KeyboardInterrupt",
     "evalue": "",
     "output_type": "error",
     "traceback": [
      "\u001b[0;31m---------------------------------------------------------------------------\u001b[0m",
      "\u001b[0;31mKeyboardInterrupt\u001b[0m                         Traceback (most recent call last)",
      "\u001b[0;32m<ipython-input-14-029e9b8004f5>\u001b[0m in \u001b[0;36m<module>\u001b[0;34m\u001b[0m\n\u001b[1;32m     44\u001b[0m     \u001b[0;31m#                    num_workers=4, pin_memory=True)\u001b[0m\u001b[0;34m\u001b[0m\u001b[0;34m\u001b[0m\u001b[0;34m\u001b[0m\u001b[0m\n\u001b[1;32m     45\u001b[0m     \u001b[0;31m#lr = adjust_learning_rate(learning_rate, optimizer, epoch, epoch_list=[80, 170])\u001b[0m\u001b[0;34m\u001b[0m\u001b[0;34m\u001b[0m\u001b[0;34m\u001b[0m\u001b[0m\n\u001b[0;32m---> 46\u001b[0;31m     \u001b[0mtrain_loss\u001b[0m \u001b[0;34m=\u001b[0m \u001b[0mtrain\u001b[0m\u001b[0;34m(\u001b[0m\u001b[0mnet\u001b[0m\u001b[0;34m,\u001b[0m \u001b[0mtrain_loader\u001b[0m\u001b[0;34m,\u001b[0m \u001b[0moptimizer\u001b[0m\u001b[0;34m,\u001b[0m \u001b[0mloss_fn\u001b[0m\u001b[0;34m,\u001b[0m \u001b[0mepoch\u001b[0m\u001b[0;34m,\u001b[0m \u001b[0mverbose\u001b[0m\u001b[0;34m=\u001b[0m\u001b[0;32mTrue\u001b[0m\u001b[0;34m)\u001b[0m\u001b[0;34m\u001b[0m\u001b[0;34m\u001b[0m\u001b[0m\n\u001b[0m\u001b[1;32m     47\u001b[0m     \u001b[0mvalid_acc\u001b[0m \u001b[0;34m=\u001b[0m \u001b[0mtest\u001b[0m\u001b[0;34m(\u001b[0m\u001b[0mnet\u001b[0m\u001b[0;34m,\u001b[0m \u001b[0mvalid_loader\u001b[0m\u001b[0;34m,\u001b[0m \u001b[0mloss_fn\u001b[0m\u001b[0;34m)\u001b[0m\u001b[0;34m\u001b[0m\u001b[0;34m\u001b[0m\u001b[0m\n\u001b[1;32m     48\u001b[0m     \u001b[0;31m#valid_acc, tp, tn = test(net, valid_loader, loss_fn)\u001b[0m\u001b[0;34m\u001b[0m\u001b[0;34m\u001b[0m\u001b[0;34m\u001b[0m\u001b[0m\n",
      "\u001b[0;32m<ipython-input-5-5602c2e4550e>\u001b[0m in \u001b[0;36mtrain\u001b[0;34m(model, data_loader, opt, loss, epoch, verbose)\u001b[0m\n\u001b[1;32m    161\u001b[0m         \u001b[0mpred\u001b[0m \u001b[0;34m=\u001b[0m \u001b[0moutput\u001b[0m\u001b[0;34m.\u001b[0m\u001b[0mdata\u001b[0m\u001b[0;34m.\u001b[0m\u001b[0mmax\u001b[0m\u001b[0;34m(\u001b[0m\u001b[0;36m1\u001b[0m\u001b[0;34m,\u001b[0m \u001b[0mkeepdim\u001b[0m\u001b[0;34m=\u001b[0m\u001b[0;32mTrue\u001b[0m\u001b[0;34m)\u001b[0m\u001b[0;34m[\u001b[0m\u001b[0;36m1\u001b[0m\u001b[0;34m]\u001b[0m \u001b[0;31m# get the index of the max log-probability\u001b[0m\u001b[0;34m\u001b[0m\u001b[0;34m\u001b[0m\u001b[0m\n\u001b[1;32m    162\u001b[0m         \u001b[0mtarget\u001b[0m \u001b[0;34m=\u001b[0m \u001b[0mtarget\u001b[0m\u001b[0;34m[\u001b[0m\u001b[0;34m:\u001b[0m\u001b[0;34m,\u001b[0m\u001b[0;36m1\u001b[0m\u001b[0;34m]\u001b[0m\u001b[0;34m.\u001b[0m\u001b[0mlong\u001b[0m\u001b[0;34m(\u001b[0m\u001b[0;34m)\u001b[0m\u001b[0;34m\u001b[0m\u001b[0;34m\u001b[0m\u001b[0m\n\u001b[0;32m--> 163\u001b[0;31m         \u001b[0mcorrect\u001b[0m \u001b[0;34m+=\u001b[0m \u001b[0mpred\u001b[0m\u001b[0;34m.\u001b[0m\u001b[0meq\u001b[0m\u001b[0;34m(\u001b[0m\u001b[0mtarget\u001b[0m\u001b[0;34m.\u001b[0m\u001b[0mdata\u001b[0m\u001b[0;34m.\u001b[0m\u001b[0mview_as\u001b[0m\u001b[0;34m(\u001b[0m\u001b[0mpred\u001b[0m\u001b[0;34m)\u001b[0m\u001b[0;34m)\u001b[0m\u001b[0;34m.\u001b[0m\u001b[0mcpu\u001b[0m\u001b[0;34m(\u001b[0m\u001b[0;34m)\u001b[0m\u001b[0;34m.\u001b[0m\u001b[0msum\u001b[0m\u001b[0;34m(\u001b[0m\u001b[0;34m)\u001b[0m\u001b[0;34m.\u001b[0m\u001b[0mitem\u001b[0m\u001b[0;34m(\u001b[0m\u001b[0;34m)\u001b[0m\u001b[0;34m\u001b[0m\u001b[0;34m\u001b[0m\u001b[0m\n\u001b[0m\u001b[1;32m    164\u001b[0m         \u001b[0mverbose_step\u001b[0m \u001b[0;34m=\u001b[0m \u001b[0mlen\u001b[0m\u001b[0;34m(\u001b[0m\u001b[0mdata_loader\u001b[0m\u001b[0;34m)\u001b[0m\u001b[0;34m\u001b[0m\u001b[0;34m\u001b[0m\u001b[0m\n\u001b[1;32m    165\u001b[0m         \u001b[0;32mif\u001b[0m \u001b[0;34m(\u001b[0m\u001b[0mbatch_idx\u001b[0m\u001b[0;34m+\u001b[0m\u001b[0;36m1\u001b[0m\u001b[0;34m)\u001b[0m  \u001b[0;34m%\u001b[0m \u001b[0mverbose_step\u001b[0m \u001b[0;34m==\u001b[0m \u001b[0;36m0\u001b[0m \u001b[0;32mand\u001b[0m \u001b[0mverbose\u001b[0m\u001b[0;34m:\u001b[0m\u001b[0;34m\u001b[0m\u001b[0;34m\u001b[0m\u001b[0m\n",
      "\u001b[0;31mKeyboardInterrupt\u001b[0m: "
     ]
    }
   ],
   "source": [
    "learning_rate = 0.0001\n",
    "optimizer = optim.SGD(net.parameters(), lr=learning_rate, momentum=0.9, weight_decay=1e-4)\n",
    "#optimizer = Ranger(net.parameters())\n",
    "\n",
    "# Train the model\n",
    "num_epochs = 250\n",
    "#model_name = 'resnet9'\n",
    "model_name = 'resnet_0615_nPE'\n",
    "#loss_fn = nn.BCELoss()\n",
    "loss_fn = Focal_Loss()\n",
    "output_path = 'log'\n",
    "resume = 'None'\n",
    "\n",
    "#resume = '/home/ubuntu/Andrew/PE_research/log/savemodel/0428_resbest_acc_.pth'\n",
    "#resume = '/home/ubuntu/Andrew/PE_research/log/savemodel/CT_class_resbest_acc_.pth'\n",
    "StartTime = time.time()\n",
    "loss, val_acc, lr_curve = [], [], []\n",
    "'''\n",
    "if resume is not None:\n",
    "    net, optimizer, _ = load_model(net, optimizer, resume)\n",
    "    #print('load', resume)\n",
    "\n",
    "'''\n",
    "best_acc = 0.0\n",
    "best = 0\n",
    "for epoch in range(num_epochs):\n",
    "\n",
    "    \n",
    "    #if (epoch+1)%5 == 0:\n",
    "    #    random.seed(epoch)\n",
    "    #    train_data = get_train_data(train_folder)\n",
    "    #    Train_Set = PE(list(train_data), transform = None)\n",
    "    #    train_loader = DataLoader(Train_Set, batch_size=batch_size, shuffle = True,\n",
    "    #                    num_workers=8, pin_memory=True)\n",
    "    #    class0_path = random.sample(class0_path, k = 3*len(class1_path))\n",
    "    #    target0 = random.sample(target0, k = 3*len(target1))\n",
    "    #    print(len(class0_path), len(class1_path))\n",
    "    #    file_path = class0_path + class1_path\n",
    "    #    target = target0 + target1\n",
    "    #    #print(file_path, target)\n",
    "    #    train_data = zip(file_path, target)\n",
    "    #    Train_Set = PE(list(train_data), transform = True)\n",
    "    #    train_loader = DataLoader(Train_Set, batch_size=batch_size, shuffle = True,\n",
    "    #                    num_workers=4, pin_memory=True)\n",
    "    #lr = adjust_learning_rate(learning_rate, optimizer, epoch, epoch_list=[80, 170])\n",
    "    train_loss = train(net, train_loader, optimizer, loss_fn, epoch, verbose=True)\n",
    "    valid_acc = test(net, valid_loader, loss_fn)\n",
    "    #valid_acc, tp, tn = test(net, valid_loader, loss_fn)\n",
    "    loss.append(train_loss)\n",
    "    #print((tn/pe0), tp/pe1)\n",
    "    val_acc.append(valid_acc)\n",
    "    if (epoch+1)%10 == 0 or epoch==num_epochs-1:\n",
    "        save_model({'epoch':epoch,\n",
    "                    'model_state_dict':net.state_dict(),\n",
    "                    'optimizer_state_dict':optimizer.state_dict(),\n",
    "                    },\n",
    "                    os.path.join(output_path,'savemodel'),model_name)\n",
    "    \n",
    "    #if tp/pe1 > 0.7 and tn>best:\n",
    "    if valid_acc >= best_acc:\n",
    "        #print((tn//pe0), tp//pe1)\n",
    "        print(valid_acc)\n",
    "        save_best({'epoch':epoch,\n",
    "                    'model_state_dict':net.state_dict(),\n",
    "                    'optimizer_state_dict':optimizer.state_dict(),\n",
    "                    },\n",
    "                    os.path.join(output_path,'savemodel'),'CT_class_0615_PE_resnet')\n",
    "        best_acc = valid_acc\n",
    "        #best = tn\n",
    "    "
   ]
  },
  {
   "cell_type": "markdown",
   "id": "developing-slovak",
   "metadata": {},
   "source": [
    "## DRN result"
   ]
  },
  {
   "cell_type": "code",
   "execution_count": 18,
   "id": "allied-seating",
   "metadata": {},
   "outputs": [
    {
     "name": "stdout",
     "output_type": "stream",
     "text": [
      "load /home/ubuntu/Andrew/PE_research/log/savemodel/CT_class_0606_PE_.pth\n",
      "\n",
      "Test set: Average loss: 0.1108, Accuracy: 150/166 (90%), PE_acc: (24), normal_acc: (126)\n",
      "\n",
      "Time Usage:  12:15:11\n"
     ]
    },
    {
     "data": {
      "image/png": "[encoded data removed]",
      "text/plain": [
       "<Figure size 432x288 with 1 Axes>"
      ]
     },
     "metadata": {
      "needs_background": "light"
     },
     "output_type": "display_data"
    },
    {
     "data": {
      "image/png": "[encoded data removed]",
      "text/plain": [
       "<Figure size 432x288 with 1 Axes>"
      ]
     },
     "metadata": {
      "needs_background": "light"
     },
     "output_type": "display_data"
    },
    {
     "data": {
      "image/png": "[encoded data removed]",
      "text/plain": [
       "<Figure size 432x288 with 1 Axes>"
      ]
     },
     "metadata": {
      "needs_background": "light"
     },
     "output_type": "display_data"
    }
   ],
   "source": [
    "net, _, _ = load_model(net, optimizer, '/home/ubuntu/Andrew/PE_research/log/savemodel/CT_class_0606_PE_.pth')\n",
    "test_acc = test(net, test_loader, loss_fn)\n",
    "'''\n",
    "net, _, _ = load_model(net, optimizer, '/home/ubuntu/Andrew/PE_research/log/savemodel/CT_class_resbest_acc_A1_.pth')\n",
    "test_acc = test(net, test_loader, loss_fn)\n",
    "net, _, _ = load_model(net, optimizer, '/home/ubuntu/Andrew/PE_research/log/savemodel/drn_10.pth')\n",
    "test_acc = test(net, test_loader, loss_fn)\n",
    "net, _, _ = load_model(net, optimizer, '/home/ubuntu/Andrew/PE_research/log/savemodel/drn_20.pth')\n",
    "test_acc = test(net, test_loader, loss_fn)\n",
    "net, _, _ = load_model(net, optimizer, '/home/ubuntu/Andrew/PE_research/log/savemodel/drn_30.pth')\n",
    "test_acc = test(net, test_loader, loss_fn)\n",
    "net, _, _ = load_model(net, optimizer, '/home/ubuntu/Andrew/PE_research/log/savemodel/drn_40.pth')\n",
    "test_acc = test(net, test_loader, loss_fn)\n",
    "net, _, _ = load_model(net, optimizer, '/home/ubuntu/Andrew/PE_research/log/savemodel/drn_50.pth')\n",
    "test_acc = test(net, test_loader, loss_fn)\n",
    "#test_acc, y, y_score, y_pred = test(net, test_loader, loss_fn)\n",
    "\n",
    "y = np.array(y)\n",
    "y_pred = np.array(y_pred)\n",
    "y_score = np.array(y_score)\n",
    "\n",
    "precision = precision_score(y, y_pred, average='weighted')\n",
    "recall = recall_score(y, y_pred, average='weighted')\n",
    "print('precision', precision, 'recall', recall)\n",
    "ftr, tpr, _ = roc_curve(y, y_pred)\n",
    "roc_auc = auc(ftr, tpr)\n",
    "print('auc', roc_auc)\n",
    "'''\n",
    "EndTime = time.time()\n",
    "print('Time Usage: ', str(datetime.timedelta(seconds=int(round(EndTime-StartTime)))))\n",
    "\n",
    "\n",
    "\n",
    "plt.figure()\n",
    "plt.plot(loss)\n",
    "plt.title('Train Loss')\n",
    "plt.xlabel('epochs')\n",
    "plt.ylabel('loss')\n",
    "plt.show()\n",
    "plt.figure()\n",
    "\n",
    "plt.plot(valid_acc)\n",
    "plt.title('accuracy')\n",
    "plt.xlabel('epochs')\n",
    "plt.ylabel('acc')\n",
    "plt.show()\n",
    "\n",
    "plt.figure()\n",
    "plt.plot(val_acc)\n",
    "plt.title('Valid Acc')\n",
    "plt.xlabel('epochs')\n",
    "plt.ylabel('accuracy')\n",
    "plt.show()"
   ]
  },
  {
   "cell_type": "markdown",
   "id": "subtle-naples",
   "metadata": {},
   "source": [
    "## ResNet result"
   ]
  },
  {
   "cell_type": "code",
   "execution_count": 25,
   "id": "vulnerable-jason",
   "metadata": {},
   "outputs": [
    {
     "name": "stdout",
     "output_type": "stream",
     "text": [
      "load /home/ubuntu/Andrew/PE_research/log/savemodel/CT_class_0608_PE_resnet_.pth\n",
      "\n",
      "Test set: Average loss: 0.1060, Accuracy: 169/180 (94%), PE_acc: (39), normal_acc: (130)\n",
      "\n",
      "Time Usage:  0:40:17\n"
     ]
    },
    {
     "data": {
      "image/png": "[encoded data removed]",
      "text/plain": [
       "<Figure size 432x288 with 1 Axes>"
      ]
     },
     "metadata": {
      "needs_background": "light"
     },
     "output_type": "display_data"
    },
    {
     "data": {
      "image/png": "[encoded data removed]",
      "text/plain": [
       "<Figure size 432x288 with 1 Axes>"
      ]
     },
     "metadata": {
      "needs_background": "light"
     },
     "output_type": "display_data"
    },
    {
     "data": {
      "image/png": "[encoded data removed]",
      "text/plain": [
       "<Figure size 432x288 with 1 Axes>"
      ]
     },
     "metadata": {
      "needs_background": "light"
     },
     "output_type": "display_data"
    }
   ],
   "source": [
    "net, _, _ = load_model(net, optimizer, '/home/ubuntu/Andrew/PE_research/log/savemodel/CT_class_0608_PE_resnet_.pth')\n",
    "test_acc = test(net, test_loader, loss_fn)\n",
    "EndTime = time.time()\n",
    "print('Time Usage: ', str(datetime.timedelta(seconds=int(round(EndTime-StartTime)))))\n",
    "\n",
    "\n",
    "\n",
    "plt.figure()\n",
    "plt.plot(loss)\n",
    "plt.title('Train Loss')\n",
    "plt.xlabel('epochs')\n",
    "plt.ylabel('loss')\n",
    "plt.show()\n",
    "\n",
    "plt.figure()\n",
    "plt.plot(valid_acc)\n",
    "plt.title('accuracy')\n",
    "plt.xlabel('epochs')\n",
    "plt.ylabel('acc')\n",
    "plt.show()\n",
    "\n",
    "plt.figure()\n",
    "plt.plot(val_acc)\n",
    "plt.title('Valid Acc')\n",
    "plt.xlabel('epochs')\n",
    "plt.ylabel('accuracy')\n",
    "plt.show()"
   ]
  },
  {
   "cell_type": "code",
   "execution_count": 32,
   "id": "above-ancient",
   "metadata": {},
   "outputs": [
    {
     "name": "stdout",
     "output_type": "stream",
     "text": [
      "79 0\n"
     ]
    }
   ],
   "source": [
    "testing_0 = list(glob.glob('/home/ubuntu/Andrew/lung_datatset/test/WNL/*'))\n",
    "testing_1 = list(glob.glob('/home/ubuntu/Andrew/lung_datatset/test/noPE/*'))\n",
    "testing_data, _, _ = get_data(testing_0, testing_1, 1)\n",
    "Testing_Set = PE_transform(list(testing_data), transform = None)\n",
    "testing_loader = DataLoader(Testing_Set, batch_size=test_bs, shuffle = False,\n",
    "                      num_workers=8, pin_memory=True)"
   ]
  },
  {
   "cell_type": "code",
   "execution_count": 33,
   "id": "adverse-steel",
   "metadata": {},
   "outputs": [],
   "source": [
    "net = CNNX().to(device)\n",
    "learning_rate = 0.0001\n",
    "optimizer = optim.SGD(net.parameters(), lr=learning_rate, momentum=0.9, weight_decay=1e-4)"
   ]
  },
  {
   "cell_type": "code",
   "execution_count": 35,
   "id": "human-planning",
   "metadata": {},
   "outputs": [
    {
     "name": "stdout",
     "output_type": "stream",
     "text": [
      "load /home/ubuntu/Andrew/PE_research/log/savemodel/CT_class_0608_PE_resnet_.pth\n",
      "\n",
      "Test set: Average loss: 0.0920, Accuracy: 64/79 (81%), PE_acc: (0), normal_acc: (64)\n",
      "\n"
     ]
    }
   ],
   "source": [
    "net, _, _ = load_model(net, optimizer, '/home/ubuntu/Andrew/PE_research/log/savemodel/CT_class_0608_PE_resnet_.pth')\n",
    "test_acc = test(net, testing_loader, loss_fn)"
   ]
  },
  {
   "cell_type": "code",
   "execution_count": null,
   "id": "promotional-mailman",
   "metadata": {},
   "outputs": [],
   "source": [
    "net, _, _ = load_model(net, optimizer, '/home/ubuntu/Andrew/PE_research/log/savemodel/CT_class_0606_a_.pth')\n",
    "test_acc = test(net, test_loader, loss_fn)\n",
    "EndTime = time.time()\n",
    "print('Time Usage: ', str(datetime.timedelta(seconds=int(round(EndTime-StartTime)))))\n",
    "\n",
    "\n",
    "\n",
    "plt.figure()\n",
    "plt.plot(loss)\n",
    "plt.title('Train Loss')\n",
    "plt.xlabel('epochs')\n",
    "plt.ylabel('loss')\n",
    "plt.show()\n",
    "\n",
    "plt.figure()\n",
    "plt.plot(valid_acc)\n",
    "plt.title('accuracy')\n",
    "plt.xlabel('epochs')\n",
    "plt.ylabel('acc')\n",
    "plt.show()\n",
    "\n",
    "plt.figure()\n",
    "plt.plot(val_acc)\n",
    "plt.title('Valid Acc')\n",
    "plt.xlabel('epochs')\n",
    "plt.ylabel('accuracy')\n",
    "plt.show()"
   ]
  },
  {
   "cell_type": "code",
   "execution_count": null,
   "id": "statistical-genealogy",
   "metadata": {},
   "outputs": [],
   "source": [
    "testing_0 = list(glob.glob('/home/ubuntu/Andrew/CT_CLA/v0/*'))\n",
    "testing_1 = list(glob.glob('/home/ubuntu/Andrew/CT_CLA/v1/*'))\n",
    "testing_data, _, _ = get_data(testing_0, testing_1, 1)\n",
    "Testing_Set = PE_transform(list(testing_data), transform = None)\n",
    "testing_loader = DataLoader(Testing_Set, batch_size=test_bs, shuffle = False,\n",
    "                      num_workers=8, pin_memory=True)"
   ]
  },
  {
   "cell_type": "markdown",
   "id": "immune-charter",
   "metadata": {},
   "source": [
    "NEW_dataset/20210604"
   ]
  },
  {
   "cell_type": "code",
   "execution_count": null,
   "id": "assured-indianapolis",
   "metadata": {},
   "outputs": [],
   "source": [
    "testing_0 = list(glob.glob('/home/ubuntu/Andrew/lung_datatset/WNL/*'))\n",
    "testing_1 = list(glob.glob('/home/ubuntu/Andrew/lung_datatset/no_PE/*'))\n",
    "testing_data, _, _ = get_data(testing_0, testing_1, 1)\n",
    "Testing_Set = PE_transform(list(testing_data), transform = None)\n",
    "testing_loader = DataLoader(Testing_Set, batch_size=test_bs, shuffle = False,\n",
    "                      num_workers=8, pin_memory=True)"
   ]
  },
  {
   "cell_type": "code",
   "execution_count": null,
   "id": "removed-facility",
   "metadata": {},
   "outputs": [],
   "source": [
    "optimizer = optim.SGD(net.parameters(), lr=0.0001, momentum=0.9, weight_decay=1e-4)\n",
    "loss_fn = Focal_Loss()"
   ]
  },
  {
   "cell_type": "code",
   "execution_count": null,
   "id": "biblical-safety",
   "metadata": {},
   "outputs": [],
   "source": [
    "#net, _, _ = load_model(net, optimizer, '/home/ubuntu/Andrew/PE_research/log/savemodel/CT_class_resbest_acc_A1_.pth')\n",
    "#testing_acc = test(net, testing_loader, loss_fn)\n",
    "\n",
    "net, _, _ = load_model(net, optimizer, '/home/ubuntu/Andrew/PE_research/log/savemodel/drn_10.pth')\n",
    "testing_acc = test(net, testing_loader, loss_fn)\n",
    "'''\n",
    "net, _, _ = load_model(net, optimizer, '/home/ubuntu/Andrew/PE_research/log/savemodel/drn_20.pth')\n",
    "testing_acc = test(net, testing_loader, loss_fn)\n",
    "net, _, _ = load_model(net, optimizer, '/home/ubuntu/Andrew/PE_research/log/savemodel/drn_30.pth')\n",
    "testing_acc = test(net, testing_loader, loss_fn)\n",
    "net, _, _ = load_model(net, optimizer, '/home/ubuntu/Andrew/PE_research/log/savemodel/drn_40.pth')\n",
    "testing_acc = test(net, testing_loader, loss_fn)\n",
    "net, _, _ = load_model(net, optimizer, '/home/ubuntu/Andrew/PE_research/log/savemodel/drn_50.pth')\n",
    "testing_acc = test(net, testing_loader, loss_fn)\n",
    "'''"
   ]
  },
  {
   "cell_type": "code",
   "execution_count": null,
   "id": "suburban-inside",
   "metadata": {},
   "outputs": [],
   "source": []
  }
 ],
 "metadata": {
  "kernelspec": {
   "display_name": "Python 3",
   "language": "python",
   "name": "python3"
  },
  "language_info": {
   "codemirror_mode": {
    "name": "ipython",
    "version": 3
   },
   "file_extension": ".py",
   "mimetype": "text/x-python",
   "name": "python",
   "nbconvert_exporter": "python",
   "pygments_lexer": "ipython3",
   "version": "3.7.6"
  }
 },
 "nbformat": 4,
 "nbformat_minor": 5
}
